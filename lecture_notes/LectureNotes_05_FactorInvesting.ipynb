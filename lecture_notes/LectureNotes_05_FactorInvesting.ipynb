{
 "cells": [
  {
   "cell_type": "markdown",
   "metadata": {
    "editable": true,
    "slideshow": {
     "slide_type": "slide"
    },
    "tags": []
   },
   "source": [
    "# Big Data in Finance: Part IV <BR><BR> Lecture Notes 5: Factor Investing \n",
    "    \n",
    "**Instructor** <BR>\n",
    "Kirsten Burr, kburr26@gsb.columbia.edu\n",
    "    \n",
    "**TA's:** <BR>\n",
    "Dian Jiao, dj2526@columbia.edu <BR>\n",
    "Varuun Deshpande, vdeshpande25@gsb.columbia.edu\n",
    "    \n",
    "<sub> Credit: lecture notes originally developed by Lira Mota"
   ]
  },
  {
   "cell_type": "markdown",
   "metadata": {
    "editable": true,
    "slideshow": {
     "slide_type": "slide"
    },
    "tags": []
   },
   "source": [
    "## What have we covered?\n",
    "\n",
    "1. Overview of CRSP\n",
    "2. Overview of Compustat\n",
    "3. Merge CRSP and Compustat\n",
    "4. Characteristics needed for Fama and French 5-Factor Model (FF5)"
   ]
  },
  {
   "cell_type": "markdown",
   "metadata": {
    "editable": true,
    "slideshow": {
     "slide_type": "subslide"
    },
    "tags": []
   },
   "source": [
    "**Download (FI)nance (RE)search Python Tools: fire_pytools**\n",
    "\n",
    "* To make our lives easier, we will use a fire_pytools package.\n",
    "\n",
    "* Written by our alumni, Lira Mota\n",
    "    - Find the orginal package [here](https://bitbucket.org/liramota/fire_pytools/src)\n",
    "    - **Download a version of the package compatible with the latest pandas updates [here](https://github.com/kburr97/fire_pytools)**\n",
    "\n",
    "* This is a collection of useful functions in finance research.\n",
    "    - Direct download of CRSP and Compustat from WRDS server\n",
    "    - Direct download of Ken French data library\n",
    "    - Portfolio sorts tools\n",
    "    - Replicate Fama and French factors"
   ]
  },
  {
   "cell_type": "markdown",
   "metadata": {
    "editable": true,
    "slideshow": {
     "slide_type": "slide"
    },
    "tags": []
   },
   "source": [
    "## Today's Objectives\n",
    "\n",
    "1. Review the MVE, CAPM, and building factor models\n",
    "2. Construct FF5 characteristic-sorted portfolios\n",
    "3. Study the mom vs. short-term reversal strategies\n",
    "4. Fama-MacBeth regressions\n",
    "5. Alpha evaluation\n",
    "6. Homework: Momentum "
   ]
  },
  {
   "cell_type": "markdown",
   "metadata": {
    "editable": true,
    "slideshow": {
     "slide_type": "slide"
    },
    "tags": []
   },
   "source": [
    "## Mean Variance Efficient (MVE) Portfolio"
   ]
  },
  {
   "cell_type": "markdown",
   "metadata": {
    "slideshow": {
     "slide_type": "subslide"
    },
    "tags": []
   },
   "source": [
    "### What is the mean-variance efficient (MVE) portfolio?\n",
    "* A key concept in asset pricing is the mean-variance efficient portfolio\n",
    "(MVE)\n",
    "* A MVE portfolio is a zero-investment portfolio that gives\n",
    "    * the maximum possible expected excess return for any level of variance\n",
    "    * the minimum possible variance for any expected excess return\n",
    "* An investor with mean-variance preferences will always hold this portfolio\n",
    "    * An investor with other preferences will generally hold this portfolio along with hedging portfolios [(Merton 1971)](https://www.sciencedirect.com/science/article/pii/002205317190038X)"
   ]
  },
  {
   "cell_type": "markdown",
   "metadata": {
    "slideshow": {
     "slide_type": "subslide"
    },
    "tags": []
   },
   "source": [
    "### What are the portfolio weights for the MVE portfolio?\n",
    "Given the vector of expected excess returns for a set of assets $(\\mu)$ and the covariance matrix of excess returns $(\\Sigma)$, we can determine the vector of MVE portfolio weights on each asset $\\omega^*_{MVE}$.\n",
    "$$\n",
    "\\begin{aligned}\n",
    "    \\max_{\\omega} E[r_p] &= \\omega^{\\prime} \\mu \\quad s.t. \\ \\sigma_p^2 = \\omega^{\\prime} \\sum \\omega\\\\\\\\\n",
    "    \\implies \\mathscr L &=\\omega^{\\prime} \\mu-\\frac{\\lambda}{2}\\left(\\omega^{\\prime} \\sum \\omega-\\sigma_p^2\\right)\\\\\n",
    "    \\text{FOC: } \\frac{\\partial \\mathscr{L}}{\\partial \\omega^{\\prime}}&=\\mu-\\lambda \\Sigma \\omega \n",
    "\\end{aligned} \n",
    "$$\n",
    "where the last line must be equal to zero when $\\omega = \\omega^*_{MVE}$.\n",
    "$$\n",
    "\\begin{aligned}\n",
    "    \\implies \\omega^*_{MVE} = \\frac{1}{\\lambda}\\Sigma^{-1}\\mu\\\\\n",
    "    \\implies E[r_{MVE}] = \\omega^{*\\prime}_{MVE}\\mu\n",
    "\\end{aligned} \n",
    "$$"
   ]
  },
  {
   "cell_type": "markdown",
   "metadata": {
    "editable": true,
    "slideshow": {
     "slide_type": "subslide"
    },
    "tags": []
   },
   "source": [
    "### The Capital Market Line (CML)\n",
    "The **capital market line** (CML) represents portfolios that optimally combine risk and return, where the measure of risk is the standard deviation of returns (total risk) and investors can borrow/lend at the risk-free rate of return.  \n",
    "\n",
    "<table><tr><td><img src=\"./mve/efficient frontier.png\" width=\"600\" height=\"300\"/></td></tr></table>"
   ]
  },
  {
   "cell_type": "markdown",
   "metadata": {
    "editable": true,
    "slideshow": {
     "slide_type": "subslide"
    },
    "tags": []
   },
   "source": [
    "### The Efficicent Frontier\n",
    "The mean-variance **efficient frontier** represents all portfolios of *risky* securities (like stocks) with the maximum return for each level of volatility. \n",
    "\n",
    "<table><tr><td><img src=\"./mve/efficient frontier.png\" width=\"300\" height=\"150\" align=\"center\"/></td></tr></table>"
   ]
  },
  {
   "cell_type": "markdown",
   "metadata": {
    "slideshow": {
     "slide_type": "fragment"
    },
    "tags": []
   },
   "source": [
    "* Portfolios outside the frontier are infeasible (not possible to get this return with volatility this low).\n",
    "* Portfolios inside the frontier are feasible but inefficient (its always possible to achieve these returns while taking on less risk)."
   ]
  },
  {
   "cell_type": "markdown",
   "metadata": {
    "editable": true,
    "slideshow": {
     "slide_type": "subslide"
    },
    "tags": []
   },
   "source": [
    "* The CML differs from the efficient frontier in that it includes risk-free investments. \n",
    "* The intercept point of CML and efficient frontier would result in the most efficient portfolio, called the **tangency portfolio**."
   ]
  },
  {
   "cell_type": "markdown",
   "metadata": {
    "editable": true,
    "slideshow": {
     "slide_type": "subslide"
    },
    "tags": []
   },
   "source": [
    "### The Security Market Line (SML)\n",
    "The **security market line** (SML) is derived from the CML, and, given the return and volatility of the MVE portfolio at any given point in time, it shows the systematic risk of individual assets.\n",
    "<table><tr><td><img src=\"./mve/CML.png\" width=\"600\" height=\"300\"></td><td><img src=\"./mve/SML.png\" width=\"600\" height=\"300\"></td></tr></table>"
   ]
  },
  {
   "cell_type": "markdown",
   "metadata": {
    "slideshow": {
     "slide_type": "subslide"
    },
    "tags": []
   },
   "source": [
    "#### Deriving the SML\n",
    "A property of the MVE is that its covariance with every asset is proportional to the asset's expected return.\n",
    "$$\n",
    "\\begin{aligned}\n",
    "\\operatorname{cov}(r, r_{MVE}) &= \\Sigma \\omega_{MVE}\\\\\n",
    "&= \\frac{1}{\\lambda}\\Sigma\\Sigma^{-1}\\mu = \\frac{1}{\\lambda}\\mu\\\\\n",
    "\\implies \\mu &= \\lambda\\operatorname{cov}(r, r_{MVE})\n",
    "\\end{aligned}\n",
    "$$\n",
    "And, since this must hold for the MVE portfolio as well, we have \n",
    "$$\n",
    "\\begin{aligned}\n",
    "\\mu_{MVE} &= \\lambda\\operatorname{cov}(r_{MVE}, r_{MVE}) = \\sigma^2_{MVE}\\\\\n",
    "\\implies \\lambda &= \\frac{\\mu_{MVE}}{\\sigma^2_{MVE}} = \\frac{\\mu}{\\operatorname{cov}(r, r_{MVE})}\\\\\n",
    "\\implies \\mu &= \\frac{\\operatorname{cov}(r, r_{MVE})}{\\sigma^2_{MVE}}\\mu_{MVE} \\equiv \\beta \\mu_{MVE}\n",
    "\\end{aligned}\n",
    "$$"
   ]
  },
  {
   "cell_type": "markdown",
   "metadata": {
    "editable": true,
    "slideshow": {
     "slide_type": "subslide"
    },
    "tags": []
   },
   "source": [
    "#### Plotting the SML\n",
    "For each asset return, we can plot them based upon their covariance with the MVE portfolio (i.e. beta or systematic risk):\n",
    "<table><tr><td><img src=\"./mve/SML.png\" width=\"500\" height=\"250\"></td></tr></table>"
   ]
  },
  {
   "cell_type": "markdown",
   "metadata": {
    "editable": true,
    "slideshow": {
     "slide_type": "fragment"
    },
    "tags": []
   },
   "source": [
    "* Similarly to the CML, securities that are fairly priced will plot on the SML.\n",
    "* Securities above the SML have returns too high for the given risk (underpriced). \n",
    "* Securities below the SML have returns that are too low for the given risk (overpriced)."
   ]
  },
  {
   "cell_type": "markdown",
   "metadata": {
    "slideshow": {
     "slide_type": "subslide"
    },
    "tags": []
   },
   "source": [
    "### Testing the Market Portfolio\n",
    "Because the covariance of every asset with the MVE portfolio is proportional to the asset's expected return, this relationship means the we can test whether a given portfolio is MVE by testing whether there exists a portfolio for which the expected return doesn’t line up with its beta."
   ]
  },
  {
   "cell_type": "markdown",
   "metadata": {
    "editable": true,
    "slideshow": {
     "slide_type": "subslide"
    },
    "tags": []
   },
   "source": [
    "#### CAPM \n",
    "* If we believe that all investors in the market are mean-variance efficient, then we can say under some additional assumptions that the market portfolio is MVE.\n",
    "    * All MVE investors will choose a position on the capital market line, in equilibrium, by borrowing or lending at the risk-free rate, since this maximizes return for a given level of risk.\n",
    "    * This is the **capital asset pricing model (CAPM)**, the first pricing model to come out of modern finance. "
   ]
  },
  {
   "cell_type": "markdown",
   "metadata": {
    "slideshow": {
     "slide_type": "subslide"
    },
    "tags": []
   },
   "source": [
    "* According to the CAPM:\n",
    "$$ \n",
    "E[r] = \\beta E[r_{mkt}]\n",
    "$$\n",
    "where \n",
    "\n",
    "$r=$ vector of excess returns, \n",
    "\n",
    "$r_{mkt}=$ vector of the market portfolios returns, and \n",
    "\n",
    "$\\beta= \\frac{\\operatorname {cov} ( r, r_{mkt})}{\\sigma_{mkt}^2} =$ projection (regression) coefficients for\n",
    "$$ r = \\alpha + \\beta r_{mkt} +  \\epsilon$$"
   ]
  },
  {
   "cell_type": "markdown",
   "metadata": {
    "slideshow": {
     "slide_type": "fragment"
    },
    "tags": []
   },
   "source": [
    "- Notice: If the market is MVE, then $E[r] = \\beta E[r_{mkt}]$.\n",
    "- Thus, $\\alpha = 0$ if and only if the market is MVE.\n",
    "- Thus, we can test whether the market is MVE by trying to find a portfolio that generates $\\alpha \\neq 0$."
   ]
  },
  {
   "cell_type": "markdown",
   "metadata": {
    "slideshow": {
     "slide_type": "subslide"
    },
    "tags": []
   },
   "source": [
    "- If we find that the market isn't MVE, what do we do?"
   ]
  },
  {
   "cell_type": "markdown",
   "metadata": {
    "slideshow": {
     "slide_type": "fragment"
    },
    "tags": []
   },
   "source": [
    "- We create new \"factors\" where the MVE portfolio will be in the span of the resulting factor portfolios."
   ]
  },
  {
   "cell_type": "markdown",
   "metadata": {
    "editable": true,
    "slideshow": {
     "slide_type": "slide"
    },
    "tags": []
   },
   "source": [
    "## Traded Factor Portfolios"
   ]
  },
  {
   "cell_type": "markdown",
   "metadata": {
    "editable": true,
    "slideshow": {
     "slide_type": "subslide"
    },
    "tags": []
   },
   "source": [
    "### What are Traded factor portfolios?\n",
    "* Traded factor portfolios are long-short portfolios that capture the common influence of some source of risk. \n",
    "* They are zero-investment portfolios, meaning they are fully self-financing. \n",
    "* By borrowing and short selling some securities, the long position in other securities is fully financed with no additional investment required."
   ]
  },
  {
   "cell_type": "markdown",
   "metadata": {
    "editable": true,
    "slideshow": {
     "slide_type": "subslide"
    },
    "tags": []
   },
   "source": [
    "### How do we build traded factor portfolios?\n",
    "1. Sort all stocks on the characteristic (e.g. book-to-market),\n",
    "2. Then take the the highest B/M stocks and go long and take the lowest B/M stocks and go short."
   ]
  },
  {
   "cell_type": "markdown",
   "metadata": {
    "editable": true,
    "slideshow": {
     "slide_type": "fragment"
    },
    "tags": []
   },
   "source": [
    "- How do we know how high is highest and low is lowest? \n",
    "    - Breakpoints\n",
    "    - Using the breakpoints of Fama and French, we cut off highest at 70%ile and lowest at 30%ile"
   ]
  },
  {
   "cell_type": "markdown",
   "metadata": {
    "editable": true,
    "slideshow": {
     "slide_type": "fragment"
    },
    "tags": []
   },
   "source": [
    "<table><tr><td><img src=\"./ff6.png\" width=\"500\" height=\"250\"></td></tr></table>"
   ]
  },
  {
   "cell_type": "markdown",
   "metadata": {
    "editable": true,
    "slideshow": {
     "slide_type": "subslide"
    },
    "tags": []
   },
   "source": [
    "### Testing traded factor portfolios \n",
    "If we run the regression of a long-short portfolio of stocks that were sorted on some characteristic (eg. B/M) on the market and see a positive alpha,    \n",
    "    $$\n",
    "    HML_t = \\alpha + \\beta (R_{mkt}-r_f) + \\epsilon_t\n",
    "    $$\n",
    "- then it must be that the market is not MVE, meaning there is some return from the portfolio that is orthogonal to that of the market.\n",
    "- We can build a fully self financed portfolio that goes long high B/M stocks and short low B/M stocks to gain to capture the common return from that source of risk.\n",
    "- Thus, a mean-variance investor should always hold some combination of these portfolios.\n",
    "    - And that combination is found by using the $\\omega^*_{MVE}$ formula."
   ]
  },
  {
   "cell_type": "markdown",
   "metadata": {
    "editable": true,
    "slideshow": {
     "slide_type": "slide"
    },
    "tags": []
   },
   "source": [
    "## ... and the Cross-Section of Expected Returns\n",
    "\n",
    "* [Harvey, Liu and Zhu (RFS, 2016)](https://academic.oup.com/rfs/article/29/1/5/1843824)\n",
    "    * \"Hundreds of papers and factors attempt to explain the cross-section of expected returns.\" \n",
    "    * They [list 313 papers](http://faculty.fuqua.duke.edu/~charvey/Factor-List.xlsx) published in a selection of journals that study cross-sectional return patterns.\n",
    "* The majority of those papers follow: \n",
    "    1. We show that stocks with high value of x on average outperform stocks with low value of x.\n",
    "    2. Is it robust? Run a Fama-MacBeth regression;\n",
    "    3. Is it explained by risk? Form a long-short portfolio based on the new characteristic sort. Test if this portfolio earns an \"alpha\" with respect the benchmark model."
   ]
  },
  {
   "cell_type": "markdown",
   "metadata": {
    "slideshow": {
     "slide_type": "slide"
    }
   },
   "source": [
    "## Set Up"
   ]
  },
  {
   "cell_type": "code",
   "execution_count": 1,
   "metadata": {
    "editable": true,
    "slideshow": {
     "slide_type": "fragment"
    },
    "tags": []
   },
   "outputs": [],
   "source": [
    "#%% Packages \n",
    "import sys\n",
    "import pandas as pd\n",
    "import numpy as np\n",
    "import datetime\n",
    "\n",
    "import statsmodels.api as sm\n",
    "import statsmodels.formula.api as smf\n",
    "\n",
    "import matplotlib.pyplot as plt\n",
    "\n",
    "import time\n",
    "from time import strptime, strftime\n",
    "\n",
    "# Setups\n",
    "pd.set_option(\"display.max_rows\", 100) # max number or rows to be displayed \n",
    "%matplotlib inline \n",
    "plt.rcParams['figure.figsize'] = [10, 6]\n",
    "idx = pd.IndexSlice"
   ]
  },
  {
   "cell_type": "markdown",
   "metadata": {
    "editable": true,
    "slideshow": {
     "slide_type": "subslide"
    },
    "tags": []
   },
   "source": [
    "**Download (FI)nance (RE)search Python Tools: fire_pytools**\n",
    "\n",
    "* To make our lives easier, we will use a fire_pytools package.\n",
    "\n",
    "* Written by our alumni, Lira Mota\n",
    "    - Find the orginal package [here](https://bitbucket.org/liramota/fire_pytools/src)\n",
    "    - **Download a version of the package compatible with the latest pandas updates [here](https://github.com/kburr97/fire_pytools)**\n",
    "\n",
    "* This is a collection of useful functions in finance research.\n",
    "    - Direct download of CRSP and Compustat from WRDS server\n",
    "    - Direct download of Ken French data library\n",
    "    - Portfolio sorts tools\n",
    "    - Replicate Fama and French factors"
   ]
  },
  {
   "cell_type": "code",
   "execution_count": 2,
   "metadata": {
    "editable": true,
    "slideshow": {
     "slide_type": "subslide"
    },
    "tags": []
   },
   "outputs": [],
   "source": [
    "# Packages from fire_pytools\n",
    "sys.path.append(\"../../fire_pytools\") \n",
    "\n",
    "# Data Import\n",
    "from data_setup import stock_monthly\n",
    "from data_setup import stock_annual\n",
    "\n",
    "# Functions \n",
    "from utils.monthly_date import *\n",
    "from portools.find_breakpoints import find_breakpoints\n",
    "from portools.sort_portfolios import sort_portfolios\n",
    "from import_kf.kf_factors import *"
   ]
  },
  {
   "cell_type": "markdown",
   "metadata": {
    "editable": true,
    "slideshow": {
     "slide_type": "slide"
    },
    "tags": []
   },
   "source": [
    "## Download Data"
   ]
  },
  {
   "cell_type": "code",
   "execution_count": 3,
   "metadata": {
    "editable": true,
    "slideshow": {
     "slide_type": "fragment"
    },
    "tags": []
   },
   "outputs": [
    {
     "data": {
      "text/plain": [
       "Index(['permno', 'date', 'dlret', 'dlretx', 'exchcd', 'naics', 'permco', 'prc',\n",
       "       'ret', 'shrcd', 'shrout', 'siccd', 'ticker', 'rankyear', 'retadj', 'me',\n",
       "       'lag_me', 'lag_dlret', 'melag_weights', 'mdate', 'rf'],\n",
       "      dtype='object')"
      ]
     },
     "execution_count": 3,
     "metadata": {},
     "output_type": "execute_result"
    }
   ],
   "source": [
    "# mdata = stock_monthly.main()\n",
    "# mdata.to_pickle(path = '../stock_monthly.pkl')\n",
    "mdata = pd.read_pickle('../stock_monthly.pkl')\n",
    "mdata.columns"
   ]
  },
  {
   "cell_type": "code",
   "execution_count": 4,
   "metadata": {
    "editable": true,
    "slideshow": {
     "slide_type": "fragment"
    },
    "tags": []
   },
   "outputs": [
    {
     "data": {
      "text/plain": [
       "Index(['gvkey', 'datadate', 'cusip', 'tic', 'cik', 'conm', 'fyear', 'fyr',\n",
       "       'aqc', 'at', 'capx', 'ceq', 'ch', 'che', 'cogs', 'csho', 'dlc', 'dlcch',\n",
       "       'dltis', 'dltt', 'dltr', 'dp', 'dv', 'dvc', 'dvp', 'ebit', 'ebitda',\n",
       "       'ib', 'icapt', 'itcb', 'ivao', 'lt', 'mib', 'naicsh', 'ni', 'oibdp',\n",
       "       'ppegt', 'prstkc', 'prstkcc', 'pstk', 'pstkl', 'pstkrv', 're', 'rstche',\n",
       "       'rstchelt', 'sale', 'seq', 'sppe', 'sich', 'sstk', 'txdb', 'txdi',\n",
       "       'txditc', 'wcapch', 'xint', 'xrd', 'xsga', 'prba', 'be', 'op', 'opbe',\n",
       "       'inv_gvkey', 'rankyear', 'ner', 'nert', 'ndi', 'fdat', 'fdat_net',\n",
       "       'ltat', 'fdbe', 'fdbe_net', 'permno', 'permco', 'linkdt', 'linkenddt',\n",
       "       'inv_permco', 'mejune', 'mesum_june', 'medec', 'exchcd', 'shrcd',\n",
       "       'ticker', 'siccd', 'mesum_dec', 'beme', 'sich_filled'],\n",
       "      dtype='object')"
      ]
     },
     "execution_count": 4,
     "metadata": {},
     "output_type": "execute_result"
    }
   ],
   "source": [
    "# adata = stock_annual.main()\n",
    "# adata.to_pickle('../stock_annual.pkl')\n",
    "adata = pd.read_pickle('../stock_annual.pkl')\n",
    "adata.columns"
   ]
  },
  {
   "cell_type": "code",
   "execution_count": 5,
   "metadata": {
    "editable": true,
    "slideshow": {
     "slide_type": "subslide"
    },
    "tags": []
   },
   "outputs": [],
   "source": [
    "# Create excess returns\n",
    "mdata['exret'] = mdata['retadj'] - mdata['rf']"
   ]
  },
  {
   "cell_type": "markdown",
   "metadata": {
    "editable": true,
    "slideshow": {
     "slide_type": "slide"
    },
    "tags": []
   },
   "source": [
    "## Clean Data"
   ]
  },
  {
   "cell_type": "markdown",
   "metadata": {
    "editable": true,
    "slideshow": {
     "slide_type": "subslide"
    },
    "tags": []
   },
   "source": [
    "### Share type - select only common stocks \n",
    "\n",
    "**First Digit - Security Type** <BR>\n",
    "1\tOrdinary Common Shares <BR>\n",
    "2\tCertificates <BR>\n",
    "3\tADRs (American Depository Receipts) <BR>\n",
    "4\tSBIs (Shares of Beneficial Interest) <BR>\n",
    "7\tUnits (Depository Units, Units of Benefic ial Interest, Units of Limited Partnership Interest, Depository Receipts, etc.) <BR> <BR>\n",
    "\n",
    "**Second Digit - Share Code - Security Type** <BR>\n",
    "0\tSecurities which have not been further defined. <BR>\n",
    "1\tSecurities which need not be further defined. <BR>\n",
    "2\tCompanies incorporated outside the US <BR>\n",
    "3\tAmericus Trust Components (Primes and Scores). <BR>\n",
    "4\tClosed-end funds. <BR>\n",
    "5\tClosed-end fund companies incorporated outside the US <BR>\n",
    "8\tREIT's (Real Estate Investment Trusts). <BR>"
   ]
  },
  {
   "cell_type": "code",
   "execution_count": 6,
   "metadata": {
    "editable": true,
    "slideshow": {
     "slide_type": "subslide"
    },
    "tags": []
   },
   "outputs": [
    {
     "data": {
      "text/plain": [
       "75.40208273798191"
      ]
     },
     "execution_count": 6,
     "metadata": {},
     "output_type": "execute_result"
    }
   ],
   "source": [
    "mdata.shrcd.isin([10, 11]).mean() * 100 "
   ]
  },
  {
   "cell_type": "code",
   "execution_count": 7,
   "metadata": {
    "editable": true,
    "slideshow": {
     "slide_type": "fragment"
    },
    "tags": []
   },
   "outputs": [],
   "source": [
    "mdata = mdata[mdata.shrcd.isin([10, 11])]"
   ]
  },
  {
   "cell_type": "markdown",
   "metadata": {
    "editable": true,
    "slideshow": {
     "slide_type": "subslide"
    },
    "tags": []
   },
   "source": [
    "### Select stocks traded on the major stock exchanges\n",
    "\n",
    "-2\tHalted by the NYSE or AMEX <BR>\n",
    "-1\tSuspended by the NYSE, AMEX, or NASDAQ <BR>\n",
    "0\tNot Trading on NYSE, AMEX, or NASDAQ <BR>\n",
    "1\tNew York Stock Exchange <BR>\n",
    "2\tAmerican Stock Exchange <BR>\n",
    "3\tThe Nasdaq Stock Market(SM) <BR>\n",
    "4\tThe Arca Stock Market(SM) <BR>\n",
    "5\tMutual Funds (As Quoted by NASDAQ) <BR>\n",
    "10\tBoston Stock Exchange <BR>\n",
    "13\tChicago Stock Exchange <BR>\n",
    "16\tPacific Stock Exchange <BR>\n",
    "17\tPhiladelphia Stock Exchange <BR>\n",
    "19\tToronto Stock Exchange <BR>\n",
    "20\tOver-The-Counter (Non-NASDAQ Dealer Quotations) <BR>\n",
    "31\tWhen-issued trading on the NYSE <BR>\n",
    "32\tWhen-issued trading on the AMEX <BR>\n",
    "33\tWhen-issued trading on The NASDAQ <BR>"
   ]
  },
  {
   "cell_type": "code",
   "execution_count": 8,
   "metadata": {
    "editable": true,
    "slideshow": {
     "slide_type": "subslide"
    },
    "tags": []
   },
   "outputs": [
    {
     "data": {
      "text/plain": [
       "0.9841031169738764"
      ]
     },
     "execution_count": 8,
     "metadata": {},
     "output_type": "execute_result"
    }
   ],
   "source": [
    "mdata.exchcd.isin([1, 2, 3]).mean()"
   ]
  },
  {
   "cell_type": "code",
   "execution_count": 9,
   "metadata": {
    "editable": true,
    "slideshow": {
     "slide_type": "fragment"
    },
    "tags": []
   },
   "outputs": [],
   "source": [
    "mdata = mdata[mdata.exchcd.isin([1, 2, 3])]"
   ]
  },
  {
   "cell_type": "markdown",
   "metadata": {
    "editable": true,
    "slideshow": {
     "slide_type": "subslide"
    },
    "tags": []
   },
   "source": [
    "### Delete missing returns"
   ]
  },
  {
   "cell_type": "code",
   "execution_count": 10,
   "metadata": {
    "editable": true,
    "slideshow": {
     "slide_type": "fragment"
    },
    "tags": []
   },
   "outputs": [],
   "source": [
    "mdata = mdata[mdata['exret'].notnull()]\n",
    "mdata = mdata[mdata['lag_me'].notnull()]"
   ]
  },
  {
   "cell_type": "markdown",
   "metadata": {
    "editable": true,
    "slideshow": {
     "slide_type": "slide"
    },
    "tags": []
   },
   "source": [
    "### Merge data"
   ]
  },
  {
   "cell_type": "code",
   "execution_count": 11,
   "metadata": {
    "editable": true,
    "scrolled": true,
    "slideshow": {
     "slide_type": "subslide"
    },
    "tags": []
   },
   "outputs": [
    {
     "data": {
      "text/html": [
       "<div>\n",
       "<style scoped>\n",
       "    .dataframe tbody tr th:only-of-type {\n",
       "        vertical-align: middle;\n",
       "    }\n",
       "\n",
       "    .dataframe tbody tr th {\n",
       "        vertical-align: top;\n",
       "    }\n",
       "\n",
       "    .dataframe thead th {\n",
       "        text-align: right;\n",
       "    }\n",
       "</style>\n",
       "<table border=\"1\" class=\"dataframe\">\n",
       "  <thead>\n",
       "    <tr style=\"text-align: right;\">\n",
       "      <th></th>\n",
       "      <th>permno</th>\n",
       "      <th>gvkey</th>\n",
       "      <th>tic</th>\n",
       "      <th>fyear</th>\n",
       "      <th>datadate</th>\n",
       "      <th>rankyear</th>\n",
       "      <th>beme</th>\n",
       "    </tr>\n",
       "  </thead>\n",
       "  <tbody>\n",
       "    <tr>\n",
       "      <th>56086</th>\n",
       "      <td>14593</td>\n",
       "      <td>NaN</td>\n",
       "      <td>NaN</td>\n",
       "      <td>NaN</td>\n",
       "      <td>NaT</td>\n",
       "      <td>1981.0</td>\n",
       "      <td>NaN</td>\n",
       "    </tr>\n",
       "    <tr>\n",
       "      <th>56087</th>\n",
       "      <td>14593</td>\n",
       "      <td>001690</td>\n",
       "      <td>AAPL</td>\n",
       "      <td>1981.0</td>\n",
       "      <td>1981-09-30</td>\n",
       "      <td>1982.0</td>\n",
       "      <td>0.148537</td>\n",
       "    </tr>\n",
       "    <tr>\n",
       "      <th>56088</th>\n",
       "      <td>14593</td>\n",
       "      <td>001690</td>\n",
       "      <td>AAPL</td>\n",
       "      <td>1982.0</td>\n",
       "      <td>1982-09-30</td>\n",
       "      <td>1983.0</td>\n",
       "      <td>0.156761</td>\n",
       "    </tr>\n",
       "    <tr>\n",
       "      <th>56089</th>\n",
       "      <td>14593</td>\n",
       "      <td>001690</td>\n",
       "      <td>AAPL</td>\n",
       "      <td>1983.0</td>\n",
       "      <td>1983-09-30</td>\n",
       "      <td>1984.0</td>\n",
       "      <td>0.294510</td>\n",
       "    </tr>\n",
       "    <tr>\n",
       "      <th>56090</th>\n",
       "      <td>14593</td>\n",
       "      <td>001690</td>\n",
       "      <td>AAPL</td>\n",
       "      <td>1984.0</td>\n",
       "      <td>1984-09-30</td>\n",
       "      <td>1985.0</td>\n",
       "      <td>0.301711</td>\n",
       "    </tr>\n",
       "    <tr>\n",
       "      <th>56091</th>\n",
       "      <td>14593</td>\n",
       "      <td>001690</td>\n",
       "      <td>AAPL</td>\n",
       "      <td>1985.0</td>\n",
       "      <td>1985-09-30</td>\n",
       "      <td>1986.0</td>\n",
       "      <td>0.467580</td>\n",
       "    </tr>\n",
       "    <tr>\n",
       "      <th>56092</th>\n",
       "      <td>14593</td>\n",
       "      <td>001690</td>\n",
       "      <td>AAPL</td>\n",
       "      <td>1986.0</td>\n",
       "      <td>1986-09-30</td>\n",
       "      <td>1987.0</td>\n",
       "      <td>0.327216</td>\n",
       "    </tr>\n",
       "    <tr>\n",
       "      <th>56093</th>\n",
       "      <td>14593</td>\n",
       "      <td>001690</td>\n",
       "      <td>AAPL</td>\n",
       "      <td>1987.0</td>\n",
       "      <td>1987-09-30</td>\n",
       "      <td>1988.0</td>\n",
       "      <td>0.191594</td>\n",
       "    </tr>\n",
       "    <tr>\n",
       "      <th>56094</th>\n",
       "      <td>14593</td>\n",
       "      <td>001690</td>\n",
       "      <td>AAPL</td>\n",
       "      <td>1988.0</td>\n",
       "      <td>1988-09-30</td>\n",
       "      <td>1989.0</td>\n",
       "      <td>0.253107</td>\n",
       "    </tr>\n",
       "    <tr>\n",
       "      <th>56095</th>\n",
       "      <td>14593</td>\n",
       "      <td>001690</td>\n",
       "      <td>AAPL</td>\n",
       "      <td>1989.0</td>\n",
       "      <td>1989-09-30</td>\n",
       "      <td>1990.0</td>\n",
       "      <td>0.418876</td>\n",
       "    </tr>\n",
       "    <tr>\n",
       "      <th>56096</th>\n",
       "      <td>14593</td>\n",
       "      <td>001690</td>\n",
       "      <td>AAPL</td>\n",
       "      <td>1990.0</td>\n",
       "      <td>1990-09-30</td>\n",
       "      <td>1991.0</td>\n",
       "      <td>0.396430</td>\n",
       "    </tr>\n",
       "    <tr>\n",
       "      <th>56097</th>\n",
       "      <td>14593</td>\n",
       "      <td>001690</td>\n",
       "      <td>AAPL</td>\n",
       "      <td>1991.0</td>\n",
       "      <td>1991-09-30</td>\n",
       "      <td>1992.0</td>\n",
       "      <td>0.340807</td>\n",
       "    </tr>\n",
       "    <tr>\n",
       "      <th>56098</th>\n",
       "      <td>14593</td>\n",
       "      <td>001690</td>\n",
       "      <td>AAPL</td>\n",
       "      <td>1992.0</td>\n",
       "      <td>1992-09-30</td>\n",
       "      <td>1993.0</td>\n",
       "      <td>0.397411</td>\n",
       "    </tr>\n",
       "    <tr>\n",
       "      <th>56099</th>\n",
       "      <td>14593</td>\n",
       "      <td>001690</td>\n",
       "      <td>AAPL</td>\n",
       "      <td>1993.0</td>\n",
       "      <td>1993-09-30</td>\n",
       "      <td>1994.0</td>\n",
       "      <td>0.594685</td>\n",
       "    </tr>\n",
       "    <tr>\n",
       "      <th>56100</th>\n",
       "      <td>14593</td>\n",
       "      <td>001690</td>\n",
       "      <td>AAPL</td>\n",
       "      <td>1994.0</td>\n",
       "      <td>1994-09-30</td>\n",
       "      <td>1995.0</td>\n",
       "      <td>0.509720</td>\n",
       "    </tr>\n",
       "    <tr>\n",
       "      <th>56101</th>\n",
       "      <td>14593</td>\n",
       "      <td>001690</td>\n",
       "      <td>AAPL</td>\n",
       "      <td>1995.0</td>\n",
       "      <td>1995-09-30</td>\n",
       "      <td>1996.0</td>\n",
       "      <td>0.739224</td>\n",
       "    </tr>\n",
       "    <tr>\n",
       "      <th>56102</th>\n",
       "      <td>14593</td>\n",
       "      <td>001690</td>\n",
       "      <td>AAPL</td>\n",
       "      <td>1996.0</td>\n",
       "      <td>1996-09-30</td>\n",
       "      <td>1997.0</td>\n",
       "      <td>0.791322</td>\n",
       "    </tr>\n",
       "    <tr>\n",
       "      <th>56103</th>\n",
       "      <td>14593</td>\n",
       "      <td>001690</td>\n",
       "      <td>AAPL</td>\n",
       "      <td>1997.0</td>\n",
       "      <td>1997-09-30</td>\n",
       "      <td>1998.0</td>\n",
       "      <td>0.624907</td>\n",
       "    </tr>\n",
       "    <tr>\n",
       "      <th>56104</th>\n",
       "      <td>14593</td>\n",
       "      <td>001690</td>\n",
       "      <td>AAPL</td>\n",
       "      <td>1998.0</td>\n",
       "      <td>1998-09-30</td>\n",
       "      <td>1999.0</td>\n",
       "      <td>0.267165</td>\n",
       "    </tr>\n",
       "    <tr>\n",
       "      <th>56105</th>\n",
       "      <td>14593</td>\n",
       "      <td>001690</td>\n",
       "      <td>AAPL</td>\n",
       "      <td>1999.0</td>\n",
       "      <td>1999-09-30</td>\n",
       "      <td>2000.0</td>\n",
       "      <td>0.178283</td>\n",
       "    </tr>\n",
       "    <tr>\n",
       "      <th>56106</th>\n",
       "      <td>14593</td>\n",
       "      <td>001690</td>\n",
       "      <td>AAPL</td>\n",
       "      <td>2000.0</td>\n",
       "      <td>2000-09-30</td>\n",
       "      <td>2001.0</td>\n",
       "      <td>0.784785</td>\n",
       "    </tr>\n",
       "    <tr>\n",
       "      <th>56107</th>\n",
       "      <td>14593</td>\n",
       "      <td>001690</td>\n",
       "      <td>AAPL</td>\n",
       "      <td>2001.0</td>\n",
       "      <td>2001-09-30</td>\n",
       "      <td>2002.0</td>\n",
       "      <td>0.507848</td>\n",
       "    </tr>\n",
       "    <tr>\n",
       "      <th>56108</th>\n",
       "      <td>14593</td>\n",
       "      <td>001690</td>\n",
       "      <td>AAPL</td>\n",
       "      <td>2002.0</td>\n",
       "      <td>2002-09-30</td>\n",
       "      <td>2003.0</td>\n",
       "      <td>0.793223</td>\n",
       "    </tr>\n",
       "    <tr>\n",
       "      <th>56109</th>\n",
       "      <td>14593</td>\n",
       "      <td>001690</td>\n",
       "      <td>AAPL</td>\n",
       "      <td>2003.0</td>\n",
       "      <td>2003-09-30</td>\n",
       "      <td>2004.0</td>\n",
       "      <td>0.535885</td>\n",
       "    </tr>\n",
       "    <tr>\n",
       "      <th>56110</th>\n",
       "      <td>14593</td>\n",
       "      <td>001690</td>\n",
       "      <td>AAPL</td>\n",
       "      <td>2004.0</td>\n",
       "      <td>2004-09-30</td>\n",
       "      <td>2005.0</td>\n",
       "      <td>0.194834</td>\n",
       "    </tr>\n",
       "    <tr>\n",
       "      <th>56111</th>\n",
       "      <td>14593</td>\n",
       "      <td>001690</td>\n",
       "      <td>AAPL</td>\n",
       "      <td>2005.0</td>\n",
       "      <td>2005-09-30</td>\n",
       "      <td>2006.0</td>\n",
       "      <td>0.122813</td>\n",
       "    </tr>\n",
       "    <tr>\n",
       "      <th>56112</th>\n",
       "      <td>14593</td>\n",
       "      <td>001690</td>\n",
       "      <td>AAPL</td>\n",
       "      <td>2006.0</td>\n",
       "      <td>2006-09-30</td>\n",
       "      <td>2007.0</td>\n",
       "      <td>0.136803</td>\n",
       "    </tr>\n",
       "    <tr>\n",
       "      <th>56113</th>\n",
       "      <td>14593</td>\n",
       "      <td>001690</td>\n",
       "      <td>AAPL</td>\n",
       "      <td>2007.0</td>\n",
       "      <td>2007-09-30</td>\n",
       "      <td>2008.0</td>\n",
       "      <td>0.083499</td>\n",
       "    </tr>\n",
       "    <tr>\n",
       "      <th>56114</th>\n",
       "      <td>14593</td>\n",
       "      <td>001690</td>\n",
       "      <td>AAPL</td>\n",
       "      <td>2008.0</td>\n",
       "      <td>2008-09-30</td>\n",
       "      <td>2009.0</td>\n",
       "      <td>0.276722</td>\n",
       "    </tr>\n",
       "    <tr>\n",
       "      <th>56115</th>\n",
       "      <td>14593</td>\n",
       "      <td>001690</td>\n",
       "      <td>AAPL</td>\n",
       "      <td>2009.0</td>\n",
       "      <td>2009-09-30</td>\n",
       "      <td>2010.0</td>\n",
       "      <td>0.165670</td>\n",
       "    </tr>\n",
       "    <tr>\n",
       "      <th>56116</th>\n",
       "      <td>14593</td>\n",
       "      <td>001690</td>\n",
       "      <td>AAPL</td>\n",
       "      <td>2010.0</td>\n",
       "      <td>2010-09-30</td>\n",
       "      <td>2011.0</td>\n",
       "      <td>0.160864</td>\n",
       "    </tr>\n",
       "    <tr>\n",
       "      <th>56117</th>\n",
       "      <td>14593</td>\n",
       "      <td>001690</td>\n",
       "      <td>AAPL</td>\n",
       "      <td>2011.0</td>\n",
       "      <td>2011-09-30</td>\n",
       "      <td>2012.0</td>\n",
       "      <td>0.202929</td>\n",
       "    </tr>\n",
       "    <tr>\n",
       "      <th>56118</th>\n",
       "      <td>14593</td>\n",
       "      <td>001690</td>\n",
       "      <td>AAPL</td>\n",
       "      <td>2012.0</td>\n",
       "      <td>2012-09-30</td>\n",
       "      <td>2013.0</td>\n",
       "      <td>0.236564</td>\n",
       "    </tr>\n",
       "    <tr>\n",
       "      <th>56119</th>\n",
       "      <td>14593</td>\n",
       "      <td>001690</td>\n",
       "      <td>AAPL</td>\n",
       "      <td>2013.0</td>\n",
       "      <td>2013-09-30</td>\n",
       "      <td>2014.0</td>\n",
       "      <td>0.246762</td>\n",
       "    </tr>\n",
       "    <tr>\n",
       "      <th>56120</th>\n",
       "      <td>14593</td>\n",
       "      <td>001690</td>\n",
       "      <td>AAPL</td>\n",
       "      <td>2014.0</td>\n",
       "      <td>2014-09-30</td>\n",
       "      <td>2015.0</td>\n",
       "      <td>0.173447</td>\n",
       "    </tr>\n",
       "    <tr>\n",
       "      <th>56121</th>\n",
       "      <td>14593</td>\n",
       "      <td>001690</td>\n",
       "      <td>AAPL</td>\n",
       "      <td>2015.0</td>\n",
       "      <td>2015-09-30</td>\n",
       "      <td>2016.0</td>\n",
       "      <td>0.204511</td>\n",
       "    </tr>\n",
       "    <tr>\n",
       "      <th>56122</th>\n",
       "      <td>14593</td>\n",
       "      <td>001690</td>\n",
       "      <td>AAPL</td>\n",
       "      <td>2016.0</td>\n",
       "      <td>2016-09-30</td>\n",
       "      <td>2017.0</td>\n",
       "      <td>0.210603</td>\n",
       "    </tr>\n",
       "    <tr>\n",
       "      <th>56123</th>\n",
       "      <td>14593</td>\n",
       "      <td>001690</td>\n",
       "      <td>AAPL</td>\n",
       "      <td>2017.0</td>\n",
       "      <td>2017-09-30</td>\n",
       "      <td>2018.0</td>\n",
       "      <td>0.155709</td>\n",
       "    </tr>\n",
       "    <tr>\n",
       "      <th>56124</th>\n",
       "      <td>14593</td>\n",
       "      <td>001690</td>\n",
       "      <td>AAPL</td>\n",
       "      <td>2018.0</td>\n",
       "      <td>2018-09-30</td>\n",
       "      <td>2019.0</td>\n",
       "      <td>0.143613</td>\n",
       "    </tr>\n",
       "    <tr>\n",
       "      <th>56125</th>\n",
       "      <td>14593</td>\n",
       "      <td>001690</td>\n",
       "      <td>AAPL</td>\n",
       "      <td>2019.0</td>\n",
       "      <td>2019-09-30</td>\n",
       "      <td>2020.0</td>\n",
       "      <td>0.070274</td>\n",
       "    </tr>\n",
       "    <tr>\n",
       "      <th>56126</th>\n",
       "      <td>14593</td>\n",
       "      <td>001690</td>\n",
       "      <td>AAPL</td>\n",
       "      <td>2020.0</td>\n",
       "      <td>2020-09-30</td>\n",
       "      <td>2021.0</td>\n",
       "      <td>0.029270</td>\n",
       "    </tr>\n",
       "    <tr>\n",
       "      <th>56127</th>\n",
       "      <td>14593</td>\n",
       "      <td>001690</td>\n",
       "      <td>AAPL</td>\n",
       "      <td>2021.0</td>\n",
       "      <td>2021-09-30</td>\n",
       "      <td>2022.0</td>\n",
       "      <td>0.021737</td>\n",
       "    </tr>\n",
       "    <tr>\n",
       "      <th>56128</th>\n",
       "      <td>14593</td>\n",
       "      <td>001690</td>\n",
       "      <td>AAPL</td>\n",
       "      <td>2022.0</td>\n",
       "      <td>2022-09-30</td>\n",
       "      <td>2023.0</td>\n",
       "      <td>0.024617</td>\n",
       "    </tr>\n",
       "    <tr>\n",
       "      <th>56129</th>\n",
       "      <td>14593</td>\n",
       "      <td>001690</td>\n",
       "      <td>AAPL</td>\n",
       "      <td>2023.0</td>\n",
       "      <td>2023-09-30</td>\n",
       "      <td>2024.0</td>\n",
       "      <td>0.020878</td>\n",
       "    </tr>\n",
       "    <tr>\n",
       "      <th>56130</th>\n",
       "      <td>14593</td>\n",
       "      <td>001690</td>\n",
       "      <td>AAPL</td>\n",
       "      <td>2024.0</td>\n",
       "      <td>2024-09-30</td>\n",
       "      <td>2025.0</td>\n",
       "      <td>0.015045</td>\n",
       "    </tr>\n",
       "  </tbody>\n",
       "</table>\n",
       "</div>"
      ],
      "text/plain": [
       "       permno   gvkey   tic   fyear   datadate  rankyear      beme\n",
       "56086   14593     NaN   NaN     NaN        NaT    1981.0       NaN\n",
       "56087   14593  001690  AAPL  1981.0 1981-09-30    1982.0  0.148537\n",
       "56088   14593  001690  AAPL  1982.0 1982-09-30    1983.0  0.156761\n",
       "56089   14593  001690  AAPL  1983.0 1983-09-30    1984.0  0.294510\n",
       "56090   14593  001690  AAPL  1984.0 1984-09-30    1985.0  0.301711\n",
       "56091   14593  001690  AAPL  1985.0 1985-09-30    1986.0  0.467580\n",
       "56092   14593  001690  AAPL  1986.0 1986-09-30    1987.0  0.327216\n",
       "56093   14593  001690  AAPL  1987.0 1987-09-30    1988.0  0.191594\n",
       "56094   14593  001690  AAPL  1988.0 1988-09-30    1989.0  0.253107\n",
       "56095   14593  001690  AAPL  1989.0 1989-09-30    1990.0  0.418876\n",
       "56096   14593  001690  AAPL  1990.0 1990-09-30    1991.0  0.396430\n",
       "56097   14593  001690  AAPL  1991.0 1991-09-30    1992.0  0.340807\n",
       "56098   14593  001690  AAPL  1992.0 1992-09-30    1993.0  0.397411\n",
       "56099   14593  001690  AAPL  1993.0 1993-09-30    1994.0  0.594685\n",
       "56100   14593  001690  AAPL  1994.0 1994-09-30    1995.0  0.509720\n",
       "56101   14593  001690  AAPL  1995.0 1995-09-30    1996.0  0.739224\n",
       "56102   14593  001690  AAPL  1996.0 1996-09-30    1997.0  0.791322\n",
       "56103   14593  001690  AAPL  1997.0 1997-09-30    1998.0  0.624907\n",
       "56104   14593  001690  AAPL  1998.0 1998-09-30    1999.0  0.267165\n",
       "56105   14593  001690  AAPL  1999.0 1999-09-30    2000.0  0.178283\n",
       "56106   14593  001690  AAPL  2000.0 2000-09-30    2001.0  0.784785\n",
       "56107   14593  001690  AAPL  2001.0 2001-09-30    2002.0  0.507848\n",
       "56108   14593  001690  AAPL  2002.0 2002-09-30    2003.0  0.793223\n",
       "56109   14593  001690  AAPL  2003.0 2003-09-30    2004.0  0.535885\n",
       "56110   14593  001690  AAPL  2004.0 2004-09-30    2005.0  0.194834\n",
       "56111   14593  001690  AAPL  2005.0 2005-09-30    2006.0  0.122813\n",
       "56112   14593  001690  AAPL  2006.0 2006-09-30    2007.0  0.136803\n",
       "56113   14593  001690  AAPL  2007.0 2007-09-30    2008.0  0.083499\n",
       "56114   14593  001690  AAPL  2008.0 2008-09-30    2009.0  0.276722\n",
       "56115   14593  001690  AAPL  2009.0 2009-09-30    2010.0  0.165670\n",
       "56116   14593  001690  AAPL  2010.0 2010-09-30    2011.0  0.160864\n",
       "56117   14593  001690  AAPL  2011.0 2011-09-30    2012.0  0.202929\n",
       "56118   14593  001690  AAPL  2012.0 2012-09-30    2013.0  0.236564\n",
       "56119   14593  001690  AAPL  2013.0 2013-09-30    2014.0  0.246762\n",
       "56120   14593  001690  AAPL  2014.0 2014-09-30    2015.0  0.173447\n",
       "56121   14593  001690  AAPL  2015.0 2015-09-30    2016.0  0.204511\n",
       "56122   14593  001690  AAPL  2016.0 2016-09-30    2017.0  0.210603\n",
       "56123   14593  001690  AAPL  2017.0 2017-09-30    2018.0  0.155709\n",
       "56124   14593  001690  AAPL  2018.0 2018-09-30    2019.0  0.143613\n",
       "56125   14593  001690  AAPL  2019.0 2019-09-30    2020.0  0.070274\n",
       "56126   14593  001690  AAPL  2020.0 2020-09-30    2021.0  0.029270\n",
       "56127   14593  001690  AAPL  2021.0 2021-09-30    2022.0  0.021737\n",
       "56128   14593  001690  AAPL  2022.0 2022-09-30    2023.0  0.024617\n",
       "56129   14593  001690  AAPL  2023.0 2023-09-30    2024.0  0.020878\n",
       "56130   14593  001690  AAPL  2024.0 2024-09-30    2025.0  0.015045"
      ]
     },
     "execution_count": 11,
     "metadata": {},
     "output_type": "execute_result"
    }
   ],
   "source": [
    "# Example: APPLE\n",
    "adata[['permno', 'gvkey', 'tic', 'fyear', 'datadate', 'rankyear', 'beme']][adata.permno==14593]"
   ]
  },
  {
   "cell_type": "code",
   "execution_count": 12,
   "metadata": {
    "editable": true,
    "slideshow": {
     "slide_type": ""
    },
    "tags": []
   },
   "outputs": [
    {
     "data": {
      "text/html": [
       "<div>\n",
       "<style scoped>\n",
       "    .dataframe tbody tr th:only-of-type {\n",
       "        vertical-align: middle;\n",
       "    }\n",
       "\n",
       "    .dataframe tbody tr th {\n",
       "        vertical-align: top;\n",
       "    }\n",
       "\n",
       "    .dataframe thead th {\n",
       "        text-align: right;\n",
       "    }\n",
       "</style>\n",
       "<table border=\"1\" class=\"dataframe\">\n",
       "  <thead>\n",
       "    <tr style=\"text-align: right;\">\n",
       "      <th></th>\n",
       "      <th>permno</th>\n",
       "      <th>date</th>\n",
       "      <th>exret</th>\n",
       "    </tr>\n",
       "  </thead>\n",
       "  <tbody>\n",
       "    <tr>\n",
       "      <th>651666</th>\n",
       "      <td>14593</td>\n",
       "      <td>1981-01-30</td>\n",
       "      <td>-0.179975</td>\n",
       "    </tr>\n",
       "    <tr>\n",
       "      <th>651667</th>\n",
       "      <td>14593</td>\n",
       "      <td>1981-02-27</td>\n",
       "      <td>-0.072359</td>\n",
       "    </tr>\n",
       "    <tr>\n",
       "      <th>651668</th>\n",
       "      <td>14593</td>\n",
       "      <td>1981-03-31</td>\n",
       "      <td>-0.088274</td>\n",
       "    </tr>\n",
       "    <tr>\n",
       "      <th>651669</th>\n",
       "      <td>14593</td>\n",
       "      <td>1981-04-30</td>\n",
       "      <td>0.146604</td>\n",
       "    </tr>\n",
       "    <tr>\n",
       "      <th>651670</th>\n",
       "      <td>14593</td>\n",
       "      <td>1981-05-29</td>\n",
       "      <td>0.153828</td>\n",
       "    </tr>\n",
       "    <tr>\n",
       "      <th>...</th>\n",
       "      <td>...</td>\n",
       "      <td>...</td>\n",
       "      <td>...</td>\n",
       "    </tr>\n",
       "    <tr>\n",
       "      <th>652189</th>\n",
       "      <td>14593</td>\n",
       "      <td>2024-08-30</td>\n",
       "      <td>0.027867</td>\n",
       "    </tr>\n",
       "    <tr>\n",
       "      <th>652190</th>\n",
       "      <td>14593</td>\n",
       "      <td>2024-09-30</td>\n",
       "      <td>0.012848</td>\n",
       "    </tr>\n",
       "    <tr>\n",
       "      <th>652191</th>\n",
       "      <td>14593</td>\n",
       "      <td>2024-10-31</td>\n",
       "      <td>-0.034336</td>\n",
       "    </tr>\n",
       "    <tr>\n",
       "      <th>652192</th>\n",
       "      <td>14593</td>\n",
       "      <td>2024-11-29</td>\n",
       "      <td>0.047703</td>\n",
       "    </tr>\n",
       "    <tr>\n",
       "      <th>652193</th>\n",
       "      <td>14593</td>\n",
       "      <td>2024-12-31</td>\n",
       "      <td>0.051492</td>\n",
       "    </tr>\n",
       "  </tbody>\n",
       "</table>\n",
       "<p>528 rows × 3 columns</p>\n",
       "</div>"
      ],
      "text/plain": [
       "        permno       date     exret\n",
       "651666   14593 1981-01-30 -0.179975\n",
       "651667   14593 1981-02-27 -0.072359\n",
       "651668   14593 1981-03-31 -0.088274\n",
       "651669   14593 1981-04-30  0.146604\n",
       "651670   14593 1981-05-29  0.153828\n",
       "...        ...        ...       ...\n",
       "652189   14593 2024-08-30  0.027867\n",
       "652190   14593 2024-09-30  0.012848\n",
       "652191   14593 2024-10-31 -0.034336\n",
       "652192   14593 2024-11-29  0.047703\n",
       "652193   14593 2024-12-31  0.051492\n",
       "\n",
       "[528 rows x 3 columns]"
      ]
     },
     "execution_count": 12,
     "metadata": {},
     "output_type": "execute_result"
    }
   ],
   "source": [
    "mdata[mdata.permno==14593][['permno', 'date', 'exret']]"
   ]
  },
  {
   "cell_type": "markdown",
   "metadata": {
    "editable": true,
    "slideshow": {
     "slide_type": "slide"
    },
    "tags": []
   },
   "source": [
    "Our objective: find stock characteristics that forecast **FUTURE** returns. <BR><BR>\n",
    "$$r_{i,t+1} = \\alpha + \\beta c_{i,t} + \\varepsilon_{i,t+1} $$\n"
   ]
  },
  {
   "cell_type": "code",
   "execution_count": 13,
   "metadata": {
    "editable": true,
    "slideshow": {
     "slide_type": "fragment"
    },
    "tags": []
   },
   "outputs": [],
   "source": [
    "# Portfolios are rebalanced in the end of june\n",
    "mdata['rankyear'] = mdata.date.dt.year.astype(int)\n",
    "mdata.loc[mdata.date.dt.month <= 6, 'rankyear'] = mdata.loc[mdata.date.dt.month <= 6, 'rankyear'] - 1"
   ]
  },
  {
   "cell_type": "code",
   "execution_count": 14,
   "metadata": {
    "editable": true,
    "slideshow": {
     "slide_type": "fragment"
    },
    "tags": []
   },
   "outputs": [
    {
     "data": {
      "text/html": [
       "<div>\n",
       "<style scoped>\n",
       "    .dataframe tbody tr th:only-of-type {\n",
       "        vertical-align: middle;\n",
       "    }\n",
       "\n",
       "    .dataframe tbody tr th {\n",
       "        vertical-align: top;\n",
       "    }\n",
       "\n",
       "    .dataframe thead th {\n",
       "        text-align: right;\n",
       "    }\n",
       "</style>\n",
       "<table border=\"1\" class=\"dataframe\">\n",
       "  <thead>\n",
       "    <tr style=\"text-align: right;\">\n",
       "      <th></th>\n",
       "      <th>permno</th>\n",
       "      <th>date</th>\n",
       "      <th>rankyear</th>\n",
       "      <th>exchcd</th>\n",
       "      <th>exret</th>\n",
       "      <th>lag_me</th>\n",
       "    </tr>\n",
       "  </thead>\n",
       "  <tbody>\n",
       "    <tr>\n",
       "      <th>651666</th>\n",
       "      <td>14593</td>\n",
       "      <td>1981-01-30</td>\n",
       "      <td>1980</td>\n",
       "      <td>3.0</td>\n",
       "      <td>-0.179975</td>\n",
       "      <td>1.884962e+03</td>\n",
       "    </tr>\n",
       "    <tr>\n",
       "      <th>651667</th>\n",
       "      <td>14593</td>\n",
       "      <td>1981-02-27</td>\n",
       "      <td>1980</td>\n",
       "      <td>3.0</td>\n",
       "      <td>-0.072359</td>\n",
       "      <td>1.564484e+03</td>\n",
       "    </tr>\n",
       "    <tr>\n",
       "      <th>651668</th>\n",
       "      <td>14593</td>\n",
       "      <td>1981-03-31</td>\n",
       "      <td>1980</td>\n",
       "      <td>3.0</td>\n",
       "      <td>-0.088274</td>\n",
       "      <td>1.467996e+03</td>\n",
       "    </tr>\n",
       "    <tr>\n",
       "      <th>651669</th>\n",
       "      <td>14593</td>\n",
       "      <td>1981-04-30</td>\n",
       "      <td>1980</td>\n",
       "      <td>3.0</td>\n",
       "      <td>0.146604</td>\n",
       "      <td>1.357724e+03</td>\n",
       "    </tr>\n",
       "    <tr>\n",
       "      <th>651670</th>\n",
       "      <td>14593</td>\n",
       "      <td>1981-05-29</td>\n",
       "      <td>1980</td>\n",
       "      <td>3.0</td>\n",
       "      <td>0.153828</td>\n",
       "      <td>1.571376e+03</td>\n",
       "    </tr>\n",
       "    <tr>\n",
       "      <th>...</th>\n",
       "      <td>...</td>\n",
       "      <td>...</td>\n",
       "      <td>...</td>\n",
       "      <td>...</td>\n",
       "      <td>...</td>\n",
       "      <td>...</td>\n",
       "    </tr>\n",
       "    <tr>\n",
       "      <th>652189</th>\n",
       "      <td>14593</td>\n",
       "      <td>2024-08-30</td>\n",
       "      <td>2024</td>\n",
       "      <td>3.0</td>\n",
       "      <td>0.027867</td>\n",
       "      <td>3.376535e+06</td>\n",
       "    </tr>\n",
       "    <tr>\n",
       "      <th>652190</th>\n",
       "      <td>14593</td>\n",
       "      <td>2024-09-30</td>\n",
       "      <td>2024</td>\n",
       "      <td>3.0</td>\n",
       "      <td>0.012848</td>\n",
       "      <td>3.481747e+06</td>\n",
       "    </tr>\n",
       "    <tr>\n",
       "      <th>652191</th>\n",
       "      <td>14593</td>\n",
       "      <td>2024-10-31</td>\n",
       "      <td>2024</td>\n",
       "      <td>3.0</td>\n",
       "      <td>-0.034336</td>\n",
       "      <td>3.522211e+06</td>\n",
       "    </tr>\n",
       "    <tr>\n",
       "      <th>652192</th>\n",
       "      <td>14593</td>\n",
       "      <td>2024-11-29</td>\n",
       "      <td>2024</td>\n",
       "      <td>3.0</td>\n",
       "      <td>0.047703</td>\n",
       "      <td>3.414816e+06</td>\n",
       "    </tr>\n",
       "    <tr>\n",
       "      <th>652193</th>\n",
       "      <td>14593</td>\n",
       "      <td>2024-12-31</td>\n",
       "      <td>2024</td>\n",
       "      <td>3.0</td>\n",
       "      <td>0.051492</td>\n",
       "      <td>3.587438e+06</td>\n",
       "    </tr>\n",
       "  </tbody>\n",
       "</table>\n",
       "<p>528 rows × 6 columns</p>\n",
       "</div>"
      ],
      "text/plain": [
       "        permno       date  rankyear  exchcd     exret        lag_me\n",
       "651666   14593 1981-01-30      1980     3.0 -0.179975  1.884962e+03\n",
       "651667   14593 1981-02-27      1980     3.0 -0.072359  1.564484e+03\n",
       "651668   14593 1981-03-31      1980     3.0 -0.088274  1.467996e+03\n",
       "651669   14593 1981-04-30      1980     3.0  0.146604  1.357724e+03\n",
       "651670   14593 1981-05-29      1980     3.0  0.153828  1.571376e+03\n",
       "...        ...        ...       ...     ...       ...           ...\n",
       "652189   14593 2024-08-30      2024     3.0  0.027867  3.376535e+06\n",
       "652190   14593 2024-09-30      2024     3.0  0.012848  3.481747e+06\n",
       "652191   14593 2024-10-31      2024     3.0 -0.034336  3.522211e+06\n",
       "652192   14593 2024-11-29      2024     3.0  0.047703  3.414816e+06\n",
       "652193   14593 2024-12-31      2024     3.0  0.051492  3.587438e+06\n",
       "\n",
       "[528 rows x 6 columns]"
      ]
     },
     "execution_count": 14,
     "metadata": {},
     "output_type": "execute_result"
    }
   ],
   "source": [
    "mdata[['permno', 'date', 'rankyear', 'exchcd', 'exret', 'lag_me']][mdata.permno==14593]"
   ]
  },
  {
   "cell_type": "code",
   "execution_count": 15,
   "metadata": {
    "editable": true,
    "slideshow": {
     "slide_type": "subslide"
    },
    "tags": []
   },
   "outputs": [],
   "source": [
    "fdata = pd.merge(mdata[['permno', 'date', 'ticker', 'rankyear', 'exchcd', 'exret', 'retadj', 'lag_me', 'rf']],\n",
    "                 adata[['permno', 'gvkey', 'conm', 'fyear', 'datadate', 'rankyear', 'mesum_dec', 'beme', 'opbe', 'inv_gvkey']],\n",
    "                 on = ['permno','rankyear' ])"
   ]
  },
  {
   "cell_type": "code",
   "execution_count": 16,
   "metadata": {
    "editable": true,
    "slideshow": {
     "slide_type": "fragment"
    },
    "tags": []
   },
   "outputs": [],
   "source": [
    "fdata.rename(columns = {'inv_gvkey': 'inv'}, inplace = True)\n",
    "fdata.rename(columns = {'mesum_dec': 'mesum'}, inplace = True)"
   ]
  },
  {
   "cell_type": "markdown",
   "metadata": {
    "editable": true,
    "slideshow": {
     "slide_type": "slide"
    },
    "tags": []
   },
   "source": [
    "## Data Summary"
   ]
  },
  {
   "cell_type": "code",
   "execution_count": 17,
   "metadata": {
    "editable": true,
    "slideshow": {
     "slide_type": "fragment"
    },
    "tags": []
   },
   "outputs": [
    {
     "data": {
      "text/html": [
       "<div>\n",
       "<style scoped>\n",
       "    .dataframe tbody tr th:only-of-type {\n",
       "        vertical-align: middle;\n",
       "    }\n",
       "\n",
       "    .dataframe tbody tr th {\n",
       "        vertical-align: top;\n",
       "    }\n",
       "\n",
       "    .dataframe thead th {\n",
       "        text-align: right;\n",
       "    }\n",
       "</style>\n",
       "<table border=\"1\" class=\"dataframe\">\n",
       "  <thead>\n",
       "    <tr style=\"text-align: right;\">\n",
       "      <th></th>\n",
       "      <th>permno</th>\n",
       "      <th>date</th>\n",
       "      <th>rankyear</th>\n",
       "      <th>exchcd</th>\n",
       "      <th>exret</th>\n",
       "      <th>retadj</th>\n",
       "      <th>lag_me</th>\n",
       "      <th>rf</th>\n",
       "      <th>fyear</th>\n",
       "      <th>datadate</th>\n",
       "      <th>mesum</th>\n",
       "      <th>beme</th>\n",
       "      <th>opbe</th>\n",
       "      <th>inv</th>\n",
       "    </tr>\n",
       "  </thead>\n",
       "  <tbody>\n",
       "    <tr>\n",
       "      <th>count</th>\n",
       "      <td>3.658358e+06</td>\n",
       "      <td>3658358</td>\n",
       "      <td>3.658358e+06</td>\n",
       "      <td>3.658358e+06</td>\n",
       "      <td>3.658358e+06</td>\n",
       "      <td>3.658358e+06</td>\n",
       "      <td>3.658358e+06</td>\n",
       "      <td>3.658358e+06</td>\n",
       "      <td>3.291346e+06</td>\n",
       "      <td>2993187</td>\n",
       "      <td>3.269441e+06</td>\n",
       "      <td>3.132392e+06</td>\n",
       "      <td>2.842903e+06</td>\n",
       "      <td>2.889560e+06</td>\n",
       "    </tr>\n",
       "    <tr>\n",
       "      <th>mean</th>\n",
       "      <td>4.950338e+04</td>\n",
       "      <td>1990-07-08 12:29:08.448675584</td>\n",
       "      <td>1.989488e+03</td>\n",
       "      <td>2.118894e+00</td>\n",
       "      <td>7.825267e-03</td>\n",
       "      <td>1.137307e-02</td>\n",
       "      <td>2.124294e+03</td>\n",
       "      <td>3.547808e-03</td>\n",
       "      <td>1.989298e+03</td>\n",
       "      <td>1994-09-22 12:35:49.776542336</td>\n",
       "      <td>2.264808e+06</td>\n",
       "      <td>1.019857e+00</td>\n",
       "      <td>-2.039726e-02</td>\n",
       "      <td>2.939622e+00</td>\n",
       "    </tr>\n",
       "    <tr>\n",
       "      <th>min</th>\n",
       "      <td>1.000000e+04</td>\n",
       "      <td>1926-07-31 00:00:00</td>\n",
       "      <td>1.926000e+03</td>\n",
       "      <td>1.000000e+00</td>\n",
       "      <td>-1.014149e+00</td>\n",
       "      <td>-1.000000e+00</td>\n",
       "      <td>0.000000e+00</td>\n",
       "      <td>-2.650000e-04</td>\n",
       "      <td>1.925000e+03</td>\n",
       "      <td>1950-06-30 00:00:00</td>\n",
       "      <td>2.475000e+01</td>\n",
       "      <td>7.782916e-06</td>\n",
       "      <td>-2.261400e+04</td>\n",
       "      <td>-9.998177e-01</td>\n",
       "    </tr>\n",
       "    <tr>\n",
       "      <th>25%</th>\n",
       "      <td>2.084700e+04</td>\n",
       "      <td>1978-06-30 00:00:00</td>\n",
       "      <td>1.977000e+03</td>\n",
       "      <td>1.000000e+00</td>\n",
       "      <td>-6.817100e-02</td>\n",
       "      <td>-6.451600e-02</td>\n",
       "      <td>1.774150e+01</td>\n",
       "      <td>1.293000e-03</td>\n",
       "      <td>1.978000e+03</td>\n",
       "      <td>1982-12-31 00:00:00</td>\n",
       "      <td>2.018112e+04</td>\n",
       "      <td>3.684442e-01</td>\n",
       "      <td>7.450212e-02</td>\n",
       "      <td>-1.002441e-02</td>\n",
       "    </tr>\n",
       "    <tr>\n",
       "      <th>50%</th>\n",
       "      <td>4.788800e+04</td>\n",
       "      <td>1992-11-30 00:00:00</td>\n",
       "      <td>1.992000e+03</td>\n",
       "      <td>3.000000e+00</td>\n",
       "      <td>-3.299000e-03</td>\n",
       "      <td>0.000000e+00</td>\n",
       "      <td>7.821300e+01</td>\n",
       "      <td>3.716000e-03</td>\n",
       "      <td>1.992000e+03</td>\n",
       "      <td>1994-12-31 00:00:00</td>\n",
       "      <td>9.096450e+04</td>\n",
       "      <td>6.692445e-01</td>\n",
       "      <td>2.093347e-01</td>\n",
       "      <td>7.925893e-02</td>\n",
       "    </tr>\n",
       "    <tr>\n",
       "      <th>75%</th>\n",
       "      <td>7.831900e+04</td>\n",
       "      <td>2005-06-30 00:00:00</td>\n",
       "      <td>2.004000e+03</td>\n",
       "      <td>3.000000e+00</td>\n",
       "      <td>6.678200e-02</td>\n",
       "      <td>7.013000e-02</td>\n",
       "      <td>4.451515e+02</td>\n",
       "      <td>4.882000e-03</td>\n",
       "      <td>2.004000e+03</td>\n",
       "      <td>2006-12-31 00:00:00</td>\n",
       "      <td>5.133761e+05</td>\n",
       "      <td>1.133439e+00</td>\n",
       "      <td>3.205675e-01</td>\n",
       "      <td>2.190314e-01</td>\n",
       "    </tr>\n",
       "    <tr>\n",
       "      <th>max</th>\n",
       "      <td>9.343600e+04</td>\n",
       "      <td>2024-12-31 00:00:00</td>\n",
       "      <td>2.024000e+03</td>\n",
       "      <td>3.000000e+00</td>\n",
       "      <td>3.532572e+01</td>\n",
       "      <td>3.533333e+01</td>\n",
       "      <td>3.587438e+06</td>\n",
       "      <td>1.515800e-02</td>\n",
       "      <td>2.023000e+03</td>\n",
       "      <td>2024-05-31 00:00:00</td>\n",
       "      <td>2.976557e+09</td>\n",
       "      <td>1.250093e+03</td>\n",
       "      <td>3.141250e+03</td>\n",
       "      <td>4.091835e+05</td>\n",
       "    </tr>\n",
       "    <tr>\n",
       "      <th>std</th>\n",
       "      <td>2.840591e+04</td>\n",
       "      <td>NaN</td>\n",
       "      <td>2.104507e+01</td>\n",
       "      <td>9.314381e-01</td>\n",
       "      <td>1.847817e-01</td>\n",
       "      <td>1.847162e-01</td>\n",
       "      <td>2.187215e+04</td>\n",
       "      <td>2.656060e-03</td>\n",
       "      <td>2.114420e+01</td>\n",
       "      <td>NaN</td>\n",
       "      <td>2.177708e+07</td>\n",
       "      <td>4.301172e+00</td>\n",
       "      <td>4.837628e+01</td>\n",
       "      <td>5.172171e+02</td>\n",
       "    </tr>\n",
       "  </tbody>\n",
       "</table>\n",
       "</div>"
      ],
      "text/plain": [
       "             permno                           date      rankyear  \\\n",
       "count  3.658358e+06                        3658358  3.658358e+06   \n",
       "mean   4.950338e+04  1990-07-08 12:29:08.448675584  1.989488e+03   \n",
       "min    1.000000e+04            1926-07-31 00:00:00  1.926000e+03   \n",
       "25%    2.084700e+04            1978-06-30 00:00:00  1.977000e+03   \n",
       "50%    4.788800e+04            1992-11-30 00:00:00  1.992000e+03   \n",
       "75%    7.831900e+04            2005-06-30 00:00:00  2.004000e+03   \n",
       "max    9.343600e+04            2024-12-31 00:00:00  2.024000e+03   \n",
       "std    2.840591e+04                            NaN  2.104507e+01   \n",
       "\n",
       "             exchcd         exret        retadj        lag_me            rf  \\\n",
       "count  3.658358e+06  3.658358e+06  3.658358e+06  3.658358e+06  3.658358e+06   \n",
       "mean   2.118894e+00  7.825267e-03  1.137307e-02  2.124294e+03  3.547808e-03   \n",
       "min    1.000000e+00 -1.014149e+00 -1.000000e+00  0.000000e+00 -2.650000e-04   \n",
       "25%    1.000000e+00 -6.817100e-02 -6.451600e-02  1.774150e+01  1.293000e-03   \n",
       "50%    3.000000e+00 -3.299000e-03  0.000000e+00  7.821300e+01  3.716000e-03   \n",
       "75%    3.000000e+00  6.678200e-02  7.013000e-02  4.451515e+02  4.882000e-03   \n",
       "max    3.000000e+00  3.532572e+01  3.533333e+01  3.587438e+06  1.515800e-02   \n",
       "std    9.314381e-01  1.847817e-01  1.847162e-01  2.187215e+04  2.656060e-03   \n",
       "\n",
       "              fyear                       datadate         mesum  \\\n",
       "count  3.291346e+06                        2993187  3.269441e+06   \n",
       "mean   1.989298e+03  1994-09-22 12:35:49.776542336  2.264808e+06   \n",
       "min    1.925000e+03            1950-06-30 00:00:00  2.475000e+01   \n",
       "25%    1.978000e+03            1982-12-31 00:00:00  2.018112e+04   \n",
       "50%    1.992000e+03            1994-12-31 00:00:00  9.096450e+04   \n",
       "75%    2.004000e+03            2006-12-31 00:00:00  5.133761e+05   \n",
       "max    2.023000e+03            2024-05-31 00:00:00  2.976557e+09   \n",
       "std    2.114420e+01                            NaN  2.177708e+07   \n",
       "\n",
       "               beme          opbe           inv  \n",
       "count  3.132392e+06  2.842903e+06  2.889560e+06  \n",
       "mean   1.019857e+00 -2.039726e-02  2.939622e+00  \n",
       "min    7.782916e-06 -2.261400e+04 -9.998177e-01  \n",
       "25%    3.684442e-01  7.450212e-02 -1.002441e-02  \n",
       "50%    6.692445e-01  2.093347e-01  7.925893e-02  \n",
       "75%    1.133439e+00  3.205675e-01  2.190314e-01  \n",
       "max    1.250093e+03  3.141250e+03  4.091835e+05  \n",
       "std    4.301172e+00  4.837628e+01  5.172171e+02  "
      ]
     },
     "execution_count": 17,
     "metadata": {},
     "output_type": "execute_result"
    }
   ],
   "source": [
    "fdata.describe()"
   ]
  },
  {
   "cell_type": "markdown",
   "metadata": {
    "editable": true,
    "slideshow": {
     "slide_type": "slide"
    },
    "tags": []
   },
   "source": [
    "## Forcasting Future Excess Returns"
   ]
  },
  {
   "cell_type": "markdown",
   "metadata": {},
   "source": [
    "### Fama-MacBeth regressions\n",
    "[Fama-MacBeth regressions](https://www.tidy-finance.org/python/fama-macbeth-regressions.html) follow a two-stage approach to estimating risk premiums:\n",
    "1. cross-sectional regressions of returns on to risk factor exposures (betas)\n",
    "2. taking the time-series average of the estimates"
   ]
  },
  {
   "cell_type": "code",
   "execution_count": 18,
   "metadata": {
    "editable": true,
    "slideshow": {
     "slide_type": "fragment"
    },
    "tags": []
   },
   "outputs": [],
   "source": [
    "# FamaMacBeth regression\n",
    "# Note: Beware of the bias in the errors when estimating Fama-MacBeth regressions in this way\n",
    "def ols_coef(x,formula):\n",
    "    return smf.ols(formula,data=x).fit().params\n",
    "\n",
    "def fm_summary(p):\n",
    "    s = p.describe().T\n",
    "    s['std_error'] = s['std']/np.sqrt(s['count'])\n",
    "    s['tstat'] = s['mean']/s['std_error']\n",
    "    return s[['mean','std_error','tstat']]"
   ]
  },
  {
   "cell_type": "markdown",
   "metadata": {
    "editable": true,
    "slideshow": {
     "slide_type": "slide"
    },
    "tags": []
   },
   "source": [
    "### Does BEME forcast future returns?"
   ]
  },
  {
   "cell_type": "code",
   "execution_count": 19,
   "metadata": {
    "editable": true,
    "slideshow": {
     "slide_type": "fragment"
    },
    "tags": []
   },
   "outputs": [
    {
     "data": {
      "text/html": [
       "<div>\n",
       "<style scoped>\n",
       "    .dataframe tbody tr th:only-of-type {\n",
       "        vertical-align: middle;\n",
       "    }\n",
       "\n",
       "    .dataframe tbody tr th {\n",
       "        vertical-align: top;\n",
       "    }\n",
       "\n",
       "    .dataframe thead th {\n",
       "        text-align: right;\n",
       "    }\n",
       "</style>\n",
       "<table border=\"1\" class=\"dataframe\">\n",
       "  <thead>\n",
       "    <tr style=\"text-align: right;\">\n",
       "      <th></th>\n",
       "      <th>Intercept</th>\n",
       "      <th>beme</th>\n",
       "    </tr>\n",
       "    <tr>\n",
       "      <th>date</th>\n",
       "      <th></th>\n",
       "      <th></th>\n",
       "    </tr>\n",
       "  </thead>\n",
       "  <tbody>\n",
       "    <tr>\n",
       "      <th>1926-07-31</th>\n",
       "      <td>0.012579</td>\n",
       "      <td>0.005882</td>\n",
       "    </tr>\n",
       "    <tr>\n",
       "      <th>1926-08-31</th>\n",
       "      <td>0.009899</td>\n",
       "      <td>0.002373</td>\n",
       "    </tr>\n",
       "    <tr>\n",
       "      <th>1926-09-30</th>\n",
       "      <td>-0.013706</td>\n",
       "      <td>0.006393</td>\n",
       "    </tr>\n",
       "    <tr>\n",
       "      <th>1926-10-30</th>\n",
       "      <td>-0.037200</td>\n",
       "      <td>-0.000149</td>\n",
       "    </tr>\n",
       "    <tr>\n",
       "      <th>1926-11-30</th>\n",
       "      <td>0.017929</td>\n",
       "      <td>0.008330</td>\n",
       "    </tr>\n",
       "  </tbody>\n",
       "</table>\n",
       "</div>"
      ],
      "text/plain": [
       "            Intercept      beme\n",
       "date                           \n",
       "1926-07-31   0.012579  0.005882\n",
       "1926-08-31   0.009899  0.002373\n",
       "1926-09-30  -0.013706  0.006393\n",
       "1926-10-30  -0.037200 -0.000149\n",
       "1926-11-30   0.017929  0.008330"
      ]
     },
     "execution_count": 19,
     "metadata": {},
     "output_type": "execute_result"
    }
   ],
   "source": [
    "gamma_beme = (fdata.groupby('date')\n",
    "                .apply(ols_coef,'exret ~ 1 + beme', include_groups=False))\n",
    "gamma_beme.head()"
   ]
  },
  {
   "cell_type": "code",
   "execution_count": 20,
   "metadata": {
    "editable": true,
    "slideshow": {
     "slide_type": "subslide"
    },
    "tags": []
   },
   "outputs": [
    {
     "data": {
      "text/plain": [
       "<Axes: xlabel='date'>"
      ]
     },
     "execution_count": 20,
     "metadata": {},
     "output_type": "execute_result"
    },
    {
     "data": {
      "image/png": "[encoded data removed]",
      "text/plain": [
       "<Figure size 1000x600 with 1 Axes>"
      ]
     },
     "metadata": {},
     "output_type": "display_data"
    }
   ],
   "source": [
    "gamma_beme.beme.plot()"
   ]
  },
  {
   "cell_type": "markdown",
   "metadata": {
    "editable": true,
    "slideshow": {
     "slide_type": "subslide"
    },
    "tags": []
   },
   "source": [
    "#### What is the problem? "
   ]
  },
  {
   "cell_type": "code",
   "execution_count": 21,
   "metadata": {
    "editable": true,
    "slideshow": {
     "slide_type": "fragment"
    },
    "tags": []
   },
   "outputs": [],
   "source": [
    "fdata.dropna(subset=['mesum', 'beme', 'opbe', 'inv'], inplace = True)"
   ]
  },
  {
   "cell_type": "code",
   "execution_count": 22,
   "metadata": {
    "editable": true,
    "slideshow": {
     "slide_type": "fragment"
    },
    "tags": []
   },
   "outputs": [
    {
     "data": {
      "text/plain": [
       "<Axes: xlabel='date'>"
      ]
     },
     "execution_count": 22,
     "metadata": {},
     "output_type": "execute_result"
    },
    {
     "data": {
      "image/png": "[encoded data removed]",
      "text/plain": [
       "<Figure size 1000x600 with 1 Axes>"
      ]
     },
     "metadata": {},
     "output_type": "display_data"
    }
   ],
   "source": [
    "fdata.groupby('date').count().rankyear.plot()"
   ]
  },
  {
   "cell_type": "code",
   "execution_count": 23,
   "metadata": {
    "editable": true,
    "slideshow": {
     "slide_type": "fragment"
    },
    "tags": []
   },
   "outputs": [],
   "source": [
    "fdata = fdata[fdata.rankyear>=1963]"
   ]
  },
  {
   "cell_type": "markdown",
   "metadata": {
    "editable": true,
    "slideshow": {
     "slide_type": "subslide"
    },
    "tags": []
   },
   "source": [
    "#### Try to run the FM regression again!"
   ]
  },
  {
   "cell_type": "code",
   "execution_count": 24,
   "metadata": {
    "editable": true,
    "slideshow": {
     "slide_type": "fragment"
    },
    "tags": []
   },
   "outputs": [
    {
     "data": {
      "text/html": [
       "<div>\n",
       "<style scoped>\n",
       "    .dataframe tbody tr th:only-of-type {\n",
       "        vertical-align: middle;\n",
       "    }\n",
       "\n",
       "    .dataframe tbody tr th {\n",
       "        vertical-align: top;\n",
       "    }\n",
       "\n",
       "    .dataframe thead th {\n",
       "        text-align: right;\n",
       "    }\n",
       "</style>\n",
       "<table border=\"1\" class=\"dataframe\">\n",
       "  <thead>\n",
       "    <tr style=\"text-align: right;\">\n",
       "      <th></th>\n",
       "      <th>Intercept</th>\n",
       "      <th>beme</th>\n",
       "    </tr>\n",
       "    <tr>\n",
       "      <th>date</th>\n",
       "      <th></th>\n",
       "      <th></th>\n",
       "    </tr>\n",
       "  </thead>\n",
       "  <tbody>\n",
       "    <tr>\n",
       "      <th>1963-07-31</th>\n",
       "      <td>-0.006627</td>\n",
       "      <td>-0.004577</td>\n",
       "    </tr>\n",
       "    <tr>\n",
       "      <th>1963-08-30</th>\n",
       "      <td>0.050975</td>\n",
       "      <td>-0.005010</td>\n",
       "    </tr>\n",
       "    <tr>\n",
       "      <th>1963-09-30</th>\n",
       "      <td>-0.029140</td>\n",
       "      <td>0.009106</td>\n",
       "    </tr>\n",
       "    <tr>\n",
       "      <th>1963-10-31</th>\n",
       "      <td>0.009549</td>\n",
       "      <td>0.005234</td>\n",
       "    </tr>\n",
       "    <tr>\n",
       "      <th>1963-11-29</th>\n",
       "      <td>-0.011191</td>\n",
       "      <td>-0.000489</td>\n",
       "    </tr>\n",
       "  </tbody>\n",
       "</table>\n",
       "</div>"
      ],
      "text/plain": [
       "            Intercept      beme\n",
       "date                           \n",
       "1963-07-31  -0.006627 -0.004577\n",
       "1963-08-30   0.050975 -0.005010\n",
       "1963-09-30  -0.029140  0.009106\n",
       "1963-10-31   0.009549  0.005234\n",
       "1963-11-29  -0.011191 -0.000489"
      ]
     },
     "execution_count": 24,
     "metadata": {},
     "output_type": "execute_result"
    }
   ],
   "source": [
    "gamma_beme = (fdata.groupby('date')\n",
    "                .apply(ols_coef,'exret ~ 1 + beme', include_groups=False))\n",
    "gamma_beme.head()"
   ]
  },
  {
   "cell_type": "code",
   "execution_count": 25,
   "metadata": {
    "editable": true,
    "slideshow": {
     "slide_type": "subslide"
    },
    "tags": []
   },
   "outputs": [
    {
     "data": {
      "text/plain": [
       "<Axes: xlabel='date'>"
      ]
     },
     "execution_count": 25,
     "metadata": {},
     "output_type": "execute_result"
    },
    {
     "data": {
      "image/png": "[encoded data removed]",
      "text/plain": [
       "<Figure size 1000x600 with 1 Axes>"
      ]
     },
     "metadata": {},
     "output_type": "display_data"
    }
   ],
   "source": [
    "gamma_beme.beme.plot()"
   ]
  },
  {
   "cell_type": "code",
   "execution_count": 26,
   "metadata": {
    "editable": true,
    "scrolled": true,
    "slideshow": {
     "slide_type": "fragment"
    },
    "tags": []
   },
   "outputs": [
    {
     "data": {
      "text/html": [
       "<div>\n",
       "<style scoped>\n",
       "    .dataframe tbody tr th:only-of-type {\n",
       "        vertical-align: middle;\n",
       "    }\n",
       "\n",
       "    .dataframe tbody tr th {\n",
       "        vertical-align: top;\n",
       "    }\n",
       "\n",
       "    .dataframe thead th {\n",
       "        text-align: right;\n",
       "    }\n",
       "</style>\n",
       "<table border=\"1\" class=\"dataframe\">\n",
       "  <thead>\n",
       "    <tr style=\"text-align: right;\">\n",
       "      <th></th>\n",
       "      <th>mean</th>\n",
       "      <th>std_error</th>\n",
       "      <th>tstat</th>\n",
       "    </tr>\n",
       "  </thead>\n",
       "  <tbody>\n",
       "    <tr>\n",
       "      <th>Intercept</th>\n",
       "      <td>0.005463</td>\n",
       "      <td>0.002229</td>\n",
       "      <td>2.450570</td>\n",
       "    </tr>\n",
       "    <tr>\n",
       "      <th>beme</th>\n",
       "      <td>0.003046</td>\n",
       "      <td>0.000554</td>\n",
       "      <td>5.502776</td>\n",
       "    </tr>\n",
       "  </tbody>\n",
       "</table>\n",
       "</div>"
      ],
      "text/plain": [
       "               mean  std_error     tstat\n",
       "Intercept  0.005463   0.002229  2.450570\n",
       "beme       0.003046   0.000554  5.502776"
      ]
     },
     "execution_count": 26,
     "metadata": {},
     "output_type": "execute_result"
    }
   ],
   "source": [
    "# Fama-Macbeth regressions results\n",
    "fm_summary(gamma_beme)"
   ]
  },
  {
   "cell_type": "markdown",
   "metadata": {
    "editable": true,
    "slideshow": {
     "slide_type": "subslide"
    },
    "tags": []
   },
   "source": [
    "**What's the problem (again)?**"
   ]
  },
  {
   "cell_type": "code",
   "execution_count": 27,
   "metadata": {
    "editable": true,
    "slideshow": {
     "slide_type": "fragment"
    },
    "tags": []
   },
   "outputs": [
    {
     "data": {
      "text/plain": [
       "<Axes: >"
      ]
     },
     "execution_count": 27,
     "metadata": {},
     "output_type": "execute_result"
    },
    {
     "data": {
      "image/png": "[encoded data removed]",
      "text/plain": [
       "<Figure size 1000x600 with 1 Axes>"
      ]
     },
     "metadata": {},
     "output_type": "display_data"
    }
   ],
   "source": [
    "fdata.beme.hist()"
   ]
  },
  {
   "cell_type": "code",
   "execution_count": 28,
   "metadata": {
    "code_folding": [],
    "editable": true,
    "slideshow": {
     "slide_type": "subslide"
    },
    "tags": []
   },
   "outputs": [
    {
     "data": {
      "text/plain": [
       "<Axes: xlabel='date'>"
      ]
     },
     "execution_count": 28,
     "metadata": {},
     "output_type": "execute_result"
    },
    {
     "data": {
      "image/png": "[encoded data removed]",
      "text/plain": [
       "<Figure size 1000x600 with 1 Axes>"
      ]
     },
     "metadata": {},
     "output_type": "display_data"
    }
   ],
   "source": [
    "# Try log \n",
    "gamma_beme = (fdata.groupby('date')\n",
    "                .apply(ols_coef,'exret ~ 1 + np.log(beme)',include_groups=False))\n",
    "gamma_beme['np.log(beme)'].plot()"
   ]
  },
  {
   "cell_type": "code",
   "execution_count": 29,
   "metadata": {
    "editable": true,
    "scrolled": true,
    "slideshow": {
     "slide_type": "subslide"
    },
    "tags": []
   },
   "outputs": [
    {
     "data": {
      "text/html": [
       "<div>\n",
       "<style scoped>\n",
       "    .dataframe tbody tr th:only-of-type {\n",
       "        vertical-align: middle;\n",
       "    }\n",
       "\n",
       "    .dataframe tbody tr th {\n",
       "        vertical-align: top;\n",
       "    }\n",
       "\n",
       "    .dataframe thead th {\n",
       "        text-align: right;\n",
       "    }\n",
       "</style>\n",
       "<table border=\"1\" class=\"dataframe\">\n",
       "  <thead>\n",
       "    <tr style=\"text-align: right;\">\n",
       "      <th></th>\n",
       "      <th>mean</th>\n",
       "      <th>std_error</th>\n",
       "      <th>tstat</th>\n",
       "    </tr>\n",
       "  </thead>\n",
       "  <tbody>\n",
       "    <tr>\n",
       "      <th>Intercept</th>\n",
       "      <td>0.009678</td>\n",
       "      <td>0.002095</td>\n",
       "      <td>4.619094</td>\n",
       "    </tr>\n",
       "    <tr>\n",
       "      <th>np.log(beme)</th>\n",
       "      <td>0.003631</td>\n",
       "      <td>0.000535</td>\n",
       "      <td>6.782237</td>\n",
       "    </tr>\n",
       "  </tbody>\n",
       "</table>\n",
       "</div>"
      ],
      "text/plain": [
       "                  mean  std_error     tstat\n",
       "Intercept     0.009678   0.002095  4.619094\n",
       "np.log(beme)  0.003631   0.000535  6.782237"
      ]
     },
     "execution_count": 29,
     "metadata": {},
     "output_type": "execute_result"
    }
   ],
   "source": [
    "# Fama-Macbeth regressions results\n",
    "fm_summary(gamma_beme)"
   ]
  },
  {
   "cell_type": "markdown",
   "metadata": {
    "editable": true,
    "slideshow": {
     "slide_type": "subslide"
    },
    "tags": []
   },
   "source": [
    "#### Is Value dead?"
   ]
  },
  {
   "cell_type": "code",
   "execution_count": 30,
   "metadata": {
    "editable": true,
    "slideshow": {
     "slide_type": "fragment"
    },
    "tags": []
   },
   "outputs": [
    {
     "data": {
      "text/html": [
       "<div>\n",
       "<style scoped>\n",
       "    .dataframe tbody tr th:only-of-type {\n",
       "        vertical-align: middle;\n",
       "    }\n",
       "\n",
       "    .dataframe tbody tr th {\n",
       "        vertical-align: top;\n",
       "    }\n",
       "\n",
       "    .dataframe thead th {\n",
       "        text-align: right;\n",
       "    }\n",
       "</style>\n",
       "<table border=\"1\" class=\"dataframe\">\n",
       "  <thead>\n",
       "    <tr style=\"text-align: right;\">\n",
       "      <th></th>\n",
       "      <th>mean</th>\n",
       "      <th>std_error</th>\n",
       "      <th>tstat</th>\n",
       "    </tr>\n",
       "  </thead>\n",
       "  <tbody>\n",
       "    <tr>\n",
       "      <th>Intercept</th>\n",
       "      <td>0.009702</td>\n",
       "      <td>0.004446</td>\n",
       "      <td>2.182111</td>\n",
       "    </tr>\n",
       "    <tr>\n",
       "      <th>np.log(beme)</th>\n",
       "      <td>0.000924</td>\n",
       "      <td>0.000890</td>\n",
       "      <td>1.037955</td>\n",
       "    </tr>\n",
       "  </tbody>\n",
       "</table>\n",
       "</div>"
      ],
      "text/plain": [
       "                  mean  std_error     tstat\n",
       "Intercept     0.009702   0.004446  2.182111\n",
       "np.log(beme)  0.000924   0.000890  1.037955"
      ]
     },
     "execution_count": 30,
     "metadata": {},
     "output_type": "execute_result"
    }
   ],
   "source": [
    "fm_summary(gamma_beme.loc['2010-01-01':])"
   ]
  },
  {
   "cell_type": "code",
   "execution_count": 31,
   "metadata": {
    "editable": true,
    "slideshow": {
     "slide_type": "fragment"
    },
    "tags": []
   },
   "outputs": [
    {
     "data": {
      "text/html": [
       "<div>\n",
       "<style scoped>\n",
       "    .dataframe tbody tr th:only-of-type {\n",
       "        vertical-align: middle;\n",
       "    }\n",
       "\n",
       "    .dataframe tbody tr th {\n",
       "        vertical-align: top;\n",
       "    }\n",
       "\n",
       "    .dataframe thead th {\n",
       "        text-align: right;\n",
       "    }\n",
       "</style>\n",
       "<table border=\"1\" class=\"dataframe\">\n",
       "  <thead>\n",
       "    <tr style=\"text-align: right;\">\n",
       "      <th></th>\n",
       "      <th>mean</th>\n",
       "      <th>std_error</th>\n",
       "      <th>tstat</th>\n",
       "    </tr>\n",
       "  </thead>\n",
       "  <tbody>\n",
       "    <tr>\n",
       "      <th>Intercept</th>\n",
       "      <td>0.010695</td>\n",
       "      <td>0.002360</td>\n",
       "      <td>4.532558</td>\n",
       "    </tr>\n",
       "    <tr>\n",
       "      <th>np.log(beme)</th>\n",
       "      <td>0.004906</td>\n",
       "      <td>0.000667</td>\n",
       "      <td>7.352435</td>\n",
       "    </tr>\n",
       "  </tbody>\n",
       "</table>\n",
       "</div>"
      ],
      "text/plain": [
       "                  mean  std_error     tstat\n",
       "Intercept     0.010695   0.002360  4.532558\n",
       "np.log(beme)  0.004906   0.000667  7.352435"
      ]
     },
     "execution_count": 31,
     "metadata": {},
     "output_type": "execute_result"
    }
   ],
   "source": [
    "fm_summary(gamma_beme.loc[:'2006-12-31'])"
   ]
  },
  {
   "cell_type": "markdown",
   "metadata": {
    "editable": true,
    "slideshow": {
     "slide_type": "slide"
    },
    "tags": []
   },
   "source": [
    "### Does size forcast future returns?"
   ]
  },
  {
   "cell_type": "code",
   "execution_count": 32,
   "metadata": {
    "slideshow": {
     "slide_type": "fragment"
    }
   },
   "outputs": [
    {
     "data": {
      "text/plain": [
       "<Axes: xlabel='date'>"
      ]
     },
     "execution_count": 32,
     "metadata": {},
     "output_type": "execute_result"
    },
    {
     "data": {
      "image/png": "[encoded data removed]",
      "text/plain": [
       "<Figure size 1000x600 with 1 Axes>"
      ]
     },
     "metadata": {},
     "output_type": "display_data"
    }
   ],
   "source": [
    "gamma_me = (fdata.groupby('date')\n",
    "                .apply(ols_coef,'exret ~ 1 + np.log(mesum)',include_groups=False))\n",
    "gamma_me['np.log(mesum)'].plot()"
   ]
  },
  {
   "cell_type": "code",
   "execution_count": 33,
   "metadata": {
    "editable": true,
    "scrolled": true,
    "slideshow": {
     "slide_type": "subslide"
    },
    "tags": []
   },
   "outputs": [
    {
     "data": {
      "text/html": [
       "<div>\n",
       "<style scoped>\n",
       "    .dataframe tbody tr th:only-of-type {\n",
       "        vertical-align: middle;\n",
       "    }\n",
       "\n",
       "    .dataframe tbody tr th {\n",
       "        vertical-align: top;\n",
       "    }\n",
       "\n",
       "    .dataframe thead th {\n",
       "        text-align: right;\n",
       "    }\n",
       "</style>\n",
       "<table border=\"1\" class=\"dataframe\">\n",
       "  <thead>\n",
       "    <tr style=\"text-align: right;\">\n",
       "      <th></th>\n",
       "      <th>mean</th>\n",
       "      <th>std_error</th>\n",
       "      <th>tstat</th>\n",
       "    </tr>\n",
       "  </thead>\n",
       "  <tbody>\n",
       "    <tr>\n",
       "      <th>Intercept</th>\n",
       "      <td>0.018209</td>\n",
       "      <td>0.005177</td>\n",
       "      <td>3.517217</td>\n",
       "    </tr>\n",
       "    <tr>\n",
       "      <th>np.log(mesum)</th>\n",
       "      <td>-0.000955</td>\n",
       "      <td>0.000340</td>\n",
       "      <td>-2.808416</td>\n",
       "    </tr>\n",
       "  </tbody>\n",
       "</table>\n",
       "</div>"
      ],
      "text/plain": [
       "                   mean  std_error     tstat\n",
       "Intercept      0.018209   0.005177  3.517217\n",
       "np.log(mesum) -0.000955   0.000340 -2.808416"
      ]
     },
     "execution_count": 33,
     "metadata": {},
     "output_type": "execute_result"
    }
   ],
   "source": [
    "# Fama-Macbeth regressions results\n",
    "fm_summary(gamma_me) "
   ]
  },
  {
   "cell_type": "markdown",
   "metadata": {
    "slideshow": {
     "slide_type": "subslide"
    }
   },
   "source": [
    "#### What happened to Size factor?"
   ]
  },
  {
   "cell_type": "code",
   "execution_count": 34,
   "metadata": {
    "slideshow": {
     "slide_type": "fragment"
    }
   },
   "outputs": [
    {
     "data": {
      "text/html": [
       "<div>\n",
       "<style scoped>\n",
       "    .dataframe tbody tr th:only-of-type {\n",
       "        vertical-align: middle;\n",
       "    }\n",
       "\n",
       "    .dataframe tbody tr th {\n",
       "        vertical-align: top;\n",
       "    }\n",
       "\n",
       "    .dataframe thead th {\n",
       "        text-align: right;\n",
       "    }\n",
       "</style>\n",
       "<table border=\"1\" class=\"dataframe\">\n",
       "  <thead>\n",
       "    <tr style=\"text-align: right;\">\n",
       "      <th></th>\n",
       "      <th>mean</th>\n",
       "      <th>std_error</th>\n",
       "      <th>tstat</th>\n",
       "    </tr>\n",
       "  </thead>\n",
       "  <tbody>\n",
       "    <tr>\n",
       "      <th>Intercept</th>\n",
       "      <td>0.001766</td>\n",
       "      <td>0.009809</td>\n",
       "      <td>0.180003</td>\n",
       "    </tr>\n",
       "    <tr>\n",
       "      <th>np.log(mesum)</th>\n",
       "      <td>0.000519</td>\n",
       "      <td>0.000559</td>\n",
       "      <td>0.926850</td>\n",
       "    </tr>\n",
       "  </tbody>\n",
       "</table>\n",
       "</div>"
      ],
      "text/plain": [
       "                   mean  std_error     tstat\n",
       "Intercept      0.001766   0.009809  0.180003\n",
       "np.log(mesum)  0.000519   0.000559  0.926850"
      ]
     },
     "execution_count": 34,
     "metadata": {},
     "output_type": "execute_result"
    }
   ],
   "source": [
    "fm_summary(gamma_me['2010-01-01':]) "
   ]
  },
  {
   "cell_type": "code",
   "execution_count": 35,
   "metadata": {
    "scrolled": true,
    "slideshow": {
     "slide_type": "fragment"
    }
   },
   "outputs": [
    {
     "data": {
      "text/html": [
       "<div>\n",
       "<style scoped>\n",
       "    .dataframe tbody tr th:only-of-type {\n",
       "        vertical-align: middle;\n",
       "    }\n",
       "\n",
       "    .dataframe tbody tr th {\n",
       "        vertical-align: top;\n",
       "    }\n",
       "\n",
       "    .dataframe thead th {\n",
       "        text-align: right;\n",
       "    }\n",
       "</style>\n",
       "<table border=\"1\" class=\"dataframe\">\n",
       "  <thead>\n",
       "    <tr style=\"text-align: right;\">\n",
       "      <th></th>\n",
       "      <th>mean</th>\n",
       "      <th>std_error</th>\n",
       "      <th>tstat</th>\n",
       "    </tr>\n",
       "  </thead>\n",
       "  <tbody>\n",
       "    <tr>\n",
       "      <th>Intercept</th>\n",
       "      <td>0.025917</td>\n",
       "      <td>0.006294</td>\n",
       "      <td>4.117916</td>\n",
       "    </tr>\n",
       "    <tr>\n",
       "      <th>np.log(mesum)</th>\n",
       "      <td>-0.001572</td>\n",
       "      <td>0.000428</td>\n",
       "      <td>-3.670485</td>\n",
       "    </tr>\n",
       "  </tbody>\n",
       "</table>\n",
       "</div>"
      ],
      "text/plain": [
       "                   mean  std_error     tstat\n",
       "Intercept      0.025917   0.006294  4.117916\n",
       "np.log(mesum) -0.001572   0.000428 -3.670485"
      ]
     },
     "execution_count": 35,
     "metadata": {},
     "output_type": "execute_result"
    }
   ],
   "source": [
    "fm_summary(gamma_me[:'2006-12-31'])"
   ]
  },
  {
   "cell_type": "markdown",
   "metadata": {
    "slideshow": {
     "slide_type": "slide"
    }
   },
   "source": [
    "### What about Fama and French 2015?"
   ]
  },
  {
   "cell_type": "code",
   "execution_count": 36,
   "metadata": {
    "slideshow": {
     "slide_type": "fragment"
    }
   },
   "outputs": [
    {
     "data": {
      "text/html": [
       "<div>\n",
       "<style scoped>\n",
       "    .dataframe tbody tr th:only-of-type {\n",
       "        vertical-align: middle;\n",
       "    }\n",
       "\n",
       "    .dataframe tbody tr th {\n",
       "        vertical-align: top;\n",
       "    }\n",
       "\n",
       "    .dataframe thead th {\n",
       "        text-align: right;\n",
       "    }\n",
       "</style>\n",
       "<table border=\"1\" class=\"dataframe\">\n",
       "  <thead>\n",
       "    <tr style=\"text-align: right;\">\n",
       "      <th></th>\n",
       "      <th>Intercept</th>\n",
       "      <th>np.log(mesum)</th>\n",
       "      <th>np.log(beme)</th>\n",
       "      <th>opbe</th>\n",
       "      <th>inv</th>\n",
       "    </tr>\n",
       "    <tr>\n",
       "      <th>date</th>\n",
       "      <th></th>\n",
       "      <th></th>\n",
       "      <th></th>\n",
       "      <th></th>\n",
       "      <th></th>\n",
       "    </tr>\n",
       "  </thead>\n",
       "  <tbody>\n",
       "    <tr>\n",
       "      <th>1963-07-31</th>\n",
       "      <td>-0.014479</td>\n",
       "      <td>0.000131</td>\n",
       "      <td>-0.007537</td>\n",
       "      <td>0.000677</td>\n",
       "      <td>-0.003484</td>\n",
       "    </tr>\n",
       "    <tr>\n",
       "      <th>1963-08-30</th>\n",
       "      <td>-0.006839</td>\n",
       "      <td>0.004741</td>\n",
       "      <td>-0.000160</td>\n",
       "      <td>0.002729</td>\n",
       "      <td>-0.004614</td>\n",
       "    </tr>\n",
       "    <tr>\n",
       "      <th>1963-09-30</th>\n",
       "      <td>-0.035260</td>\n",
       "      <td>0.001629</td>\n",
       "      <td>0.011824</td>\n",
       "      <td>0.003394</td>\n",
       "      <td>-0.011412</td>\n",
       "    </tr>\n",
       "    <tr>\n",
       "      <th>1963-10-31</th>\n",
       "      <td>-0.008027</td>\n",
       "      <td>0.001755</td>\n",
       "      <td>0.007860</td>\n",
       "      <td>0.018835</td>\n",
       "      <td>0.001799</td>\n",
       "    </tr>\n",
       "    <tr>\n",
       "      <th>1963-11-29</th>\n",
       "      <td>-0.036530</td>\n",
       "      <td>0.002487</td>\n",
       "      <td>0.004466</td>\n",
       "      <td>0.002898</td>\n",
       "      <td>-0.026995</td>\n",
       "    </tr>\n",
       "  </tbody>\n",
       "</table>\n",
       "</div>"
      ],
      "text/plain": [
       "            Intercept  np.log(mesum)  np.log(beme)      opbe       inv\n",
       "date                                                                  \n",
       "1963-07-31  -0.014479       0.000131     -0.007537  0.000677 -0.003484\n",
       "1963-08-30  -0.006839       0.004741     -0.000160  0.002729 -0.004614\n",
       "1963-09-30  -0.035260       0.001629      0.011824  0.003394 -0.011412\n",
       "1963-10-31  -0.008027       0.001755      0.007860  0.018835  0.001799\n",
       "1963-11-29  -0.036530       0.002487      0.004466  0.002898 -0.026995"
      ]
     },
     "execution_count": 36,
     "metadata": {},
     "output_type": "execute_result"
    }
   ],
   "source": [
    "gamma_f5 = (fdata.groupby('date')\n",
    "                .apply(ols_coef,'exret ~ 1 + np.log(mesum)+ np.log(beme) + opbe + inv',include_groups=False))\n",
    "gamma_f5.head()"
   ]
  },
  {
   "cell_type": "code",
   "execution_count": 37,
   "metadata": {
    "slideshow": {
     "slide_type": "subslide"
    }
   },
   "outputs": [
    {
     "data": {
      "text/plain": [
       "<Axes: xlabel='date'>"
      ]
     },
     "execution_count": 37,
     "metadata": {},
     "output_type": "execute_result"
    },
    {
     "data": {
      "image/png": "[encoded data removed]",
      "text/plain": [
       "<Figure size 1000x600 with 1 Axes>"
      ]
     },
     "metadata": {},
     "output_type": "display_data"
    }
   ],
   "source": [
    "gamma_f5.plot()"
   ]
  },
  {
   "cell_type": "code",
   "execution_count": 38,
   "metadata": {
    "slideshow": {
     "slide_type": "subslide"
    }
   },
   "outputs": [
    {
     "data": {
      "text/html": [
       "<div>\n",
       "<style scoped>\n",
       "    .dataframe tbody tr th:only-of-type {\n",
       "        vertical-align: middle;\n",
       "    }\n",
       "\n",
       "    .dataframe tbody tr th {\n",
       "        vertical-align: top;\n",
       "    }\n",
       "\n",
       "    .dataframe thead th {\n",
       "        text-align: right;\n",
       "    }\n",
       "</style>\n",
       "<table border=\"1\" class=\"dataframe\">\n",
       "  <thead>\n",
       "    <tr style=\"text-align: right;\">\n",
       "      <th></th>\n",
       "      <th>mean</th>\n",
       "      <th>std_error</th>\n",
       "      <th>tstat</th>\n",
       "    </tr>\n",
       "  </thead>\n",
       "  <tbody>\n",
       "    <tr>\n",
       "      <th>Intercept</th>\n",
       "      <td>0.015976</td>\n",
       "      <td>0.005373</td>\n",
       "      <td>2.973585</td>\n",
       "    </tr>\n",
       "    <tr>\n",
       "      <th>np.log(mesum)</th>\n",
       "      <td>-0.000626</td>\n",
       "      <td>0.000368</td>\n",
       "      <td>-1.703691</td>\n",
       "    </tr>\n",
       "    <tr>\n",
       "      <th>np.log(beme)</th>\n",
       "      <td>0.002807</td>\n",
       "      <td>0.000592</td>\n",
       "      <td>4.741452</td>\n",
       "    </tr>\n",
       "    <tr>\n",
       "      <th>opbe</th>\n",
       "      <td>0.000475</td>\n",
       "      <td>0.000272</td>\n",
       "      <td>1.742002</td>\n",
       "    </tr>\n",
       "    <tr>\n",
       "      <th>inv</th>\n",
       "      <td>-0.001864</td>\n",
       "      <td>0.000314</td>\n",
       "      <td>-5.942056</td>\n",
       "    </tr>\n",
       "  </tbody>\n",
       "</table>\n",
       "</div>"
      ],
      "text/plain": [
       "                   mean  std_error     tstat\n",
       "Intercept      0.015976   0.005373  2.973585\n",
       "np.log(mesum) -0.000626   0.000368 -1.703691\n",
       "np.log(beme)   0.002807   0.000592  4.741452\n",
       "opbe           0.000475   0.000272  1.742002\n",
       "inv           -0.001864   0.000314 -5.942056"
      ]
     },
     "execution_count": 38,
     "metadata": {},
     "output_type": "execute_result"
    }
   ],
   "source": [
    "fm_summary(gamma_f5)"
   ]
  },
  {
   "cell_type": "code",
   "execution_count": 39,
   "metadata": {
    "slideshow": {
     "slide_type": "fragment"
    }
   },
   "outputs": [
    {
     "data": {
      "text/html": [
       "<div>\n",
       "<style scoped>\n",
       "    .dataframe tbody tr th:only-of-type {\n",
       "        vertical-align: middle;\n",
       "    }\n",
       "\n",
       "    .dataframe tbody tr th {\n",
       "        vertical-align: top;\n",
       "    }\n",
       "\n",
       "    .dataframe thead th {\n",
       "        text-align: right;\n",
       "    }\n",
       "</style>\n",
       "<table border=\"1\" class=\"dataframe\">\n",
       "  <thead>\n",
       "    <tr style=\"text-align: right;\">\n",
       "      <th></th>\n",
       "      <th>mean</th>\n",
       "      <th>std_error</th>\n",
       "      <th>tstat</th>\n",
       "    </tr>\n",
       "  </thead>\n",
       "  <tbody>\n",
       "    <tr>\n",
       "      <th>Intercept</th>\n",
       "      <td>0.023868</td>\n",
       "      <td>0.006592</td>\n",
       "      <td>3.620751</td>\n",
       "    </tr>\n",
       "    <tr>\n",
       "      <th>np.log(mesum)</th>\n",
       "      <td>-0.001221</td>\n",
       "      <td>0.000465</td>\n",
       "      <td>-2.623550</td>\n",
       "    </tr>\n",
       "    <tr>\n",
       "      <th>np.log(beme)</th>\n",
       "      <td>0.003428</td>\n",
       "      <td>0.000744</td>\n",
       "      <td>4.604554</td>\n",
       "    </tr>\n",
       "    <tr>\n",
       "      <th>opbe</th>\n",
       "      <td>0.000618</td>\n",
       "      <td>0.000381</td>\n",
       "      <td>1.622967</td>\n",
       "    </tr>\n",
       "    <tr>\n",
       "      <th>inv</th>\n",
       "      <td>-0.002419</td>\n",
       "      <td>0.000436</td>\n",
       "      <td>-5.553315</td>\n",
       "    </tr>\n",
       "  </tbody>\n",
       "</table>\n",
       "</div>"
      ],
      "text/plain": [
       "                   mean  std_error     tstat\n",
       "Intercept      0.023868   0.006592  3.620751\n",
       "np.log(mesum) -0.001221   0.000465 -2.623550\n",
       "np.log(beme)   0.003428   0.000744  4.604554\n",
       "opbe           0.000618   0.000381  1.622967\n",
       "inv           -0.002419   0.000436 -5.553315"
      ]
     },
     "execution_count": 39,
     "metadata": {},
     "output_type": "execute_result"
    }
   ],
   "source": [
    "fm_summary(gamma_f5[:'2006-12-31']) "
   ]
  },
  {
   "cell_type": "markdown",
   "metadata": {
    "slideshow": {
     "slide_type": "slide"
    }
   },
   "source": [
    "## Long-short portfolio"
   ]
  },
  {
   "cell_type": "markdown",
   "metadata": {
    "slideshow": {
     "slide_type": "subslide"
    }
   },
   "source": [
    "### How to Construct a \"Factor\"?\n",
    "<img src=\"ff6.png\" width=\"800\" height=\"400\">"
   ]
  },
  {
   "cell_type": "markdown",
   "metadata": {
    "slideshow": {
     "slide_type": "subslide"
    }
   },
   "source": [
    "### Sort Portfolio"
   ]
  },
  {
   "cell_type": "code",
   "execution_count": 40,
   "metadata": {
    "slideshow": {
     "slide_type": "fragment"
    }
   },
   "outputs": [
    {
     "name": "stdout",
     "output_type": "stream",
     "text": [
      "NYSE breakpoints were calculated for mesum.\n",
      "Stocks were sorted according to breakpoints, starting in 1963\n",
      "NYSE breakpoints were calculated for beme.\n",
      "Stocks were sorted according to breakpoints, starting in 1963\n",
      "NYSE breakpoints were calculated for opbe.\n",
      "Stocks were sorted according to breakpoints, starting in 1963\n",
      "NYSE breakpoints were calculated for inv.\n",
      "Stocks were sorted according to breakpoints, starting in 1963\n"
     ]
    }
   ],
   "source": [
    "port = sort_portfolios(data = fdata,\n",
    "                       quantiles={'mesum': [0.5],\n",
    "                                  'beme': [0.3, 0.7],\n",
    "                                  'opbe': [0.3, 0.7],\n",
    "                                  'inv': [0.3, 0.7]},\n",
    "                       id_variables=['rankyear', 'permno', 'exchcd'],\n",
    "                       exch_cd=[1])  "
   ]
  },
  {
   "cell_type": "markdown",
   "metadata": {
    "slideshow": {
     "slide_type": "subslide"
    }
   },
   "source": [
    "Look at the data."
   ]
  },
  {
   "cell_type": "code",
   "execution_count": 41,
   "metadata": {
    "slideshow": {
     "slide_type": "fragment"
    }
   },
   "outputs": [
    {
     "data": {
      "text/html": [
       "<div>\n",
       "<style scoped>\n",
       "    .dataframe tbody tr th:only-of-type {\n",
       "        vertical-align: middle;\n",
       "    }\n",
       "\n",
       "    .dataframe tbody tr th {\n",
       "        vertical-align: top;\n",
       "    }\n",
       "\n",
       "    .dataframe thead th {\n",
       "        text-align: right;\n",
       "    }\n",
       "</style>\n",
       "<table border=\"1\" class=\"dataframe\">\n",
       "  <thead>\n",
       "    <tr style=\"text-align: right;\">\n",
       "      <th></th>\n",
       "      <th>rankyear</th>\n",
       "      <th>permno</th>\n",
       "      <th>invportfolio</th>\n",
       "      <th>opbeportfolio</th>\n",
       "      <th>bemeportfolio</th>\n",
       "      <th>mesumportfolio</th>\n",
       "    </tr>\n",
       "  </thead>\n",
       "  <tbody>\n",
       "    <tr>\n",
       "      <th>0</th>\n",
       "      <td>1963</td>\n",
       "      <td>10006.0</td>\n",
       "      <td>inv1</td>\n",
       "      <td>opbe1</td>\n",
       "      <td>beme3</td>\n",
       "      <td>mesum2</td>\n",
       "    </tr>\n",
       "    <tr>\n",
       "      <th>1</th>\n",
       "      <td>1963</td>\n",
       "      <td>10014.0</td>\n",
       "      <td>inv2</td>\n",
       "      <td>opbe1</td>\n",
       "      <td>beme3</td>\n",
       "      <td>mesum1</td>\n",
       "    </tr>\n",
       "    <tr>\n",
       "      <th>2</th>\n",
       "      <td>1963</td>\n",
       "      <td>10102.0</td>\n",
       "      <td>inv3</td>\n",
       "      <td>opbe2</td>\n",
       "      <td>beme2</td>\n",
       "      <td>mesum2</td>\n",
       "    </tr>\n",
       "    <tr>\n",
       "      <th>3</th>\n",
       "      <td>1963</td>\n",
       "      <td>10137.0</td>\n",
       "      <td>inv2</td>\n",
       "      <td>opbe3</td>\n",
       "      <td>beme1</td>\n",
       "      <td>mesum2</td>\n",
       "    </tr>\n",
       "    <tr>\n",
       "      <th>4</th>\n",
       "      <td>1963</td>\n",
       "      <td>10145.0</td>\n",
       "      <td>inv3</td>\n",
       "      <td>opbe2</td>\n",
       "      <td>beme2</td>\n",
       "      <td>mesum2</td>\n",
       "    </tr>\n",
       "  </tbody>\n",
       "</table>\n",
       "</div>"
      ],
      "text/plain": [
       "   rankyear   permno invportfolio opbeportfolio bemeportfolio mesumportfolio\n",
       "0      1963  10006.0         inv1         opbe1         beme3         mesum2\n",
       "1      1963  10014.0         inv2         opbe1         beme3         mesum1\n",
       "2      1963  10102.0         inv3         opbe2         beme2         mesum2\n",
       "3      1963  10137.0         inv2         opbe3         beme1         mesum2\n",
       "4      1963  10145.0         inv3         opbe2         beme2         mesum2"
      ]
     },
     "execution_count": 41,
     "metadata": {},
     "output_type": "execute_result"
    }
   ],
   "source": [
    "port.head()"
   ]
  },
  {
   "cell_type": "code",
   "execution_count": 42,
   "metadata": {},
   "outputs": [
    {
     "data": {
      "text/plain": [
       "rankyear  mesumportfolio\n",
       "1963      mesum1             525\n",
       "          mesum2             382\n",
       "1964      mesum1             597\n",
       "          mesum2             391\n",
       "1965      mesum1             671\n",
       "                            ... \n",
       "2022      mesum2             952\n",
       "2023      mesum1            2629\n",
       "          mesum2             930\n",
       "2024      mesum1            2479\n",
       "          mesum2             920\n",
       "Name: mesumportfolio, Length: 124, dtype: int64"
      ]
     },
     "execution_count": 42,
     "metadata": {},
     "output_type": "execute_result"
    }
   ],
   "source": [
    "port.groupby(['rankyear','mesumportfolio'],observed=False).mesumportfolio.count()"
   ]
  },
  {
   "cell_type": "markdown",
   "metadata": {
    "slideshow": {
     "slide_type": "slide"
    }
   },
   "source": [
    "### Portfolio returns"
   ]
  },
  {
   "cell_type": "markdown",
   "metadata": {
    "slideshow": {
     "slide_type": "subslide"
    }
   },
   "source": [
    "#### Merge data"
   ]
  },
  {
   "cell_type": "code",
   "execution_count": 43,
   "metadata": {
    "slideshow": {
     "slide_type": "fragment"
    }
   },
   "outputs": [],
   "source": [
    "port_ret = pd.merge(fdata[['permno', 'date', 'rankyear', 'exret', 'retadj', 'lag_me', 'ticker', 'conm', 'rf']], \n",
    "                port,\n",
    "                on = ['permno', 'rankyear']) "
   ]
  },
  {
   "cell_type": "markdown",
   "metadata": {
    "slideshow": {
     "slide_type": "subslide"
    }
   },
   "source": [
    "Have a look at Apple in 2019. Which portfolio did Apple belong to?"
   ]
  },
  {
   "cell_type": "code",
   "execution_count": 44,
   "metadata": {
    "slideshow": {
     "slide_type": "fragment"
    }
   },
   "outputs": [
    {
     "data": {
      "text/html": [
       "<div>\n",
       "<style scoped>\n",
       "    .dataframe tbody tr th:only-of-type {\n",
       "        vertical-align: middle;\n",
       "    }\n",
       "\n",
       "    .dataframe tbody tr th {\n",
       "        vertical-align: top;\n",
       "    }\n",
       "\n",
       "    .dataframe thead th {\n",
       "        text-align: right;\n",
       "    }\n",
       "</style>\n",
       "<table border=\"1\" class=\"dataframe\">\n",
       "  <thead>\n",
       "    <tr style=\"text-align: right;\">\n",
       "      <th></th>\n",
       "      <th>permno</th>\n",
       "      <th>date</th>\n",
       "      <th>rankyear</th>\n",
       "      <th>exret</th>\n",
       "      <th>retadj</th>\n",
       "      <th>lag_me</th>\n",
       "      <th>ticker</th>\n",
       "      <th>conm</th>\n",
       "      <th>rf</th>\n",
       "      <th>invportfolio</th>\n",
       "      <th>opbeportfolio</th>\n",
       "      <th>bemeportfolio</th>\n",
       "      <th>mesumportfolio</th>\n",
       "    </tr>\n",
       "  </thead>\n",
       "  <tbody>\n",
       "    <tr>\n",
       "      <th>292124</th>\n",
       "      <td>14593</td>\n",
       "      <td>2019-01-31</td>\n",
       "      <td>2018</td>\n",
       "      <td>0.053234</td>\n",
       "      <td>0.055154</td>\n",
       "      <td>746079.172518</td>\n",
       "      <td>AAPL</td>\n",
       "      <td>APPLE INC</td>\n",
       "      <td>0.00192</td>\n",
       "      <td>inv3</td>\n",
       "      <td>opbe3</td>\n",
       "      <td>beme1</td>\n",
       "      <td>mesum2</td>\n",
       "    </tr>\n",
       "  </tbody>\n",
       "</table>\n",
       "</div>"
      ],
      "text/plain": [
       "        permno       date  rankyear     exret    retadj         lag_me ticker  \\\n",
       "292124   14593 2019-01-31      2018  0.053234  0.055154  746079.172518   AAPL   \n",
       "\n",
       "             conm       rf invportfolio opbeportfolio bemeportfolio  \\\n",
       "292124  APPLE INC  0.00192         inv3         opbe3         beme1   \n",
       "\n",
       "       mesumportfolio  \n",
       "292124         mesum2  "
      ]
     },
     "execution_count": 44,
     "metadata": {},
     "output_type": "execute_result"
    }
   ],
   "source": [
    "port_ret[(port_ret.ticker=='AAPL') & (port_ret.date=='2019-01-31')]"
   ]
  },
  {
   "cell_type": "code",
   "execution_count": 45,
   "metadata": {
    "slideshow": {
     "slide_type": "fragment"
    }
   },
   "outputs": [
    {
     "data": {
      "text/html": [
       "<div>\n",
       "<style scoped>\n",
       "    .dataframe tbody tr th:only-of-type {\n",
       "        vertical-align: middle;\n",
       "    }\n",
       "\n",
       "    .dataframe tbody tr th {\n",
       "        vertical-align: top;\n",
       "    }\n",
       "\n",
       "    .dataframe thead th {\n",
       "        text-align: right;\n",
       "    }\n",
       "</style>\n",
       "<table border=\"1\" class=\"dataframe\">\n",
       "  <thead>\n",
       "    <tr style=\"text-align: right;\">\n",
       "      <th></th>\n",
       "      <th>permno</th>\n",
       "      <th>date</th>\n",
       "      <th>rankyear</th>\n",
       "      <th>exret</th>\n",
       "      <th>retadj</th>\n",
       "      <th>lag_me</th>\n",
       "      <th>ticker</th>\n",
       "      <th>conm</th>\n",
       "      <th>rf</th>\n",
       "      <th>invportfolio</th>\n",
       "      <th>opbeportfolio</th>\n",
       "      <th>bemeportfolio</th>\n",
       "      <th>mesumportfolio</th>\n",
       "    </tr>\n",
       "  </thead>\n",
       "  <tbody>\n",
       "    <tr>\n",
       "      <th>292136</th>\n",
       "      <td>14593</td>\n",
       "      <td>2020-01-31</td>\n",
       "      <td>2019</td>\n",
       "      <td>0.052846</td>\n",
       "      <td>0.05401</td>\n",
       "      <td>1.287643e+06</td>\n",
       "      <td>AAPL</td>\n",
       "      <td>APPLE INC</td>\n",
       "      <td>0.001164</td>\n",
       "      <td>inv1</td>\n",
       "      <td>opbe3</td>\n",
       "      <td>beme1</td>\n",
       "      <td>mesum2</td>\n",
       "    </tr>\n",
       "  </tbody>\n",
       "</table>\n",
       "</div>"
      ],
      "text/plain": [
       "        permno       date  rankyear     exret   retadj        lag_me ticker  \\\n",
       "292136   14593 2020-01-31      2019  0.052846  0.05401  1.287643e+06   AAPL   \n",
       "\n",
       "             conm        rf invportfolio opbeportfolio bemeportfolio  \\\n",
       "292136  APPLE INC  0.001164         inv1         opbe3         beme1   \n",
       "\n",
       "       mesumportfolio  \n",
       "292136         mesum2  "
      ]
     },
     "execution_count": 45,
     "metadata": {},
     "output_type": "execute_result"
    }
   ],
   "source": [
    "port_ret[(port_ret.ticker=='AAPL') & (port_ret.date=='2020-01-31')]"
   ]
  },
  {
   "cell_type": "markdown",
   "metadata": {
    "slideshow": {
     "slide_type": "slide"
    }
   },
   "source": [
    "#### Calculate returns"
   ]
  },
  {
   "cell_type": "code",
   "execution_count": 46,
   "metadata": {
    "slideshow": {
     "slide_type": "fragment"
    }
   },
   "outputs": [],
   "source": [
    "beme_ret = port_ret.groupby(['date', 'mesumportfolio', 'bemeportfolio'],observed=False).apply(\n",
    "    lambda x: np.average(x.retadj, weights=x.lag_me),include_groups=False)"
   ]
  },
  {
   "cell_type": "code",
   "execution_count": 47,
   "metadata": {
    "slideshow": {
     "slide_type": "fragment"
    }
   },
   "outputs": [
    {
     "data": {
      "text/plain": [
       "date        mesumportfolio  bemeportfolio\n",
       "1963-07-31  mesum1          beme1           -0.008538\n",
       "                            beme2           -0.009805\n",
       "                            beme3           -0.016721\n",
       "            mesum2          beme1            0.001260\n",
       "                            beme2            0.004718\n",
       "                                               ...   \n",
       "2024-12-31  mesum1          beme2           -0.087601\n",
       "                            beme3           -0.064743\n",
       "            mesum2          beme1           -0.008098\n",
       "                            beme2           -0.070836\n",
       "                            beme3           -0.066247\n",
       "Length: 4428, dtype: float64"
      ]
     },
     "execution_count": 47,
     "metadata": {},
     "output_type": "execute_result"
    }
   ],
   "source": [
    "beme_ret"
   ]
  },
  {
   "cell_type": "code",
   "execution_count": 48,
   "metadata": {
    "slideshow": {
     "slide_type": "subslide"
    }
   },
   "outputs": [
    {
     "data": {
      "text/html": [
       "<div>\n",
       "<style scoped>\n",
       "    .dataframe tbody tr th:only-of-type {\n",
       "        vertical-align: middle;\n",
       "    }\n",
       "\n",
       "    .dataframe tbody tr th {\n",
       "        vertical-align: top;\n",
       "    }\n",
       "\n",
       "    .dataframe thead tr th {\n",
       "        text-align: left;\n",
       "    }\n",
       "\n",
       "    .dataframe thead tr:last-of-type th {\n",
       "        text-align: right;\n",
       "    }\n",
       "</style>\n",
       "<table border=\"1\" class=\"dataframe\">\n",
       "  <thead>\n",
       "    <tr>\n",
       "      <th>mesumportfolio</th>\n",
       "      <th colspan=\"3\" halign=\"left\">mesum1</th>\n",
       "      <th colspan=\"3\" halign=\"left\">mesum2</th>\n",
       "    </tr>\n",
       "    <tr>\n",
       "      <th>bemeportfolio</th>\n",
       "      <th>beme1</th>\n",
       "      <th>beme2</th>\n",
       "      <th>beme3</th>\n",
       "      <th>beme1</th>\n",
       "      <th>beme2</th>\n",
       "      <th>beme3</th>\n",
       "    </tr>\n",
       "    <tr>\n",
       "      <th>date</th>\n",
       "      <th></th>\n",
       "      <th></th>\n",
       "      <th></th>\n",
       "      <th></th>\n",
       "      <th></th>\n",
       "      <th></th>\n",
       "    </tr>\n",
       "  </thead>\n",
       "  <tbody>\n",
       "    <tr>\n",
       "      <th>1963-07-31</th>\n",
       "      <td>-0.008538</td>\n",
       "      <td>-0.009805</td>\n",
       "      <td>-0.016721</td>\n",
       "      <td>0.001260</td>\n",
       "      <td>0.004718</td>\n",
       "      <td>-0.012421</td>\n",
       "    </tr>\n",
       "    <tr>\n",
       "      <th>1963-08-30</th>\n",
       "      <td>0.058752</td>\n",
       "      <td>0.049117</td>\n",
       "      <td>0.054417</td>\n",
       "      <td>0.054961</td>\n",
       "      <td>0.046401</td>\n",
       "      <td>0.076299</td>\n",
       "    </tr>\n",
       "    <tr>\n",
       "      <th>1963-09-30</th>\n",
       "      <td>-0.037228</td>\n",
       "      <td>-0.012053</td>\n",
       "      <td>-0.017964</td>\n",
       "      <td>-0.015183</td>\n",
       "      <td>-0.006918</td>\n",
       "      <td>-0.004640</td>\n",
       "    </tr>\n",
       "    <tr>\n",
       "      <th>1963-10-31</th>\n",
       "      <td>0.009547</td>\n",
       "      <td>0.015909</td>\n",
       "      <td>0.034698</td>\n",
       "      <td>0.045328</td>\n",
       "      <td>0.016143</td>\n",
       "      <td>0.028257</td>\n",
       "    </tr>\n",
       "    <tr>\n",
       "      <th>1963-11-29</th>\n",
       "      <td>-0.023892</td>\n",
       "      <td>-0.014579</td>\n",
       "      <td>-0.002550</td>\n",
       "      <td>-0.011891</td>\n",
       "      <td>0.004552</td>\n",
       "      <td>-0.011355</td>\n",
       "    </tr>\n",
       "    <tr>\n",
       "      <th>...</th>\n",
       "      <td>...</td>\n",
       "      <td>...</td>\n",
       "      <td>...</td>\n",
       "      <td>...</td>\n",
       "      <td>...</td>\n",
       "      <td>...</td>\n",
       "    </tr>\n",
       "    <tr>\n",
       "      <th>2024-08-30</th>\n",
       "      <td>0.008148</td>\n",
       "      <td>-0.025125</td>\n",
       "      <td>-0.019354</td>\n",
       "      <td>0.023176</td>\n",
       "      <td>0.013827</td>\n",
       "      <td>0.023953</td>\n",
       "    </tr>\n",
       "    <tr>\n",
       "      <th>2024-09-30</th>\n",
       "      <td>0.029885</td>\n",
       "      <td>0.005382</td>\n",
       "      <td>0.000876</td>\n",
       "      <td>0.028148</td>\n",
       "      <td>0.009104</td>\n",
       "      <td>-0.007833</td>\n",
       "    </tr>\n",
       "    <tr>\n",
       "      <th>2024-10-31</th>\n",
       "      <td>-0.004348</td>\n",
       "      <td>-0.015031</td>\n",
       "      <td>-0.007289</td>\n",
       "      <td>-0.008700</td>\n",
       "      <td>-0.008306</td>\n",
       "      <td>0.019327</td>\n",
       "    </tr>\n",
       "    <tr>\n",
       "      <th>2024-11-29</th>\n",
       "      <td>0.152343</td>\n",
       "      <td>0.106407</td>\n",
       "      <td>0.112419</td>\n",
       "      <td>0.064726</td>\n",
       "      <td>0.062196</td>\n",
       "      <td>0.102560</td>\n",
       "    </tr>\n",
       "    <tr>\n",
       "      <th>2024-12-31</th>\n",
       "      <td>-0.074968</td>\n",
       "      <td>-0.087601</td>\n",
       "      <td>-0.064743</td>\n",
       "      <td>-0.008098</td>\n",
       "      <td>-0.070836</td>\n",
       "      <td>-0.066247</td>\n",
       "    </tr>\n",
       "  </tbody>\n",
       "</table>\n",
       "<p>738 rows × 6 columns</p>\n",
       "</div>"
      ],
      "text/plain": [
       "mesumportfolio    mesum1                        mesum2                    \n",
       "bemeportfolio      beme1     beme2     beme3     beme1     beme2     beme3\n",
       "date                                                                      \n",
       "1963-07-31     -0.008538 -0.009805 -0.016721  0.001260  0.004718 -0.012421\n",
       "1963-08-30      0.058752  0.049117  0.054417  0.054961  0.046401  0.076299\n",
       "1963-09-30     -0.037228 -0.012053 -0.017964 -0.015183 -0.006918 -0.004640\n",
       "1963-10-31      0.009547  0.015909  0.034698  0.045328  0.016143  0.028257\n",
       "1963-11-29     -0.023892 -0.014579 -0.002550 -0.011891  0.004552 -0.011355\n",
       "...                  ...       ...       ...       ...       ...       ...\n",
       "2024-08-30      0.008148 -0.025125 -0.019354  0.023176  0.013827  0.023953\n",
       "2024-09-30      0.029885  0.005382  0.000876  0.028148  0.009104 -0.007833\n",
       "2024-10-31     -0.004348 -0.015031 -0.007289 -0.008700 -0.008306  0.019327\n",
       "2024-11-29      0.152343  0.106407  0.112419  0.064726  0.062196  0.102560\n",
       "2024-12-31     -0.074968 -0.087601 -0.064743 -0.008098 -0.070836 -0.066247\n",
       "\n",
       "[738 rows x 6 columns]"
      ]
     },
     "execution_count": 48,
     "metadata": {},
     "output_type": "execute_result"
    }
   ],
   "source": [
    "beme_ret = beme_ret.unstack(level=[1, 2])\n",
    "beme_ret"
   ]
  },
  {
   "cell_type": "code",
   "execution_count": 49,
   "metadata": {
    "editable": true,
    "slideshow": {
     "slide_type": "subslide"
    },
    "tags": []
   },
   "outputs": [
    {
     "data": {
      "text/plain": [
       "<Axes: xlabel='date'>"
      ]
     },
     "execution_count": 49,
     "metadata": {},
     "output_type": "execute_result"
    },
    {
     "data": {
      "image/png": "[encoded data removed]",
      "text/plain": [
       "<Figure size 1000x600 with 1 Axes>"
      ]
     },
     "metadata": {},
     "output_type": "display_data"
    }
   ],
   "source": [
    "(1+beme_ret).cumprod().plot(grid=True, logy=True)"
   ]
  },
  {
   "cell_type": "code",
   "execution_count": 50,
   "metadata": {
    "editable": true,
    "slideshow": {
     "slide_type": "subslide"
    },
    "tags": []
   },
   "outputs": [],
   "source": [
    "# HML returns\n",
    "beme_ret['hml'] = beme_ret.loc[:, idx[:, 'beme3']].mean(axis=1) - beme_ret.loc[:, idx[:, 'beme1']].mean(axis=1)"
   ]
  },
  {
   "cell_type": "code",
   "execution_count": 51,
   "metadata": {
    "slideshow": {
     "slide_type": "fragment"
    }
   },
   "outputs": [],
   "source": [
    "rf_data = mdata.loc[(mdata.date >= '1963-07-01') , ['date','rf']].drop_duplicates()\n",
    "rf_data.set_index('date', inplace = True)"
   ]
  },
  {
   "cell_type": "code",
   "execution_count": 52,
   "metadata": {
    "slideshow": {
     "slide_type": "fragment"
    }
   },
   "outputs": [
    {
     "data": {
      "text/plain": [
       "<Axes: xlabel='date'>"
      ]
     },
     "execution_count": 52,
     "metadata": {},
     "output_type": "execute_result"
    },
    {
     "data": {
      "image/png": "[encoded data removed]",
      "text/plain": [
       "<Figure size 1000x600 with 1 Axes>"
      ]
     },
     "metadata": {},
     "output_type": "display_data"
    }
   ],
   "source": [
    "(1+beme_ret['hml'].add(rf_data['rf'], axis = 'index')).cumprod().plot(grid=True, logy = True)"
   ]
  },
  {
   "cell_type": "code",
   "execution_count": 53,
   "metadata": {
    "slideshow": {
     "slide_type": "subslide"
    }
   },
   "outputs": [],
   "source": [
    "# Characteristic: beme\n",
    "# --------------------\n",
    "charvars = ['mesum', 'beme']\n",
    "beme_ret = port_ret.groupby(['date']+[charvar+\"portfolio\" for charvar in charvars],observed=False).apply(\n",
    "    lambda x: np.average(x.retadj, weights=x.lag_me),include_groups=False)\n",
    "beme_ret = beme_ret.unstack(level=[1, 2])\n",
    "beme_ret['hml'] = beme_ret.loc[:, idx[:, 'beme3']].mean(axis=1) - beme_ret.loc[:, idx[:, 'beme1']].mean(axis=1)"
   ]
  },
  {
   "cell_type": "code",
   "execution_count": 54,
   "metadata": {
    "slideshow": {
     "slide_type": "subslide"
    }
   },
   "outputs": [],
   "source": [
    "# Characteristic: op\n",
    "# -------------------\n",
    "charvars = ['mesum', 'opbe']\n",
    "op_ret = port_ret.groupby(['date']+[charvar+\"portfolio\" for charvar in charvars],observed=False).apply(\n",
    "    lambda x: np.average(x.retadj, weights=x.lag_me),include_groups=False)\n",
    "op_ret = op_ret.unstack(level=[1, 2])\n",
    "op_ret['rmw'] = op_ret.loc[:, idx[:, 'opbe3']].mean(axis=1) - op_ret.loc[:, idx[:, 'opbe1']].mean(axis=1)\n",
    "del charvars"
   ]
  },
  {
   "cell_type": "code",
   "execution_count": 55,
   "metadata": {
    "slideshow": {
     "slide_type": "subslide"
    }
   },
   "outputs": [],
   "source": [
    "# Characteristic: inv\n",
    "# -------------------\n",
    "charvars = ['mesum', 'inv']\n",
    "inv_ret = port_ret.groupby(['date']+[charvar+\"portfolio\" for charvar in charvars],observed=False).apply(\n",
    "    lambda x: np.average(x.retadj, weights=x.lag_me),include_groups=False)\n",
    "inv_ret = inv_ret.unstack(level=[1, 2])\n",
    "inv_ret['cma'] = inv_ret.loc[:, idx[:, 'inv1']].mean(axis=1) - inv_ret.loc[:, idx[:, 'inv3']].mean(axis=1)\n",
    "del charvars"
   ]
  },
  {
   "cell_type": "code",
   "execution_count": 56,
   "metadata": {
    "slideshow": {
     "slide_type": "fragment"
    }
   },
   "outputs": [
    {
     "data": {
      "text/html": [
       "<div>\n",
       "<style scoped>\n",
       "    .dataframe tbody tr th:only-of-type {\n",
       "        vertical-align: middle;\n",
       "    }\n",
       "\n",
       "    .dataframe tbody tr th {\n",
       "        vertical-align: top;\n",
       "    }\n",
       "\n",
       "    .dataframe thead tr th {\n",
       "        text-align: left;\n",
       "    }\n",
       "\n",
       "    .dataframe thead tr:last-of-type th {\n",
       "        text-align: right;\n",
       "    }\n",
       "</style>\n",
       "<table border=\"1\" class=\"dataframe\">\n",
       "  <thead>\n",
       "    <tr>\n",
       "      <th>mesumportfolio</th>\n",
       "      <th colspan=\"3\" halign=\"left\">mesum1</th>\n",
       "      <th colspan=\"3\" halign=\"left\">mesum2</th>\n",
       "      <th>cma</th>\n",
       "    </tr>\n",
       "    <tr>\n",
       "      <th>invportfolio</th>\n",
       "      <th>inv1</th>\n",
       "      <th>inv2</th>\n",
       "      <th>inv3</th>\n",
       "      <th>inv1</th>\n",
       "      <th>inv2</th>\n",
       "      <th>inv3</th>\n",
       "      <th></th>\n",
       "    </tr>\n",
       "    <tr>\n",
       "      <th>date</th>\n",
       "      <th></th>\n",
       "      <th></th>\n",
       "      <th></th>\n",
       "      <th></th>\n",
       "      <th></th>\n",
       "      <th></th>\n",
       "      <th></th>\n",
       "    </tr>\n",
       "  </thead>\n",
       "  <tbody>\n",
       "    <tr>\n",
       "      <th>1963-07-31</th>\n",
       "      <td>-0.018781</td>\n",
       "      <td>-0.013862</td>\n",
       "      <td>-0.003078</td>\n",
       "      <td>-0.012528</td>\n",
       "      <td>0.004541</td>\n",
       "      <td>0.004152</td>\n",
       "      <td>-0.016191</td>\n",
       "    </tr>\n",
       "    <tr>\n",
       "      <th>1963-08-30</th>\n",
       "      <td>0.048961</td>\n",
       "      <td>0.046819</td>\n",
       "      <td>0.063307</td>\n",
       "      <td>0.061669</td>\n",
       "      <td>0.049925</td>\n",
       "      <td>0.053848</td>\n",
       "      <td>-0.003262</td>\n",
       "    </tr>\n",
       "    <tr>\n",
       "      <th>1963-09-30</th>\n",
       "      <td>-0.011098</td>\n",
       "      <td>-0.020595</td>\n",
       "      <td>-0.027963</td>\n",
       "      <td>-0.016715</td>\n",
       "      <td>-0.009981</td>\n",
       "      <td>-0.010115</td>\n",
       "      <td>0.005133</td>\n",
       "    </tr>\n",
       "    <tr>\n",
       "      <th>1963-10-31</th>\n",
       "      <td>0.017941</td>\n",
       "      <td>0.017541</td>\n",
       "      <td>0.028831</td>\n",
       "      <td>0.023777</td>\n",
       "      <td>0.015821</td>\n",
       "      <td>0.063848</td>\n",
       "      <td>-0.025480</td>\n",
       "    </tr>\n",
       "    <tr>\n",
       "      <th>1963-11-29</th>\n",
       "      <td>-0.007336</td>\n",
       "      <td>-0.012075</td>\n",
       "      <td>-0.017028</td>\n",
       "      <td>0.003895</td>\n",
       "      <td>0.001684</td>\n",
       "      <td>-0.020874</td>\n",
       "      <td>0.017230</td>\n",
       "    </tr>\n",
       "    <tr>\n",
       "      <th>...</th>\n",
       "      <td>...</td>\n",
       "      <td>...</td>\n",
       "      <td>...</td>\n",
       "      <td>...</td>\n",
       "      <td>...</td>\n",
       "      <td>...</td>\n",
       "      <td>...</td>\n",
       "    </tr>\n",
       "    <tr>\n",
       "      <th>2024-08-30</th>\n",
       "      <td>-0.002277</td>\n",
       "      <td>-0.017652</td>\n",
       "      <td>-0.021491</td>\n",
       "      <td>0.027947</td>\n",
       "      <td>0.022941</td>\n",
       "      <td>0.018616</td>\n",
       "      <td>0.014273</td>\n",
       "    </tr>\n",
       "    <tr>\n",
       "      <th>2024-09-30</th>\n",
       "      <td>0.022269</td>\n",
       "      <td>0.009013</td>\n",
       "      <td>0.003507</td>\n",
       "      <td>0.015687</td>\n",
       "      <td>0.022557</td>\n",
       "      <td>0.022059</td>\n",
       "      <td>0.006195</td>\n",
       "    </tr>\n",
       "    <tr>\n",
       "      <th>2024-10-31</th>\n",
       "      <td>-0.019422</td>\n",
       "      <td>-0.007877</td>\n",
       "      <td>-0.003271</td>\n",
       "      <td>-0.002855</td>\n",
       "      <td>-0.013710</td>\n",
       "      <td>-0.001681</td>\n",
       "      <td>-0.008662</td>\n",
       "    </tr>\n",
       "    <tr>\n",
       "      <th>2024-11-29</th>\n",
       "      <td>0.122350</td>\n",
       "      <td>0.115777</td>\n",
       "      <td>0.125910</td>\n",
       "      <td>0.053742</td>\n",
       "      <td>0.065225</td>\n",
       "      <td>0.071520</td>\n",
       "      <td>-0.010669</td>\n",
       "    </tr>\n",
       "    <tr>\n",
       "      <th>2024-12-31</th>\n",
       "      <td>-0.065174</td>\n",
       "      <td>-0.080859</td>\n",
       "      <td>-0.085161</td>\n",
       "      <td>-0.058123</td>\n",
       "      <td>-0.024215</td>\n",
       "      <td>-0.018507</td>\n",
       "      <td>-0.009814</td>\n",
       "    </tr>\n",
       "  </tbody>\n",
       "</table>\n",
       "<p>738 rows × 7 columns</p>\n",
       "</div>"
      ],
      "text/plain": [
       "mesumportfolio    mesum1                        mesum2                      \\\n",
       "invportfolio        inv1      inv2      inv3      inv1      inv2      inv3   \n",
       "date                                                                         \n",
       "1963-07-31     -0.018781 -0.013862 -0.003078 -0.012528  0.004541  0.004152   \n",
       "1963-08-30      0.048961  0.046819  0.063307  0.061669  0.049925  0.053848   \n",
       "1963-09-30     -0.011098 -0.020595 -0.027963 -0.016715 -0.009981 -0.010115   \n",
       "1963-10-31      0.017941  0.017541  0.028831  0.023777  0.015821  0.063848   \n",
       "1963-11-29     -0.007336 -0.012075 -0.017028  0.003895  0.001684 -0.020874   \n",
       "...                  ...       ...       ...       ...       ...       ...   \n",
       "2024-08-30     -0.002277 -0.017652 -0.021491  0.027947  0.022941  0.018616   \n",
       "2024-09-30      0.022269  0.009013  0.003507  0.015687  0.022557  0.022059   \n",
       "2024-10-31     -0.019422 -0.007877 -0.003271 -0.002855 -0.013710 -0.001681   \n",
       "2024-11-29      0.122350  0.115777  0.125910  0.053742  0.065225  0.071520   \n",
       "2024-12-31     -0.065174 -0.080859 -0.085161 -0.058123 -0.024215 -0.018507   \n",
       "\n",
       "mesumportfolio       cma  \n",
       "invportfolio              \n",
       "date                      \n",
       "1963-07-31     -0.016191  \n",
       "1963-08-30     -0.003262  \n",
       "1963-09-30      0.005133  \n",
       "1963-10-31     -0.025480  \n",
       "1963-11-29      0.017230  \n",
       "...                  ...  \n",
       "2024-08-30      0.014273  \n",
       "2024-09-30      0.006195  \n",
       "2024-10-31     -0.008662  \n",
       "2024-11-29     -0.010669  \n",
       "2024-12-31     -0.009814  \n",
       "\n",
       "[738 rows x 7 columns]"
      ]
     },
     "execution_count": 56,
     "metadata": {},
     "output_type": "execute_result"
    }
   ],
   "source": [
    "inv_ret"
   ]
  },
  {
   "cell_type": "code",
   "execution_count": 57,
   "metadata": {
    "slideshow": {
     "slide_type": "subslide"
    }
   },
   "outputs": [],
   "source": [
    "# Characteristic: size\n",
    "# --------------------\n",
    "fret = pd.DataFrame()\n",
    "fret['smb'] = (beme_ret.loc[:, 'mesum1'].mean(axis=1) - beme_ret.loc[:,'mesum2'].mean(axis=1) +\n",
    "               op_ret.loc[:, 'mesum1'].mean(axis=1) - op_ret.loc[:,'mesum2'].mean(axis=1) +\n",
    "               inv_ret.loc[:, 'mesum1'].mean(axis=1) - inv_ret.loc[:,'mesum2'].mean(axis=1))*(1/3)"
   ]
  },
  {
   "cell_type": "code",
   "execution_count": 58,
   "metadata": {
    "slideshow": {
     "slide_type": "subslide"
    }
   },
   "outputs": [],
   "source": [
    "# %% Aggregate all\n",
    "beme_ret.columns = [''.join(col).strip() for col in beme_ret.columns.values]\n",
    "op_ret.columns = [''.join(col).strip() for col in op_ret.columns.values]\n",
    "inv_ret.columns = [''.join(col).strip() for col in inv_ret.columns.values]"
   ]
  },
  {
   "cell_type": "code",
   "execution_count": 59,
   "metadata": {
    "slideshow": {
     "slide_type": "fragment"
    }
   },
   "outputs": [],
   "source": [
    "fret = fret.join(beme_ret[['hml']]).join(op_ret[['rmw']]).join(inv_ret[['cma']])"
   ]
  },
  {
   "cell_type": "code",
   "execution_count": 60,
   "metadata": {
    "slideshow": {
     "slide_type": "fragment"
    }
   },
   "outputs": [
    {
     "data": {
      "text/html": [
       "<div>\n",
       "<style scoped>\n",
       "    .dataframe tbody tr th:only-of-type {\n",
       "        vertical-align: middle;\n",
       "    }\n",
       "\n",
       "    .dataframe tbody tr th {\n",
       "        vertical-align: top;\n",
       "    }\n",
       "\n",
       "    .dataframe thead th {\n",
       "        text-align: right;\n",
       "    }\n",
       "</style>\n",
       "<table border=\"1\" class=\"dataframe\">\n",
       "  <thead>\n",
       "    <tr style=\"text-align: right;\">\n",
       "      <th></th>\n",
       "      <th>smb</th>\n",
       "      <th>hml</th>\n",
       "      <th>rmw</th>\n",
       "      <th>cma</th>\n",
       "    </tr>\n",
       "    <tr>\n",
       "      <th>date</th>\n",
       "      <th></th>\n",
       "      <th></th>\n",
       "      <th></th>\n",
       "      <th></th>\n",
       "    </tr>\n",
       "  </thead>\n",
       "  <tbody>\n",
       "    <tr>\n",
       "      <th>1963-07-31</th>\n",
       "      <td>-0.010579</td>\n",
       "      <td>-0.010932</td>\n",
       "      <td>0.007197</td>\n",
       "      <td>-0.016191</td>\n",
       "    </tr>\n",
       "    <tr>\n",
       "      <th>1963-08-30</th>\n",
       "      <td>-0.002371</td>\n",
       "      <td>0.008502</td>\n",
       "      <td>0.003703</td>\n",
       "      <td>-0.003262</td>\n",
       "    </tr>\n",
       "    <tr>\n",
       "      <th>1963-09-30</th>\n",
       "      <td>-0.009816</td>\n",
       "      <td>0.014904</td>\n",
       "      <td>-0.007293</td>\n",
       "      <td>0.005133</td>\n",
       "    </tr>\n",
       "    <tr>\n",
       "      <th>1963-10-31</th>\n",
       "      <td>-0.009468</td>\n",
       "      <td>0.004040</td>\n",
       "      <td>0.029230</td>\n",
       "      <td>-0.025480</td>\n",
       "    </tr>\n",
       "    <tr>\n",
       "      <th>1963-11-29</th>\n",
       "      <td>-0.006028</td>\n",
       "      <td>0.010939</td>\n",
       "      <td>0.000516</td>\n",
       "      <td>0.017230</td>\n",
       "    </tr>\n",
       "    <tr>\n",
       "      <th>...</th>\n",
       "      <td>...</td>\n",
       "      <td>...</td>\n",
       "      <td>...</td>\n",
       "      <td>...</td>\n",
       "    </tr>\n",
       "    <tr>\n",
       "      <th>2024-08-30</th>\n",
       "      <td>-0.033695</td>\n",
       "      <td>-0.013363</td>\n",
       "      <td>0.006940</td>\n",
       "      <td>0.014273</td>\n",
       "    </tr>\n",
       "    <tr>\n",
       "      <th>2024-09-30</th>\n",
       "      <td>-0.005952</td>\n",
       "      <td>-0.032495</td>\n",
       "      <td>-0.002251</td>\n",
       "      <td>0.006195</td>\n",
       "    </tr>\n",
       "    <tr>\n",
       "      <th>2024-10-31</th>\n",
       "      <td>-0.006261</td>\n",
       "      <td>0.012544</td>\n",
       "      <td>-0.004321</td>\n",
       "      <td>-0.008662</td>\n",
       "    </tr>\n",
       "    <tr>\n",
       "      <th>2024-11-29</th>\n",
       "      <td>0.048471</td>\n",
       "      <td>-0.001045</td>\n",
       "      <td>-0.024538</td>\n",
       "      <td>-0.010669</td>\n",
       "    </tr>\n",
       "    <tr>\n",
       "      <th>2024-12-31</th>\n",
       "      <td>-0.037692</td>\n",
       "      <td>-0.023962</td>\n",
       "      <td>0.018869</td>\n",
       "      <td>-0.009814</td>\n",
       "    </tr>\n",
       "  </tbody>\n",
       "</table>\n",
       "<p>738 rows × 4 columns</p>\n",
       "</div>"
      ],
      "text/plain": [
       "                 smb       hml       rmw       cma\n",
       "date                                              \n",
       "1963-07-31 -0.010579 -0.010932  0.007197 -0.016191\n",
       "1963-08-30 -0.002371  0.008502  0.003703 -0.003262\n",
       "1963-09-30 -0.009816  0.014904 -0.007293  0.005133\n",
       "1963-10-31 -0.009468  0.004040  0.029230 -0.025480\n",
       "1963-11-29 -0.006028  0.010939  0.000516  0.017230\n",
       "...              ...       ...       ...       ...\n",
       "2024-08-30 -0.033695 -0.013363  0.006940  0.014273\n",
       "2024-09-30 -0.005952 -0.032495 -0.002251  0.006195\n",
       "2024-10-31 -0.006261  0.012544 -0.004321 -0.008662\n",
       "2024-11-29  0.048471 -0.001045 -0.024538 -0.010669\n",
       "2024-12-31 -0.037692 -0.023962  0.018869 -0.009814\n",
       "\n",
       "[738 rows x 4 columns]"
      ]
     },
     "execution_count": 60,
     "metadata": {},
     "output_type": "execute_result"
    }
   ],
   "source": [
    "fret  "
   ]
  },
  {
   "cell_type": "code",
   "execution_count": 61,
   "metadata": {
    "slideshow": {
     "slide_type": "subslide"
    }
   },
   "outputs": [
    {
     "data": {
      "text/plain": [
       "<Axes: xlabel='date'>"
      ]
     },
     "execution_count": 61,
     "metadata": {},
     "output_type": "execute_result"
    },
    {
     "data": {
      "image/png": "[encoded data removed]",
      "text/plain": [
       "<Figure size 1000x600 with 1 Axes>"
      ]
     },
     "metadata": {},
     "output_type": "display_data"
    }
   ],
   "source": [
    "(1+fret.add(rf_data['rf'], axis = 'index')).cumprod().plot(grid=True, logy = True)"
   ]
  },
  {
   "cell_type": "markdown",
   "metadata": {
    "slideshow": {
     "slide_type": "slide"
    }
   },
   "source": [
    "### Average Returns"
   ]
  },
  {
   "cell_type": "code",
   "execution_count": 62,
   "metadata": {
    "slideshow": {
     "slide_type": "fragment"
    }
   },
   "outputs": [
    {
     "data": {
      "text/plain": [
       "smb    2.492155\n",
       "hml    2.662741\n",
       "rmw    3.344846\n",
       "cma    2.443585\n",
       "dtype: float64"
      ]
     },
     "execution_count": 62,
     "metadata": {},
     "output_type": "execute_result"
    }
   ],
   "source": [
    "fret.mean()*100*12"
   ]
  },
  {
   "cell_type": "markdown",
   "metadata": {
    "slideshow": {
     "slide_type": "slide"
    }
   },
   "source": [
    "### Compare Sharpe-ratio"
   ]
  },
  {
   "cell_type": "code",
   "execution_count": 63,
   "metadata": {
    "slideshow": {
     "slide_type": "fragment"
    }
   },
   "outputs": [
    {
     "data": {
      "text/plain": [
       "smb    0.240314\n",
       "hml    0.247261\n",
       "rmw    0.422856\n",
       "cma    0.319251\n",
       "dtype: float64"
      ]
     },
     "execution_count": 63,
     "metadata": {},
     "output_type": "execute_result"
    }
   ],
   "source": [
    "(fret.mean()/fret.std())*np.sqrt(12)"
   ]
  },
  {
   "cell_type": "code",
   "execution_count": null,
   "metadata": {},
   "outputs": [],
   "source": []
  }
 ],
 "metadata": {
  "celltoolbar": "Slideshow",
  "kernelspec": {
   "display_name": "Python 3 (ipykernel)",
   "language": "python",
   "name": "python3"
  },
  "language_info": {
   "codemirror_mode": {
    "name": "ipython",
    "version": 3
   },
   "file_extension": ".py",
   "mimetype": "text/x-python",
   "name": "python",
   "nbconvert_exporter": "python",
   "pygments_lexer": "ipython3",
   "version": "3.9.13"
  },
  "toc": {
   "base_numbering": 1,
   "nav_menu": {},
   "number_sections": true,
   "sideBar": true,
   "skip_h1_title": true,
   "title_cell": "Table of Contents",
   "title_sidebar": "Contents",
   "toc_cell": true,
   "toc_position": {},
   "toc_section_display": true,
   "toc_window_display": false
  }
 },
 "nbformat": 4,
 "nbformat_minor": 4
}

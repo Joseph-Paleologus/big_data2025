{
 "cells": [
  {
   "cell_type": "markdown",
   "metadata": {
    "editable": true,
    "slideshow": {
     "slide_type": "slide"
    },
    "tags": []
   },
   "source": [
    "# Big Data in Finance: Part IV <BR><BR> Lecture Notes 6: Performance Evaluation\n",
    "    \n",
    "**Instructor** <BR>\n",
    "Kirsten Burr, kburr26@gsb.columbia.edu\n",
    "    \n",
    "**TA's:** <BR>\n",
    "Dian Jiao, dj2526@columbia.edu <BR>\n",
    "Varuun Deshpande, vdeshpande25@gsb.columbia.edu\n",
    "    \n",
    "<sub> Credit: lecture notes originally developed by Lira Mota"
   ]
  },
  {
   "cell_type": "markdown",
   "metadata": {
    "editable": true,
    "slideshow": {
     "slide_type": "slide"
    },
    "tags": []
   },
   "source": [
    "## Up Next\n",
    "1. Study the mom vs. short-term reversal strategies\n",
    "2. Fama-MacBeth regressions\n",
    "3. Alpha evaluation\n",
    "4. Homework: Momentum "
   ]
  },
  {
   "cell_type": "markdown",
   "metadata": {
    "slideshow": {
     "slide_type": "slide"
    }
   },
   "source": [
    "## Momentum and Reversal\n",
    "\n",
    "Return autocorrelations appear to be... \n",
    "1. initially negative at horizons up to a month or two (**short term reversal**),\n",
    "2. then positive for horizons from 3 to 12 months (**momentum**),\n",
    "3. then possibly negative again at horizons of several years (**long term reversal**).\n",
    "   \n",
    "<img src=\"momentum.png\" width=\"800\" height=\"400\">"
   ]
  },
  {
   "cell_type": "markdown",
   "metadata": {
    "slideshow": {
     "slide_type": "slide"
    }
   },
   "source": [
    "## Set Up"
   ]
  },
  {
   "cell_type": "code",
   "execution_count": 1,
   "metadata": {
    "slideshow": {
     "slide_type": "fragment"
    }
   },
   "outputs": [],
   "source": [
    "#%% Packages \n",
    "import sys\n",
    "import pandas as pd\n",
    "from pandas.tseries.offsets import MonthEnd\n",
    "\n",
    "import numpy as np\n",
    "import datetime\n",
    "\n",
    "import statsmodels.api as sm\n",
    "import statsmodels.formula.api as smf\n",
    "\n",
    "import matplotlib.pyplot as plt\n",
    "\n",
    "import time\n",
    "from time import strptime, strftime\n",
    "\n",
    "# Setups\n",
    "pd.set_option(\"display.max_rows\", 100) # max number or rows to be displayed \n",
    "%matplotlib inline \n",
    "plt.rcParams['figure.figsize'] = [10, 6]\n",
    "idx = pd.IndexSlice"
   ]
  },
  {
   "cell_type": "code",
   "execution_count": 2,
   "metadata": {
    "slideshow": {
     "slide_type": "subslide"
    }
   },
   "outputs": [],
   "source": [
    "# Packages from fire_pytools\n",
    "sys.path.append(\"../../fire_pytools\") \n",
    "\n",
    "from utils.monthly_date import *\n",
    "from portools.find_breakpoints import find_breakpoints\n",
    "from portools.sort_portfolios import sort_portfolios\n",
    "from import_kf.kf_factors import *\n",
    "from utils.post_event_nan import * "
   ]
  },
  {
   "cell_type": "markdown",
   "metadata": {
    "slideshow": {
     "slide_type": "slide"
    }
   },
   "source": [
    "## Download Data"
   ]
  },
  {
   "cell_type": "code",
   "execution_count": 3,
   "metadata": {
    "slideshow": {
     "slide_type": "subslide"
    }
   },
   "outputs": [
    {
     "data": {
      "text/plain": [
       "Index(['permno', 'date', 'dlret', 'dlretx', 'exchcd', 'naics', 'permco', 'prc',\n",
       "       'ret', 'shrcd', 'shrout', 'siccd', 'ticker', 'rankyear', 'retadj', 'me',\n",
       "       'lag_me', 'lag_dlret', 'melag_weights', 'mdate', 'rf'],\n",
       "      dtype='object')"
      ]
     },
     "execution_count": 3,
     "metadata": {},
     "output_type": "execute_result"
    }
   ],
   "source": [
    "mdata = pd.read_pickle('../stock_monthly.pkl')\n",
    "mdata.columns"
   ]
  },
  {
   "cell_type": "code",
   "execution_count": 4,
   "metadata": {
    "slideshow": {
     "slide_type": "subslide"
    }
   },
   "outputs": [],
   "source": [
    "# Clean Data\n",
    "## Data start in 2010\n",
    "mdata = mdata[mdata.date>='1970-01-01']\n",
    "## Share type - select only common stocks \n",
    "mdata = mdata[mdata.shrcd.isin([10, 11])]\n",
    "## Select stocks traded on the major stock exchanges\n",
    "mdata = mdata[mdata.exchcd.isin([1, 2, 3])]\n",
    "## Order\n",
    "mdata = mdata.sort_values(['permno','date'])"
   ]
  },
  {
   "cell_type": "code",
   "execution_count": 5,
   "metadata": {
    "slideshow": {
     "slide_type": "fragment"
    }
   },
   "outputs": [],
   "source": [
    "# Work with excess returns\n",
    "mdata['exret'] = mdata['retadj'] - mdata['rf']"
   ]
  },
  {
   "cell_type": "code",
   "execution_count": 6,
   "metadata": {
    "slideshow": {
     "slide_type": "subslide"
    }
   },
   "outputs": [
    {
     "data": {
      "text/plain": [
       "Index(['permno', 'date', 'dlret', 'dlretx', 'exchcd', 'naics', 'permco', 'prc',\n",
       "       'ret', 'shrcd', 'shrout', 'siccd', 'ticker', 'rankyear', 'retadj', 'me',\n",
       "       'lag_me', 'lag_dlret', 'melag_weights', 'mdate', 'rf', 'exret'],\n",
       "      dtype='object')"
      ]
     },
     "execution_count": 6,
     "metadata": {},
     "output_type": "execute_result"
    }
   ],
   "source": [
    "mdata.columns"
   ]
  },
  {
   "cell_type": "code",
   "execution_count": 7,
   "metadata": {
    "slideshow": {
     "slide_type": "fragment"
    }
   },
   "outputs": [],
   "source": [
    "mdata = mdata[['permno', 'date', 'exret', 'permco','me', 'melag_weights', 'siccd', 'exchcd']].copy()"
   ]
  },
  {
   "cell_type": "code",
   "execution_count": 8,
   "metadata": {
    "slideshow": {
     "slide_type": "fragment"
    }
   },
   "outputs": [
    {
     "data": {
      "text/html": [
       "<div>\n",
       "<style scoped>\n",
       "    .dataframe tbody tr th:only-of-type {\n",
       "        vertical-align: middle;\n",
       "    }\n",
       "\n",
       "    .dataframe tbody tr th {\n",
       "        vertical-align: top;\n",
       "    }\n",
       "\n",
       "    .dataframe thead th {\n",
       "        text-align: right;\n",
       "    }\n",
       "</style>\n",
       "<table border=\"1\" class=\"dataframe\">\n",
       "  <thead>\n",
       "    <tr style=\"text-align: right;\">\n",
       "      <th></th>\n",
       "      <th>permno</th>\n",
       "      <th>date</th>\n",
       "      <th>exret</th>\n",
       "      <th>permco</th>\n",
       "      <th>me</th>\n",
       "      <th>melag_weights</th>\n",
       "      <th>siccd</th>\n",
       "      <th>exchcd</th>\n",
       "    </tr>\n",
       "  </thead>\n",
       "  <tbody>\n",
       "    <tr>\n",
       "      <th>1</th>\n",
       "      <td>10000</td>\n",
       "      <td>1986-01-31</td>\n",
       "      <td>NaN</td>\n",
       "      <td>7952.0</td>\n",
       "      <td>1.610000e+01</td>\n",
       "      <td>NaN</td>\n",
       "      <td>3990.0</td>\n",
       "      <td>3.0</td>\n",
       "    </tr>\n",
       "    <tr>\n",
       "      <th>2</th>\n",
       "      <td>10000</td>\n",
       "      <td>1986-02-28</td>\n",
       "      <td>-0.262439</td>\n",
       "      <td>7952.0</td>\n",
       "      <td>1.196000e+01</td>\n",
       "      <td>1.610000e+01</td>\n",
       "      <td>3990.0</td>\n",
       "      <td>3.0</td>\n",
       "    </tr>\n",
       "    <tr>\n",
       "      <th>3</th>\n",
       "      <td>10000</td>\n",
       "      <td>1986-03-31</td>\n",
       "      <td>0.359422</td>\n",
       "      <td>7952.0</td>\n",
       "      <td>1.633000e+01</td>\n",
       "      <td>1.196000e+01</td>\n",
       "      <td>3990.0</td>\n",
       "      <td>3.0</td>\n",
       "    </tr>\n",
       "    <tr>\n",
       "      <th>4</th>\n",
       "      <td>10000</td>\n",
       "      <td>1986-04-30</td>\n",
       "      <td>-0.103933</td>\n",
       "      <td>7952.0</td>\n",
       "      <td>1.517200e+01</td>\n",
       "      <td>1.633000e+01</td>\n",
       "      <td>3990.0</td>\n",
       "      <td>3.0</td>\n",
       "    </tr>\n",
       "    <tr>\n",
       "      <th>5</th>\n",
       "      <td>10000</td>\n",
       "      <td>1986-05-30</td>\n",
       "      <td>-0.227590</td>\n",
       "      <td>7952.0</td>\n",
       "      <td>1.179388e+01</td>\n",
       "      <td>1.517200e+01</td>\n",
       "      <td>3990.0</td>\n",
       "      <td>3.0</td>\n",
       "    </tr>\n",
       "    <tr>\n",
       "      <th>...</th>\n",
       "      <td>...</td>\n",
       "      <td>...</td>\n",
       "      <td>...</td>\n",
       "      <td>...</td>\n",
       "      <td>...</td>\n",
       "      <td>...</td>\n",
       "      <td>...</td>\n",
       "      <td>...</td>\n",
       "    </tr>\n",
       "    <tr>\n",
       "      <th>5158013</th>\n",
       "      <td>93436</td>\n",
       "      <td>2024-08-30</td>\n",
       "      <td>-0.081810</td>\n",
       "      <td>53453.0</td>\n",
       "      <td>6.840044e+05</td>\n",
       "      <td>7.413801e+05</td>\n",
       "      <td>9999.0</td>\n",
       "      <td>3.0</td>\n",
       "    </tr>\n",
       "    <tr>\n",
       "      <th>5158014</th>\n",
       "      <td>93436</td>\n",
       "      <td>2024-09-30</td>\n",
       "      <td>0.217323</td>\n",
       "      <td>53453.0</td>\n",
       "      <td>8.390474e+05</td>\n",
       "      <td>6.840044e+05</td>\n",
       "      <td>9999.0</td>\n",
       "      <td>3.0</td>\n",
       "    </tr>\n",
       "    <tr>\n",
       "      <th>5158015</th>\n",
       "      <td>93436</td>\n",
       "      <td>2024-10-31</td>\n",
       "      <td>-0.048932</td>\n",
       "      <td>53453.0</td>\n",
       "      <td>8.020335e+05</td>\n",
       "      <td>8.390474e+05</td>\n",
       "      <td>9999.0</td>\n",
       "      <td>3.0</td>\n",
       "    </tr>\n",
       "    <tr>\n",
       "      <th>5158016</th>\n",
       "      <td>93436</td>\n",
       "      <td>2024-11-29</td>\n",
       "      <td>0.377514</td>\n",
       "      <td>53453.0</td>\n",
       "      <td>1.107984e+06</td>\n",
       "      <td>8.020335e+05</td>\n",
       "      <td>9999.0</td>\n",
       "      <td>3.0</td>\n",
       "    </tr>\n",
       "    <tr>\n",
       "      <th>5158017</th>\n",
       "      <td>93436</td>\n",
       "      <td>2024-12-31</td>\n",
       "      <td>0.166345</td>\n",
       "      <td>53453.0</td>\n",
       "      <td>1.296351e+06</td>\n",
       "      <td>1.107984e+06</td>\n",
       "      <td>9999.0</td>\n",
       "      <td>3.0</td>\n",
       "    </tr>\n",
       "  </tbody>\n",
       "</table>\n",
       "<p>3269536 rows × 8 columns</p>\n",
       "</div>"
      ],
      "text/plain": [
       "         permno       date     exret   permco            me  melag_weights  \\\n",
       "1         10000 1986-01-31       NaN   7952.0  1.610000e+01            NaN   \n",
       "2         10000 1986-02-28 -0.262439   7952.0  1.196000e+01   1.610000e+01   \n",
       "3         10000 1986-03-31  0.359422   7952.0  1.633000e+01   1.196000e+01   \n",
       "4         10000 1986-04-30 -0.103933   7952.0  1.517200e+01   1.633000e+01   \n",
       "5         10000 1986-05-30 -0.227590   7952.0  1.179388e+01   1.517200e+01   \n",
       "...         ...        ...       ...      ...           ...            ...   \n",
       "5158013   93436 2024-08-30 -0.081810  53453.0  6.840044e+05   7.413801e+05   \n",
       "5158014   93436 2024-09-30  0.217323  53453.0  8.390474e+05   6.840044e+05   \n",
       "5158015   93436 2024-10-31 -0.048932  53453.0  8.020335e+05   8.390474e+05   \n",
       "5158016   93436 2024-11-29  0.377514  53453.0  1.107984e+06   8.020335e+05   \n",
       "5158017   93436 2024-12-31  0.166345  53453.0  1.296351e+06   1.107984e+06   \n",
       "\n",
       "          siccd  exchcd  \n",
       "1        3990.0     3.0  \n",
       "2        3990.0     3.0  \n",
       "3        3990.0     3.0  \n",
       "4        3990.0     3.0  \n",
       "5        3990.0     3.0  \n",
       "...         ...     ...  \n",
       "5158013  9999.0     3.0  \n",
       "5158014  9999.0     3.0  \n",
       "5158015  9999.0     3.0  \n",
       "5158016  9999.0     3.0  \n",
       "5158017  9999.0     3.0  \n",
       "\n",
       "[3269536 rows x 8 columns]"
      ]
     },
     "execution_count": 8,
     "metadata": {},
     "output_type": "execute_result"
    }
   ],
   "source": [
    "mdata"
   ]
  },
  {
   "cell_type": "code",
   "execution_count": 9,
   "metadata": {
    "slideshow": {
     "slide_type": "subslide"
    }
   },
   "outputs": [],
   "source": [
    "# Create past returns\n",
    "mdata['ret1'] = mdata.groupby('permno').exret.shift(1)"
   ]
  },
  {
   "cell_type": "code",
   "execution_count": 10,
   "metadata": {
    "slideshow": {
     "slide_type": "fragment"
    }
   },
   "outputs": [
    {
     "data": {
      "text/html": [
       "<div>\n",
       "<style scoped>\n",
       "    .dataframe tbody tr th:only-of-type {\n",
       "        vertical-align: middle;\n",
       "    }\n",
       "\n",
       "    .dataframe tbody tr th {\n",
       "        vertical-align: top;\n",
       "    }\n",
       "\n",
       "    .dataframe thead th {\n",
       "        text-align: right;\n",
       "    }\n",
       "</style>\n",
       "<table border=\"1\" class=\"dataframe\">\n",
       "  <thead>\n",
       "    <tr style=\"text-align: right;\">\n",
       "      <th></th>\n",
       "      <th>permno</th>\n",
       "      <th>date</th>\n",
       "      <th>exret</th>\n",
       "      <th>ret1</th>\n",
       "    </tr>\n",
       "  </thead>\n",
       "  <tbody>\n",
       "    <tr>\n",
       "      <th>1</th>\n",
       "      <td>10000</td>\n",
       "      <td>1986-01-31</td>\n",
       "      <td>NaN</td>\n",
       "      <td>NaN</td>\n",
       "    </tr>\n",
       "    <tr>\n",
       "      <th>2</th>\n",
       "      <td>10000</td>\n",
       "      <td>1986-02-28</td>\n",
       "      <td>-0.262439</td>\n",
       "      <td>NaN</td>\n",
       "    </tr>\n",
       "    <tr>\n",
       "      <th>3</th>\n",
       "      <td>10000</td>\n",
       "      <td>1986-03-31</td>\n",
       "      <td>0.359422</td>\n",
       "      <td>-0.262439</td>\n",
       "    </tr>\n",
       "    <tr>\n",
       "      <th>4</th>\n",
       "      <td>10000</td>\n",
       "      <td>1986-04-30</td>\n",
       "      <td>-0.103933</td>\n",
       "      <td>0.359422</td>\n",
       "    </tr>\n",
       "    <tr>\n",
       "      <th>5</th>\n",
       "      <td>10000</td>\n",
       "      <td>1986-05-30</td>\n",
       "      <td>-0.227590</td>\n",
       "      <td>-0.103933</td>\n",
       "    </tr>\n",
       "  </tbody>\n",
       "</table>\n",
       "</div>"
      ],
      "text/plain": [
       "   permno       date     exret      ret1\n",
       "1   10000 1986-01-31       NaN       NaN\n",
       "2   10000 1986-02-28 -0.262439       NaN\n",
       "3   10000 1986-03-31  0.359422 -0.262439\n",
       "4   10000 1986-04-30 -0.103933  0.359422\n",
       "5   10000 1986-05-30 -0.227590 -0.103933"
      ]
     },
     "execution_count": 10,
     "metadata": {},
     "output_type": "execute_result"
    }
   ],
   "source": [
    "mdata[['permno','date','exret','ret1']].head()"
   ]
  },
  {
   "cell_type": "code",
   "execution_count": 11,
   "metadata": {
    "slideshow": {
     "slide_type": "fragment"
    }
   },
   "outputs": [
    {
     "data": {
      "text/html": [
       "<div>\n",
       "<style scoped>\n",
       "    .dataframe tbody tr th:only-of-type {\n",
       "        vertical-align: middle;\n",
       "    }\n",
       "\n",
       "    .dataframe tbody tr th {\n",
       "        vertical-align: top;\n",
       "    }\n",
       "\n",
       "    .dataframe thead th {\n",
       "        text-align: right;\n",
       "    }\n",
       "</style>\n",
       "<table border=\"1\" class=\"dataframe\">\n",
       "  <thead>\n",
       "    <tr style=\"text-align: right;\">\n",
       "      <th></th>\n",
       "      <th>permno</th>\n",
       "      <th>date</th>\n",
       "      <th>exret</th>\n",
       "      <th>permco</th>\n",
       "      <th>me</th>\n",
       "      <th>melag_weights</th>\n",
       "      <th>siccd</th>\n",
       "      <th>exchcd</th>\n",
       "      <th>ret1</th>\n",
       "    </tr>\n",
       "  </thead>\n",
       "  <tbody>\n",
       "    <tr>\n",
       "      <th>14</th>\n",
       "      <td>10000</td>\n",
       "      <td>1987-02-27</td>\n",
       "      <td>-0.004309</td>\n",
       "      <td>7952.0</td>\n",
       "      <td>1.581531</td>\n",
       "      <td>1.581531</td>\n",
       "      <td>3990.0</td>\n",
       "      <td>3.0</td>\n",
       "      <td>-0.216272</td>\n",
       "    </tr>\n",
       "    <tr>\n",
       "      <th>15</th>\n",
       "      <td>10000</td>\n",
       "      <td>1987-03-31</td>\n",
       "      <td>-0.389627</td>\n",
       "      <td>7952.0</td>\n",
       "      <td>0.973250</td>\n",
       "      <td>1.581531</td>\n",
       "      <td>3990.0</td>\n",
       "      <td>3.0</td>\n",
       "      <td>-0.004309</td>\n",
       "    </tr>\n",
       "    <tr>\n",
       "      <th>16</th>\n",
       "      <td>10000</td>\n",
       "      <td>1987-04-30</td>\n",
       "      <td>-0.066785</td>\n",
       "      <td>7952.0</td>\n",
       "      <td>0.912441</td>\n",
       "      <td>0.973250</td>\n",
       "      <td>3990.0</td>\n",
       "      <td>3.0</td>\n",
       "      <td>-0.389627</td>\n",
       "    </tr>\n",
       "    <tr>\n",
       "      <th>17</th>\n",
       "      <td>10000</td>\n",
       "      <td>1987-05-29</td>\n",
       "      <td>-0.070427</td>\n",
       "      <td>7952.0</td>\n",
       "      <td>0.851594</td>\n",
       "      <td>0.912441</td>\n",
       "      <td>3990.0</td>\n",
       "      <td>3.0</td>\n",
       "      <td>-0.066785</td>\n",
       "    </tr>\n",
       "    <tr>\n",
       "      <th>18</th>\n",
       "      <td>10000</td>\n",
       "      <td>1987-06-30</td>\n",
       "      <td>-0.005031</td>\n",
       "      <td>7952.0</td>\n",
       "      <td>NaN</td>\n",
       "      <td>0.851594</td>\n",
       "      <td>3990.0</td>\n",
       "      <td>3.0</td>\n",
       "      <td>-0.070427</td>\n",
       "    </tr>\n",
       "  </tbody>\n",
       "</table>\n",
       "</div>"
      ],
      "text/plain": [
       "    permno       date     exret  permco        me  melag_weights   siccd  \\\n",
       "14   10000 1987-02-27 -0.004309  7952.0  1.581531       1.581531  3990.0   \n",
       "15   10000 1987-03-31 -0.389627  7952.0  0.973250       1.581531  3990.0   \n",
       "16   10000 1987-04-30 -0.066785  7952.0  0.912441       0.973250  3990.0   \n",
       "17   10000 1987-05-29 -0.070427  7952.0  0.851594       0.912441  3990.0   \n",
       "18   10000 1987-06-30 -0.005031  7952.0       NaN       0.851594  3990.0   \n",
       "\n",
       "    exchcd      ret1  \n",
       "14     3.0 -0.216272  \n",
       "15     3.0 -0.004309  \n",
       "16     3.0 -0.389627  \n",
       "17     3.0 -0.066785  \n",
       "18     3.0 -0.070427  "
      ]
     },
     "execution_count": 11,
     "metadata": {},
     "output_type": "execute_result"
    }
   ],
   "source": [
    "mdata[mdata.permno==10000].tail()"
   ]
  },
  {
   "cell_type": "code",
   "execution_count": 12,
   "metadata": {
    "slideshow": {
     "slide_type": "subslide"
    }
   },
   "outputs": [],
   "source": [
    "mdata['date_diff'] = mdata.groupby('permno').date.diff()"
   ]
  },
  {
   "cell_type": "code",
   "execution_count": 13,
   "metadata": {
    "slideshow": {
     "slide_type": "fragment"
    }
   },
   "outputs": [
    {
     "data": {
      "text/plain": [
       "count                       3244020\n",
       "mean     31 days 02:26:06.243364714\n",
       "std      46 days 05:55:54.692046042\n",
       "min                28 days 00:00:00\n",
       "25%                29 days 00:00:00\n",
       "50%                31 days 00:00:00\n",
       "75%                31 days 00:00:00\n",
       "max             14641 days 00:00:00\n",
       "Name: date_diff, dtype: object"
      ]
     },
     "execution_count": 13,
     "metadata": {},
     "output_type": "execute_result"
    }
   ],
   "source": [
    "mdata.date_diff.describe()"
   ]
  },
  {
   "cell_type": "code",
   "execution_count": 14,
   "metadata": {
    "slideshow": {
     "slide_type": "subslide"
    }
   },
   "outputs": [
    {
     "ename": "TypeError",
     "evalue": "Invalid comparison between dtype=timedelta64[ns] and int",
     "output_type": "error",
     "traceback": [
      "\u001b[0;31m---------------------------------------------------------------------------\u001b[0m",
      "\u001b[0;31mInvalidComparison\u001b[0m                         Traceback (most recent call last)",
      "File \u001b[0;32m/opt/anaconda3/lib/python3.9/site-packages/pandas/core/arrays/datetimelike.py:983\u001b[0m, in \u001b[0;36mDatetimeLikeArrayMixin._cmp_method\u001b[0;34m(self, other, op)\u001b[0m\n\u001b[1;32m    982\u001b[0m \u001b[38;5;28;01mtry\u001b[39;00m:\n\u001b[0;32m--> 983\u001b[0m     other \u001b[38;5;241m=\u001b[39m \u001b[38;5;28;43mself\u001b[39;49m\u001b[38;5;241;43m.\u001b[39;49m\u001b[43m_validate_comparison_value\u001b[49m\u001b[43m(\u001b[49m\u001b[43mother\u001b[49m\u001b[43m)\u001b[49m\n\u001b[1;32m    984\u001b[0m \u001b[38;5;28;01mexcept\u001b[39;00m InvalidComparison:\n",
      "File \u001b[0;32m/opt/anaconda3/lib/python3.9/site-packages/pandas/core/arrays/datetimelike.py:542\u001b[0m, in \u001b[0;36mDatetimeLikeArrayMixin._validate_comparison_value\u001b[0;34m(self, other)\u001b[0m\n\u001b[1;32m    541\u001b[0m \u001b[38;5;28;01melif\u001b[39;00m \u001b[38;5;129;01mnot\u001b[39;00m is_list_like(other):\n\u001b[0;32m--> 542\u001b[0m     \u001b[38;5;28;01mraise\u001b[39;00m InvalidComparison(other)\n\u001b[1;32m    544\u001b[0m \u001b[38;5;28;01melif\u001b[39;00m \u001b[38;5;28mlen\u001b[39m(other) \u001b[38;5;241m!=\u001b[39m \u001b[38;5;28mlen\u001b[39m(\u001b[38;5;28mself\u001b[39m):\n",
      "\u001b[0;31mInvalidComparison\u001b[0m: 31",
      "\nDuring handling of the above exception, another exception occurred:\n",
      "\u001b[0;31mTypeError\u001b[0m                                 Traceback (most recent call last)",
      "Cell \u001b[0;32mIn[14], line 1\u001b[0m\n\u001b[0;32m----> 1\u001b[0m \u001b[43mmdata\u001b[49m\u001b[43m[\u001b[49m\u001b[38;5;124;43m'\u001b[39;49m\u001b[38;5;124;43mdate_diff\u001b[39;49m\u001b[38;5;124;43m'\u001b[39;49m\u001b[43m]\u001b[49m\u001b[38;5;241;43m>\u001b[39;49m\u001b[38;5;241;43m31\u001b[39;49m\n",
      "File \u001b[0;32m/opt/anaconda3/lib/python3.9/site-packages/pandas/core/ops/common.py:76\u001b[0m, in \u001b[0;36m_unpack_zerodim_and_defer.<locals>.new_method\u001b[0;34m(self, other)\u001b[0m\n\u001b[1;32m     72\u001b[0m             \u001b[38;5;28;01mreturn\u001b[39;00m \u001b[38;5;28mNotImplemented\u001b[39m\n\u001b[1;32m     74\u001b[0m other \u001b[38;5;241m=\u001b[39m item_from_zerodim(other)\n\u001b[0;32m---> 76\u001b[0m \u001b[38;5;28;01mreturn\u001b[39;00m \u001b[43mmethod\u001b[49m\u001b[43m(\u001b[49m\u001b[38;5;28;43mself\u001b[39;49m\u001b[43m,\u001b[49m\u001b[43m \u001b[49m\u001b[43mother\u001b[49m\u001b[43m)\u001b[49m\n",
      "File \u001b[0;32m/opt/anaconda3/lib/python3.9/site-packages/pandas/core/arraylike.py:56\u001b[0m, in \u001b[0;36mOpsMixin.__gt__\u001b[0;34m(self, other)\u001b[0m\n\u001b[1;32m     54\u001b[0m \u001b[38;5;129m@unpack_zerodim_and_defer\u001b[39m(\u001b[38;5;124m\"\u001b[39m\u001b[38;5;124m__gt__\u001b[39m\u001b[38;5;124m\"\u001b[39m)\n\u001b[1;32m     55\u001b[0m \u001b[38;5;28;01mdef\u001b[39;00m \u001b[38;5;21m__gt__\u001b[39m(\u001b[38;5;28mself\u001b[39m, other):\n\u001b[0;32m---> 56\u001b[0m     \u001b[38;5;28;01mreturn\u001b[39;00m \u001b[38;5;28;43mself\u001b[39;49m\u001b[38;5;241;43m.\u001b[39;49m\u001b[43m_cmp_method\u001b[49m\u001b[43m(\u001b[49m\u001b[43mother\u001b[49m\u001b[43m,\u001b[49m\u001b[43m \u001b[49m\u001b[43moperator\u001b[49m\u001b[38;5;241;43m.\u001b[39;49m\u001b[43mgt\u001b[49m\u001b[43m)\u001b[49m\n",
      "File \u001b[0;32m/opt/anaconda3/lib/python3.9/site-packages/pandas/core/series.py:6119\u001b[0m, in \u001b[0;36mSeries._cmp_method\u001b[0;34m(self, other, op)\u001b[0m\n\u001b[1;32m   6116\u001b[0m lvalues \u001b[38;5;241m=\u001b[39m \u001b[38;5;28mself\u001b[39m\u001b[38;5;241m.\u001b[39m_values\n\u001b[1;32m   6117\u001b[0m rvalues \u001b[38;5;241m=\u001b[39m extract_array(other, extract_numpy\u001b[38;5;241m=\u001b[39m\u001b[38;5;28;01mTrue\u001b[39;00m, extract_range\u001b[38;5;241m=\u001b[39m\u001b[38;5;28;01mTrue\u001b[39;00m)\n\u001b[0;32m-> 6119\u001b[0m res_values \u001b[38;5;241m=\u001b[39m \u001b[43mops\u001b[49m\u001b[38;5;241;43m.\u001b[39;49m\u001b[43mcomparison_op\u001b[49m\u001b[43m(\u001b[49m\u001b[43mlvalues\u001b[49m\u001b[43m,\u001b[49m\u001b[43m \u001b[49m\u001b[43mrvalues\u001b[49m\u001b[43m,\u001b[49m\u001b[43m \u001b[49m\u001b[43mop\u001b[49m\u001b[43m)\u001b[49m\n\u001b[1;32m   6121\u001b[0m \u001b[38;5;28;01mreturn\u001b[39;00m \u001b[38;5;28mself\u001b[39m\u001b[38;5;241m.\u001b[39m_construct_result(res_values, name\u001b[38;5;241m=\u001b[39mres_name)\n",
      "File \u001b[0;32m/opt/anaconda3/lib/python3.9/site-packages/pandas/core/ops/array_ops.py:330\u001b[0m, in \u001b[0;36mcomparison_op\u001b[0;34m(left, right, op)\u001b[0m\n\u001b[1;32m    321\u001b[0m         \u001b[38;5;28;01mraise\u001b[39;00m \u001b[38;5;167;01mValueError\u001b[39;00m(\n\u001b[1;32m    322\u001b[0m             \u001b[38;5;124m\"\u001b[39m\u001b[38;5;124mLengths must match to compare\u001b[39m\u001b[38;5;124m\"\u001b[39m, lvalues\u001b[38;5;241m.\u001b[39mshape, rvalues\u001b[38;5;241m.\u001b[39mshape\n\u001b[1;32m    323\u001b[0m         )\n\u001b[1;32m    325\u001b[0m \u001b[38;5;28;01mif\u001b[39;00m should_extension_dispatch(lvalues, rvalues) \u001b[38;5;129;01mor\u001b[39;00m (\n\u001b[1;32m    326\u001b[0m     (\u001b[38;5;28misinstance\u001b[39m(rvalues, (Timedelta, BaseOffset, Timestamp)) \u001b[38;5;129;01mor\u001b[39;00m right \u001b[38;5;129;01mis\u001b[39;00m NaT)\n\u001b[1;32m    327\u001b[0m     \u001b[38;5;129;01mand\u001b[39;00m lvalues\u001b[38;5;241m.\u001b[39mdtype \u001b[38;5;241m!=\u001b[39m \u001b[38;5;28mobject\u001b[39m\n\u001b[1;32m    328\u001b[0m ):\n\u001b[1;32m    329\u001b[0m     \u001b[38;5;66;03m# Call the method on lvalues\u001b[39;00m\n\u001b[0;32m--> 330\u001b[0m     res_values \u001b[38;5;241m=\u001b[39m \u001b[43mop\u001b[49m\u001b[43m(\u001b[49m\u001b[43mlvalues\u001b[49m\u001b[43m,\u001b[49m\u001b[43m \u001b[49m\u001b[43mrvalues\u001b[49m\u001b[43m)\u001b[49m\n\u001b[1;32m    332\u001b[0m \u001b[38;5;28;01melif\u001b[39;00m is_scalar(rvalues) \u001b[38;5;129;01mand\u001b[39;00m isna(rvalues):  \u001b[38;5;66;03m# TODO: but not pd.NA?\u001b[39;00m\n\u001b[1;32m    333\u001b[0m     \u001b[38;5;66;03m# numpy does not like comparisons vs None\u001b[39;00m\n\u001b[1;32m    334\u001b[0m     \u001b[38;5;28;01mif\u001b[39;00m op \u001b[38;5;129;01mis\u001b[39;00m operator\u001b[38;5;241m.\u001b[39mne:\n",
      "File \u001b[0;32m/opt/anaconda3/lib/python3.9/site-packages/pandas/core/ops/common.py:76\u001b[0m, in \u001b[0;36m_unpack_zerodim_and_defer.<locals>.new_method\u001b[0;34m(self, other)\u001b[0m\n\u001b[1;32m     72\u001b[0m             \u001b[38;5;28;01mreturn\u001b[39;00m \u001b[38;5;28mNotImplemented\u001b[39m\n\u001b[1;32m     74\u001b[0m other \u001b[38;5;241m=\u001b[39m item_from_zerodim(other)\n\u001b[0;32m---> 76\u001b[0m \u001b[38;5;28;01mreturn\u001b[39;00m \u001b[43mmethod\u001b[49m\u001b[43m(\u001b[49m\u001b[38;5;28;43mself\u001b[39;49m\u001b[43m,\u001b[49m\u001b[43m \u001b[49m\u001b[43mother\u001b[49m\u001b[43m)\u001b[49m\n",
      "File \u001b[0;32m/opt/anaconda3/lib/python3.9/site-packages/pandas/core/arraylike.py:56\u001b[0m, in \u001b[0;36mOpsMixin.__gt__\u001b[0;34m(self, other)\u001b[0m\n\u001b[1;32m     54\u001b[0m \u001b[38;5;129m@unpack_zerodim_and_defer\u001b[39m(\u001b[38;5;124m\"\u001b[39m\u001b[38;5;124m__gt__\u001b[39m\u001b[38;5;124m\"\u001b[39m)\n\u001b[1;32m     55\u001b[0m \u001b[38;5;28;01mdef\u001b[39;00m \u001b[38;5;21m__gt__\u001b[39m(\u001b[38;5;28mself\u001b[39m, other):\n\u001b[0;32m---> 56\u001b[0m     \u001b[38;5;28;01mreturn\u001b[39;00m \u001b[38;5;28;43mself\u001b[39;49m\u001b[38;5;241;43m.\u001b[39;49m\u001b[43m_cmp_method\u001b[49m\u001b[43m(\u001b[49m\u001b[43mother\u001b[49m\u001b[43m,\u001b[49m\u001b[43m \u001b[49m\u001b[43moperator\u001b[49m\u001b[38;5;241;43m.\u001b[39;49m\u001b[43mgt\u001b[49m\u001b[43m)\u001b[49m\n",
      "File \u001b[0;32m/opt/anaconda3/lib/python3.9/site-packages/pandas/core/arrays/datetimelike.py:985\u001b[0m, in \u001b[0;36mDatetimeLikeArrayMixin._cmp_method\u001b[0;34m(self, other, op)\u001b[0m\n\u001b[1;32m    983\u001b[0m     other \u001b[38;5;241m=\u001b[39m \u001b[38;5;28mself\u001b[39m\u001b[38;5;241m.\u001b[39m_validate_comparison_value(other)\n\u001b[1;32m    984\u001b[0m \u001b[38;5;28;01mexcept\u001b[39;00m InvalidComparison:\n\u001b[0;32m--> 985\u001b[0m     \u001b[38;5;28;01mreturn\u001b[39;00m \u001b[43minvalid_comparison\u001b[49m\u001b[43m(\u001b[49m\u001b[38;5;28;43mself\u001b[39;49m\u001b[43m,\u001b[49m\u001b[43m \u001b[49m\u001b[43mother\u001b[49m\u001b[43m,\u001b[49m\u001b[43m \u001b[49m\u001b[43mop\u001b[49m\u001b[43m)\u001b[49m\n\u001b[1;32m    987\u001b[0m dtype \u001b[38;5;241m=\u001b[39m \u001b[38;5;28mgetattr\u001b[39m(other, \u001b[38;5;124m\"\u001b[39m\u001b[38;5;124mdtype\u001b[39m\u001b[38;5;124m\"\u001b[39m, \u001b[38;5;28;01mNone\u001b[39;00m)\n\u001b[1;32m    988\u001b[0m \u001b[38;5;28;01mif\u001b[39;00m is_object_dtype(dtype):\n\u001b[1;32m    989\u001b[0m     \u001b[38;5;66;03m# We have to use comp_method_OBJECT_ARRAY instead of numpy\u001b[39;00m\n\u001b[1;32m    990\u001b[0m     \u001b[38;5;66;03m#  comparison otherwise it would raise when comparing to None\u001b[39;00m\n",
      "File \u001b[0;32m/opt/anaconda3/lib/python3.9/site-packages/pandas/core/ops/invalid.py:40\u001b[0m, in \u001b[0;36minvalid_comparison\u001b[0;34m(left, right, op)\u001b[0m\n\u001b[1;32m     38\u001b[0m \u001b[38;5;28;01melse\u001b[39;00m:\n\u001b[1;32m     39\u001b[0m     typ \u001b[38;5;241m=\u001b[39m \u001b[38;5;28mtype\u001b[39m(right)\u001b[38;5;241m.\u001b[39m\u001b[38;5;18m__name__\u001b[39m\n\u001b[0;32m---> 40\u001b[0m     \u001b[38;5;28;01mraise\u001b[39;00m \u001b[38;5;167;01mTypeError\u001b[39;00m(\u001b[38;5;124mf\u001b[39m\u001b[38;5;124m\"\u001b[39m\u001b[38;5;124mInvalid comparison between dtype=\u001b[39m\u001b[38;5;132;01m{\u001b[39;00mleft\u001b[38;5;241m.\u001b[39mdtype\u001b[38;5;132;01m}\u001b[39;00m\u001b[38;5;124m and \u001b[39m\u001b[38;5;132;01m{\u001b[39;00mtyp\u001b[38;5;132;01m}\u001b[39;00m\u001b[38;5;124m\"\u001b[39m)\n\u001b[1;32m     41\u001b[0m \u001b[38;5;28;01mreturn\u001b[39;00m res_values\n",
      "\u001b[0;31mTypeError\u001b[0m: Invalid comparison between dtype=timedelta64[ns] and int"
     ]
    }
   ],
   "source": [
    "mdata['date_diff']>31"
   ]
  },
  {
   "cell_type": "code",
   "execution_count": 15,
   "metadata": {
    "slideshow": {
     "slide_type": "subslide"
    }
   },
   "outputs": [
    {
     "data": {
      "text/plain": [
       "1          False\n",
       "2          False\n",
       "3          False\n",
       "4          False\n",
       "5          False\n",
       "           ...  \n",
       "5158013    False\n",
       "5158014    False\n",
       "5158015    False\n",
       "5158016    False\n",
       "5158017     True\n",
       "Name: date_diff, Length: 3269536, dtype: bool"
      ]
     },
     "execution_count": 15,
     "metadata": {},
     "output_type": "execute_result"
    }
   ],
   "source": [
    "# How to work with dates\n",
    "mdata['date_diff'].dt.days>31"
   ]
  },
  {
   "cell_type": "code",
   "execution_count": 16,
   "metadata": {
    "slideshow": {
     "slide_type": "subslide"
    }
   },
   "outputs": [
    {
     "data": {
      "text/html": [
       "<div>\n",
       "<style scoped>\n",
       "    .dataframe tbody tr th:only-of-type {\n",
       "        vertical-align: middle;\n",
       "    }\n",
       "\n",
       "    .dataframe tbody tr th {\n",
       "        vertical-align: top;\n",
       "    }\n",
       "\n",
       "    .dataframe thead th {\n",
       "        text-align: right;\n",
       "    }\n",
       "</style>\n",
       "<table border=\"1\" class=\"dataframe\">\n",
       "  <thead>\n",
       "    <tr style=\"text-align: right;\">\n",
       "      <th></th>\n",
       "      <th>permno</th>\n",
       "      <th>date</th>\n",
       "      <th>date_diff</th>\n",
       "      <th>exret</th>\n",
       "      <th>ret1</th>\n",
       "    </tr>\n",
       "  </thead>\n",
       "  <tbody>\n",
       "    <tr>\n",
       "      <th>9</th>\n",
       "      <td>10000</td>\n",
       "      <td>1986-09-30</td>\n",
       "      <td>32 days</td>\n",
       "      <td>-0.061926</td>\n",
       "      <td>-0.619999</td>\n",
       "    </tr>\n",
       "    <tr>\n",
       "      <th>12</th>\n",
       "      <td>10000</td>\n",
       "      <td>1986-12-31</td>\n",
       "      <td>33 days</td>\n",
       "      <td>-0.382125</td>\n",
       "      <td>0.056076</td>\n",
       "    </tr>\n",
       "    <tr>\n",
       "      <th>15</th>\n",
       "      <td>10000</td>\n",
       "      <td>1987-03-31</td>\n",
       "      <td>32 days</td>\n",
       "      <td>-0.389627</td>\n",
       "      <td>-0.004309</td>\n",
       "    </tr>\n",
       "    <tr>\n",
       "      <th>18</th>\n",
       "      <td>10000</td>\n",
       "      <td>1987-06-30</td>\n",
       "      <td>32 days</td>\n",
       "      <td>-0.005031</td>\n",
       "      <td>-0.070427</td>\n",
       "    </tr>\n",
       "    <tr>\n",
       "      <th>28</th>\n",
       "      <td>10001</td>\n",
       "      <td>1986-09-30</td>\n",
       "      <td>32 days</td>\n",
       "      <td>-0.007860</td>\n",
       "      <td>0.067551</td>\n",
       "    </tr>\n",
       "  </tbody>\n",
       "</table>\n",
       "</div>"
      ],
      "text/plain": [
       "    permno       date date_diff     exret      ret1\n",
       "9    10000 1986-09-30   32 days -0.061926 -0.619999\n",
       "12   10000 1986-12-31   33 days -0.382125  0.056076\n",
       "15   10000 1987-03-31   32 days -0.389627 -0.004309\n",
       "18   10000 1987-06-30   32 days -0.005031 -0.070427\n",
       "28   10001 1986-09-30   32 days -0.007860  0.067551"
      ]
     },
     "execution_count": 16,
     "metadata": {},
     "output_type": "execute_result"
    }
   ],
   "source": [
    "# Are those problems?\n",
    "mdata.loc[(mdata.date_diff.dt.days>31), ['permno','date', 'date_diff', 'exret','ret1']].head()"
   ]
  },
  {
   "cell_type": "code",
   "execution_count": 17,
   "metadata": {
    "slideshow": {
     "slide_type": "subslide"
    }
   },
   "outputs": [
    {
     "data": {
      "text/html": [
       "<div>\n",
       "<style scoped>\n",
       "    .dataframe tbody tr th:only-of-type {\n",
       "        vertical-align: middle;\n",
       "    }\n",
       "\n",
       "    .dataframe tbody tr th {\n",
       "        vertical-align: top;\n",
       "    }\n",
       "\n",
       "    .dataframe thead th {\n",
       "        text-align: right;\n",
       "    }\n",
       "</style>\n",
       "<table border=\"1\" class=\"dataframe\">\n",
       "  <thead>\n",
       "    <tr style=\"text-align: right;\">\n",
       "      <th></th>\n",
       "      <th>permno</th>\n",
       "      <th>date</th>\n",
       "      <th>date_diff</th>\n",
       "      <th>exret</th>\n",
       "      <th>ret1</th>\n",
       "    </tr>\n",
       "  </thead>\n",
       "  <tbody>\n",
       "    <tr>\n",
       "      <th>1656</th>\n",
       "      <td>10007</td>\n",
       "      <td>1989-02-28</td>\n",
       "      <td>456 days</td>\n",
       "      <td>NaN</td>\n",
       "      <td>-0.364477</td>\n",
       "    </tr>\n",
       "    <tr>\n",
       "      <th>2150</th>\n",
       "      <td>10012</td>\n",
       "      <td>1987-10-30</td>\n",
       "      <td>91 days</td>\n",
       "      <td>NaN</td>\n",
       "      <td>0.072865</td>\n",
       "    </tr>\n",
       "    <tr>\n",
       "      <th>5501</th>\n",
       "      <td>10028</td>\n",
       "      <td>2012-11-30</td>\n",
       "      <td>245 days</td>\n",
       "      <td>-0.246609</td>\n",
       "      <td>-0.048392</td>\n",
       "    </tr>\n",
       "    <tr>\n",
       "      <th>9129</th>\n",
       "      <td>10050</td>\n",
       "      <td>1978-09-29</td>\n",
       "      <td>60 days</td>\n",
       "      <td>NaN</td>\n",
       "      <td>NaN</td>\n",
       "    </tr>\n",
       "    <tr>\n",
       "      <th>9130</th>\n",
       "      <td>10050</td>\n",
       "      <td>1978-12-29</td>\n",
       "      <td>91 days</td>\n",
       "      <td>NaN</td>\n",
       "      <td>NaN</td>\n",
       "    </tr>\n",
       "  </tbody>\n",
       "</table>\n",
       "</div>"
      ],
      "text/plain": [
       "      permno       date date_diff     exret      ret1\n",
       "1656   10007 1989-02-28  456 days       NaN -0.364477\n",
       "2150   10012 1987-10-30   91 days       NaN  0.072865\n",
       "5501   10028 2012-11-30  245 days -0.246609 -0.048392\n",
       "9129   10050 1978-09-29   60 days       NaN       NaN\n",
       "9130   10050 1978-12-29   91 days       NaN       NaN"
      ]
     },
     "execution_count": 17,
     "metadata": {},
     "output_type": "execute_result"
    }
   ],
   "source": [
    "mdata.loc[(mdata.date_diff.dt.days>40), ['permno','date', 'date_diff', 'exret','ret1']].head()"
   ]
  },
  {
   "cell_type": "code",
   "execution_count": 18,
   "metadata": {
    "slideshow": {
     "slide_type": "subslide"
    }
   },
   "outputs": [
    {
     "data": {
      "text/html": [
       "<div>\n",
       "<style scoped>\n",
       "    .dataframe tbody tr th:only-of-type {\n",
       "        vertical-align: middle;\n",
       "    }\n",
       "\n",
       "    .dataframe tbody tr th {\n",
       "        vertical-align: top;\n",
       "    }\n",
       "\n",
       "    .dataframe thead th {\n",
       "        text-align: right;\n",
       "    }\n",
       "</style>\n",
       "<table border=\"1\" class=\"dataframe\">\n",
       "  <thead>\n",
       "    <tr style=\"text-align: right;\">\n",
       "      <th></th>\n",
       "      <th>permno</th>\n",
       "      <th>date</th>\n",
       "      <th>date_diff</th>\n",
       "      <th>exret</th>\n",
       "      <th>ret1</th>\n",
       "    </tr>\n",
       "  </thead>\n",
       "  <tbody>\n",
       "    <tr>\n",
       "      <th>5180</th>\n",
       "      <td>10028</td>\n",
       "      <td>1986-02-28</td>\n",
       "      <td>NaT</td>\n",
       "      <td>NaN</td>\n",
       "      <td>NaN</td>\n",
       "    </tr>\n",
       "    <tr>\n",
       "      <th>5181</th>\n",
       "      <td>10028</td>\n",
       "      <td>1986-03-31</td>\n",
       "      <td>31 days</td>\n",
       "      <td>0.216259</td>\n",
       "      <td>NaN</td>\n",
       "    </tr>\n",
       "    <tr>\n",
       "      <th>5182</th>\n",
       "      <td>10028</td>\n",
       "      <td>1986-04-30</td>\n",
       "      <td>30 days</td>\n",
       "      <td>0.176477</td>\n",
       "      <td>0.216259</td>\n",
       "    </tr>\n",
       "    <tr>\n",
       "      <th>5183</th>\n",
       "      <td>10028</td>\n",
       "      <td>1986-05-30</td>\n",
       "      <td>30 days</td>\n",
       "      <td>0.148912</td>\n",
       "      <td>0.176477</td>\n",
       "    </tr>\n",
       "    <tr>\n",
       "      <th>5184</th>\n",
       "      <td>10028</td>\n",
       "      <td>1986-06-30</td>\n",
       "      <td>31 days</td>\n",
       "      <td>-0.138579</td>\n",
       "      <td>0.148912</td>\n",
       "    </tr>\n",
       "    <tr>\n",
       "      <th>...</th>\n",
       "      <td>...</td>\n",
       "      <td>...</td>\n",
       "      <td>...</td>\n",
       "      <td>...</td>\n",
       "      <td>...</td>\n",
       "    </tr>\n",
       "    <tr>\n",
       "      <th>5490</th>\n",
       "      <td>10028</td>\n",
       "      <td>2011-12-30</td>\n",
       "      <td>30 days</td>\n",
       "      <td>-0.036129</td>\n",
       "      <td>-0.070747</td>\n",
       "    </tr>\n",
       "    <tr>\n",
       "      <th>5491</th>\n",
       "      <td>10028</td>\n",
       "      <td>2012-01-31</td>\n",
       "      <td>32 days</td>\n",
       "      <td>-0.026772</td>\n",
       "      <td>-0.036129</td>\n",
       "    </tr>\n",
       "    <tr>\n",
       "      <th>5492</th>\n",
       "      <td>10028</td>\n",
       "      <td>2012-02-29</td>\n",
       "      <td>29 days</td>\n",
       "      <td>0.081125</td>\n",
       "      <td>-0.026772</td>\n",
       "    </tr>\n",
       "    <tr>\n",
       "      <th>5493</th>\n",
       "      <td>10028</td>\n",
       "      <td>2012-03-30</td>\n",
       "      <td>30 days</td>\n",
       "      <td>-0.048392</td>\n",
       "      <td>0.081125</td>\n",
       "    </tr>\n",
       "    <tr>\n",
       "      <th>5501</th>\n",
       "      <td>10028</td>\n",
       "      <td>2012-11-30</td>\n",
       "      <td>245 days</td>\n",
       "      <td>-0.246609</td>\n",
       "      <td>-0.048392</td>\n",
       "    </tr>\n",
       "  </tbody>\n",
       "</table>\n",
       "<p>315 rows × 5 columns</p>\n",
       "</div>"
      ],
      "text/plain": [
       "      permno       date date_diff     exret      ret1\n",
       "5180   10028 1986-02-28       NaT       NaN       NaN\n",
       "5181   10028 1986-03-31   31 days  0.216259       NaN\n",
       "5182   10028 1986-04-30   30 days  0.176477  0.216259\n",
       "5183   10028 1986-05-30   30 days  0.148912  0.176477\n",
       "5184   10028 1986-06-30   31 days -0.138579  0.148912\n",
       "...      ...        ...       ...       ...       ...\n",
       "5490   10028 2011-12-30   30 days -0.036129 -0.070747\n",
       "5491   10028 2012-01-31   32 days -0.026772 -0.036129\n",
       "5492   10028 2012-02-29   29 days  0.081125 -0.026772\n",
       "5493   10028 2012-03-30   30 days -0.048392  0.081125\n",
       "5501   10028 2012-11-30  245 days -0.246609 -0.048392\n",
       "\n",
       "[315 rows x 5 columns]"
      ]
     },
     "execution_count": 18,
     "metadata": {},
     "output_type": "execute_result"
    }
   ],
   "source": [
    "mdata.loc[((mdata.permno==10028) & (mdata.date<'2012-12-30')), ['permno','date', 'date_diff', 'exret','ret1']]"
   ]
  },
  {
   "cell_type": "code",
   "execution_count": 19,
   "metadata": {
    "slideshow": {
     "slide_type": "subslide"
    }
   },
   "outputs": [],
   "source": [
    "mdata.loc[(mdata.date_diff.dt.days>40), 'ret1'] = np.nan"
   ]
  },
  {
   "cell_type": "code",
   "execution_count": 20,
   "metadata": {
    "code_folding": [],
    "slideshow": {
     "slide_type": "slide"
    }
   },
   "outputs": [],
   "source": [
    "# Calculate past returns \n",
    "def calculate_cumulative_returns(mdata, tt, min_periods):\n",
    "    \"\"\"\n",
    "    Calculate past returns for momentum stratagy\n",
    "\n",
    "    Parameters:\n",
    "    ------------\n",
    "    mdata: data frame\n",
    "        crsp monthly data with cols permno, date as index.\n",
    "    tt: int\n",
    "        number of periods to cumulate retuns\n",
    "    min_periods: int\n",
    "    \"\"\"\n",
    "    start_time = time.time()\n",
    "    required_cols = ['exret']\n",
    "\n",
    "    assert set(required_cols).issubset(mdata.columns), \"Required columns: {}.\".format(', '.join(required_cols))\n",
    "\n",
    "    df = mdata[required_cols].copy()\n",
    "\n",
    "    # Before applying the function calculate_cumulative_returns you need to make sure \n",
    "    # we don't have missing dates. Missing dates would lead to the wrong number of periods \n",
    "    # to cumulate returns.\n",
    "\n",
    "    # Resample data \n",
    "    # CRSP data has skipping months.\n",
    "    # Create line to missing  months to facilitate the calculation of lag/past returns\n",
    "    df.reset_index(inplace=True)\n",
    "    df['edate'] = df['date'] + MonthEnd(0)\n",
    "    df.sort_values(['permno', 'edate'], inplace=True)\n",
    "    pk_integrity(df, ['permno', 'edate'])\n",
    "    df.set_index(['edate'], inplace=True)\n",
    "    # Resample to take care of missing months\n",
    "    sdf = df[['permno', 'exret']].groupby('permno').resample('ME').mean().drop(columns='permno')\n",
    "    sdf.reset_index(inplace=True)\n",
    "    print(\"Time to resample data: %s seconds\" % str(time.time() - start_time))\n",
    "    print(\"We have added %s rows to the data\" % str(sdf.shape[0] - df.shape[0]))\n",
    "\n",
    "    # Cumulative Return (adjusted) in tt months\n",
    "    sdf['gret'] = sdf['exret'].fillna(0)+1\n",
    "    sdf['ret_notnull'] = sdf['exret'].notnull()\n",
    "\n",
    "    cret = sdf.groupby(['permno']).gret.rolling(window=tt, min_periods=1).apply(np.prod, raw=True)\n",
    "    cret.reset_index(drop=True, inplace=True)\n",
    "\n",
    "    nona_count = sdf.groupby(['permno']).ret_notnull.rolling(window=tt, min_periods=1).apply(np.sum, raw=True)\n",
    "    nona_count.reset_index(drop=True, inplace=True)\n",
    "\n",
    "    cret[nona_count<min_periods] = np.nan\n",
    "    sdf['ret' + str(tt)] = cret\n",
    "\n",
    "    # Delete rows that were not in the original data set\n",
    "    df.reset_index(inplace=True)\n",
    "    fdata = pd.merge(df,\n",
    "             sdf[['edate', 'permno','ret' + str(tt)]],\n",
    "             on = ['edate', 'permno'])         \n",
    "    fdata.set_index(['permno','date'],inplace = True)\n",
    "    x = fdata['ret' + str(tt)]\n",
    "\n",
    "    print(\"Time to calculate %d months past returns: %s seconds\" % (tt, str(round(time.time() - start_time, 2))))\n",
    "\n",
    "    return x"
   ]
  },
  {
   "cell_type": "code",
   "execution_count": 21,
   "metadata": {
    "slideshow": {
     "slide_type": "subslide"
    }
   },
   "outputs": [
    {
     "ename": "KeyError",
     "evalue": "'date'",
     "output_type": "error",
     "traceback": [
      "\u001b[0;31m---------------------------------------------------------------------------\u001b[0m",
      "\u001b[0;31mKeyError\u001b[0m                                  Traceback (most recent call last)",
      "File \u001b[0;32m/opt/anaconda3/lib/python3.9/site-packages/pandas/core/indexes/base.py:3805\u001b[0m, in \u001b[0;36mIndex.get_loc\u001b[0;34m(self, key)\u001b[0m\n\u001b[1;32m   3804\u001b[0m \u001b[38;5;28;01mtry\u001b[39;00m:\n\u001b[0;32m-> 3805\u001b[0m     \u001b[38;5;28;01mreturn\u001b[39;00m \u001b[38;5;28;43mself\u001b[39;49m\u001b[38;5;241;43m.\u001b[39;49m\u001b[43m_engine\u001b[49m\u001b[38;5;241;43m.\u001b[39;49m\u001b[43mget_loc\u001b[49m\u001b[43m(\u001b[49m\u001b[43mcasted_key\u001b[49m\u001b[43m)\u001b[49m\n\u001b[1;32m   3806\u001b[0m \u001b[38;5;28;01mexcept\u001b[39;00m \u001b[38;5;167;01mKeyError\u001b[39;00m \u001b[38;5;28;01mas\u001b[39;00m err:\n",
      "File \u001b[0;32mindex.pyx:167\u001b[0m, in \u001b[0;36mpandas._libs.index.IndexEngine.get_loc\u001b[0;34m()\u001b[0m\n",
      "File \u001b[0;32mindex.pyx:196\u001b[0m, in \u001b[0;36mpandas._libs.index.IndexEngine.get_loc\u001b[0;34m()\u001b[0m\n",
      "File \u001b[0;32mpandas/_libs/hashtable_class_helper.pxi:7081\u001b[0m, in \u001b[0;36mpandas._libs.hashtable.PyObjectHashTable.get_item\u001b[0;34m()\u001b[0m\n",
      "File \u001b[0;32mpandas/_libs/hashtable_class_helper.pxi:7089\u001b[0m, in \u001b[0;36mpandas._libs.hashtable.PyObjectHashTable.get_item\u001b[0;34m()\u001b[0m\n",
      "\u001b[0;31mKeyError\u001b[0m: 'date'",
      "\nThe above exception was the direct cause of the following exception:\n",
      "\u001b[0;31mKeyError\u001b[0m                                  Traceback (most recent call last)",
      "Cell \u001b[0;32mIn[21], line 2\u001b[0m\n\u001b[1;32m      1\u001b[0m \u001b[38;5;66;03m## Calculate 11 months returns\u001b[39;00m\n\u001b[0;32m----> 2\u001b[0m mdata[\u001b[38;5;124m'\u001b[39m\u001b[38;5;124mret11\u001b[39m\u001b[38;5;124m'\u001b[39m] \u001b[38;5;241m=\u001b[39m \u001b[43mcalculate_cumulative_returns\u001b[49m\u001b[43m(\u001b[49m\u001b[43mmdata\u001b[49m\u001b[43m,\u001b[49m\u001b[43m \u001b[49m\u001b[38;5;241;43m11\u001b[39;49m\u001b[43m,\u001b[49m\u001b[43m \u001b[49m\u001b[38;5;241;43m8\u001b[39;49m\u001b[43m)\u001b[49m\n",
      "Cell \u001b[0;32mIn[20], line 29\u001b[0m, in \u001b[0;36mcalculate_cumulative_returns\u001b[0;34m(mdata, tt, min_periods)\u001b[0m\n\u001b[1;32m     21\u001b[0m \u001b[38;5;66;03m# Before applying the function calculate_cumulative_returns you need to make sure \u001b[39;00m\n\u001b[1;32m     22\u001b[0m \u001b[38;5;66;03m# we don't have missing dates. Missing dates would lead to the wrong number of periods \u001b[39;00m\n\u001b[1;32m     23\u001b[0m \u001b[38;5;66;03m# to cumulate returns.\u001b[39;00m\n\u001b[0;32m   (...)\u001b[0m\n\u001b[1;32m     26\u001b[0m \u001b[38;5;66;03m# CRSP data has skipping months.\u001b[39;00m\n\u001b[1;32m     27\u001b[0m \u001b[38;5;66;03m# Create line to missing  months to facilitate the calculation of lag/past returns\u001b[39;00m\n\u001b[1;32m     28\u001b[0m df\u001b[38;5;241m.\u001b[39mreset_index(inplace\u001b[38;5;241m=\u001b[39m\u001b[38;5;28;01mTrue\u001b[39;00m)\n\u001b[0;32m---> 29\u001b[0m df[\u001b[38;5;124m'\u001b[39m\u001b[38;5;124medate\u001b[39m\u001b[38;5;124m'\u001b[39m] \u001b[38;5;241m=\u001b[39m \u001b[43mdf\u001b[49m\u001b[43m[\u001b[49m\u001b[38;5;124;43m'\u001b[39;49m\u001b[38;5;124;43mdate\u001b[39;49m\u001b[38;5;124;43m'\u001b[39;49m\u001b[43m]\u001b[49m \u001b[38;5;241m+\u001b[39m MonthEnd(\u001b[38;5;241m0\u001b[39m)\n\u001b[1;32m     30\u001b[0m df\u001b[38;5;241m.\u001b[39msort_values([\u001b[38;5;124m'\u001b[39m\u001b[38;5;124mpermno\u001b[39m\u001b[38;5;124m'\u001b[39m, \u001b[38;5;124m'\u001b[39m\u001b[38;5;124medate\u001b[39m\u001b[38;5;124m'\u001b[39m], inplace\u001b[38;5;241m=\u001b[39m\u001b[38;5;28;01mTrue\u001b[39;00m)\n\u001b[1;32m     31\u001b[0m pk_integrity(df, [\u001b[38;5;124m'\u001b[39m\u001b[38;5;124mpermno\u001b[39m\u001b[38;5;124m'\u001b[39m, \u001b[38;5;124m'\u001b[39m\u001b[38;5;124medate\u001b[39m\u001b[38;5;124m'\u001b[39m])\n",
      "File \u001b[0;32m/opt/anaconda3/lib/python3.9/site-packages/pandas/core/frame.py:4102\u001b[0m, in \u001b[0;36mDataFrame.__getitem__\u001b[0;34m(self, key)\u001b[0m\n\u001b[1;32m   4100\u001b[0m \u001b[38;5;28;01mif\u001b[39;00m \u001b[38;5;28mself\u001b[39m\u001b[38;5;241m.\u001b[39mcolumns\u001b[38;5;241m.\u001b[39mnlevels \u001b[38;5;241m>\u001b[39m \u001b[38;5;241m1\u001b[39m:\n\u001b[1;32m   4101\u001b[0m     \u001b[38;5;28;01mreturn\u001b[39;00m \u001b[38;5;28mself\u001b[39m\u001b[38;5;241m.\u001b[39m_getitem_multilevel(key)\n\u001b[0;32m-> 4102\u001b[0m indexer \u001b[38;5;241m=\u001b[39m \u001b[38;5;28;43mself\u001b[39;49m\u001b[38;5;241;43m.\u001b[39;49m\u001b[43mcolumns\u001b[49m\u001b[38;5;241;43m.\u001b[39;49m\u001b[43mget_loc\u001b[49m\u001b[43m(\u001b[49m\u001b[43mkey\u001b[49m\u001b[43m)\u001b[49m\n\u001b[1;32m   4103\u001b[0m \u001b[38;5;28;01mif\u001b[39;00m is_integer(indexer):\n\u001b[1;32m   4104\u001b[0m     indexer \u001b[38;5;241m=\u001b[39m [indexer]\n",
      "File \u001b[0;32m/opt/anaconda3/lib/python3.9/site-packages/pandas/core/indexes/base.py:3812\u001b[0m, in \u001b[0;36mIndex.get_loc\u001b[0;34m(self, key)\u001b[0m\n\u001b[1;32m   3807\u001b[0m     \u001b[38;5;28;01mif\u001b[39;00m \u001b[38;5;28misinstance\u001b[39m(casted_key, \u001b[38;5;28mslice\u001b[39m) \u001b[38;5;129;01mor\u001b[39;00m (\n\u001b[1;32m   3808\u001b[0m         \u001b[38;5;28misinstance\u001b[39m(casted_key, abc\u001b[38;5;241m.\u001b[39mIterable)\n\u001b[1;32m   3809\u001b[0m         \u001b[38;5;129;01mand\u001b[39;00m \u001b[38;5;28many\u001b[39m(\u001b[38;5;28misinstance\u001b[39m(x, \u001b[38;5;28mslice\u001b[39m) \u001b[38;5;28;01mfor\u001b[39;00m x \u001b[38;5;129;01min\u001b[39;00m casted_key)\n\u001b[1;32m   3810\u001b[0m     ):\n\u001b[1;32m   3811\u001b[0m         \u001b[38;5;28;01mraise\u001b[39;00m InvalidIndexError(key)\n\u001b[0;32m-> 3812\u001b[0m     \u001b[38;5;28;01mraise\u001b[39;00m \u001b[38;5;167;01mKeyError\u001b[39;00m(key) \u001b[38;5;28;01mfrom\u001b[39;00m \u001b[38;5;21;01merr\u001b[39;00m\n\u001b[1;32m   3813\u001b[0m \u001b[38;5;28;01mexcept\u001b[39;00m \u001b[38;5;167;01mTypeError\u001b[39;00m:\n\u001b[1;32m   3814\u001b[0m     \u001b[38;5;66;03m# If we have a listlike key, _check_indexing_error will raise\u001b[39;00m\n\u001b[1;32m   3815\u001b[0m     \u001b[38;5;66;03m#  InvalidIndexError. Otherwise we fall through and re-raise\u001b[39;00m\n\u001b[1;32m   3816\u001b[0m     \u001b[38;5;66;03m#  the TypeError.\u001b[39;00m\n\u001b[1;32m   3817\u001b[0m     \u001b[38;5;28mself\u001b[39m\u001b[38;5;241m.\u001b[39m_check_indexing_error(key)\n",
      "\u001b[0;31mKeyError\u001b[0m: 'date'"
     ]
    }
   ],
   "source": [
    "## Calculate 11 months returns\n",
    "mdata['ret11'] = calculate_cumulative_returns(mdata, 11, 8)"
   ]
  },
  {
   "cell_type": "code",
   "execution_count": 22,
   "metadata": {
    "slideshow": {
     "slide_type": "subslide"
    }
   },
   "outputs": [],
   "source": [
    "mdata.set_index(['permno','date'], inplace=True)"
   ]
  },
  {
   "cell_type": "code",
   "execution_count": 23,
   "metadata": {
    "slideshow": {
     "slide_type": "fragment"
    }
   },
   "outputs": [
    {
     "name": "stdout",
     "output_type": "stream",
     "text": [
      "Time to resample data: 36.30343294143677 seconds\n",
      "We have added 70545 rows to the data\n",
      "Time to calculate 11 months past returns: 58.67 seconds\n"
     ]
    }
   ],
   "source": [
    "## Calculate 11 months returns\n",
    "mdata['ret11'] = calculate_cumulative_returns(mdata, 11, 8)"
   ]
  },
  {
   "cell_type": "code",
   "execution_count": 24,
   "metadata": {
    "slideshow": {
     "slide_type": "fragment"
    }
   },
   "outputs": [],
   "source": [
    "# Make it investable\n",
    "mdata['ret11_1'] = mdata.groupby('permno').ret11.shift(1)"
   ]
  },
  {
   "cell_type": "code",
   "execution_count": 25,
   "metadata": {
    "slideshow": {
     "slide_type": "fragment"
    }
   },
   "outputs": [],
   "source": [
    "mdata.loc[(mdata.date_diff.dt.days>40), 'ret11_1'] = np.nan"
   ]
  },
  {
   "cell_type": "code",
   "execution_count": 26,
   "metadata": {
    "slideshow": {
     "slide_type": "subslide"
    }
   },
   "outputs": [],
   "source": [
    "## Skip a month\n",
    "mdata['ret11_2'] = mdata.groupby('permno').ret11_1.shift(1)"
   ]
  },
  {
   "cell_type": "code",
   "execution_count": 27,
   "metadata": {
    "slideshow": {
     "slide_type": "fragment"
    }
   },
   "outputs": [],
   "source": [
    "mdata.loc[(mdata.date_diff.dt.days>40), 'ret11_2'] = np.nan"
   ]
  },
  {
   "cell_type": "code",
   "execution_count": 28,
   "metadata": {
    "slideshow": {
     "slide_type": "fragment"
    }
   },
   "outputs": [],
   "source": [
    "mdata.reset_index(inplace=True)"
   ]
  },
  {
   "cell_type": "markdown",
   "metadata": {
    "slideshow": {
     "slide_type": "subslide"
    }
   },
   "source": [
    "### Delete missing returns"
   ]
  },
  {
   "cell_type": "code",
   "execution_count": 29,
   "metadata": {
    "slideshow": {
     "slide_type": "fragment"
    }
   },
   "outputs": [],
   "source": [
    "mdata = mdata[mdata['exret'].notnull()]"
   ]
  },
  {
   "cell_type": "markdown",
   "metadata": {
    "slideshow": {
     "slide_type": "subslide"
    }
   },
   "source": [
    "### Delete missing characteristics"
   ]
  },
  {
   "cell_type": "code",
   "execution_count": 30,
   "metadata": {
    "slideshow": {
     "slide_type": "fragment"
    }
   },
   "outputs": [],
   "source": [
    "mdata = mdata[mdata.ret11_1.notnull()]\n",
    "mdata = mdata[mdata.ret11_2.notnull()]\n",
    "mdata = mdata[mdata.ret1.notnull()]"
   ]
  },
  {
   "cell_type": "markdown",
   "metadata": {
    "slideshow": {
     "slide_type": "slide"
    }
   },
   "source": [
    "## Data Summary"
   ]
  },
  {
   "cell_type": "code",
   "execution_count": 31,
   "metadata": {
    "slideshow": {
     "slide_type": "subslide"
    }
   },
   "outputs": [
    {
     "data": {
      "text/html": [
       "<div>\n",
       "<style scoped>\n",
       "    .dataframe tbody tr th:only-of-type {\n",
       "        vertical-align: middle;\n",
       "    }\n",
       "\n",
       "    .dataframe tbody tr th {\n",
       "        vertical-align: top;\n",
       "    }\n",
       "\n",
       "    .dataframe thead th {\n",
       "        text-align: right;\n",
       "    }\n",
       "</style>\n",
       "<table border=\"1\" class=\"dataframe\">\n",
       "  <thead>\n",
       "    <tr style=\"text-align: right;\">\n",
       "      <th></th>\n",
       "      <th>exret</th>\n",
       "      <th>ret1</th>\n",
       "      <th>ret11_1</th>\n",
       "      <th>ret11_2</th>\n",
       "    </tr>\n",
       "  </thead>\n",
       "  <tbody>\n",
       "    <tr>\n",
       "      <th>count</th>\n",
       "      <td>2.983029e+06</td>\n",
       "      <td>2.983029e+06</td>\n",
       "      <td>2.983029e+06</td>\n",
       "      <td>2.983029e+06</td>\n",
       "    </tr>\n",
       "    <tr>\n",
       "      <th>mean</th>\n",
       "      <td>7.546166e-03</td>\n",
       "      <td>8.290279e-03</td>\n",
       "      <td>1.085673e+00</td>\n",
       "      <td>1.085075e+00</td>\n",
       "    </tr>\n",
       "    <tr>\n",
       "      <th>std</th>\n",
       "      <td>1.909871e-01</td>\n",
       "      <td>1.876487e-01</td>\n",
       "      <td>7.245152e-01</td>\n",
       "      <td>7.223474e-01</td>\n",
       "    </tr>\n",
       "    <tr>\n",
       "      <th>min</th>\n",
       "      <td>-1.014149e+00</td>\n",
       "      <td>-9.951580e-01</td>\n",
       "      <td>3.672921e-06</td>\n",
       "      <td>3.672921e-06</td>\n",
       "    </tr>\n",
       "    <tr>\n",
       "      <th>25%</th>\n",
       "      <td>-7.138300e-02</td>\n",
       "      <td>-7.124600e-02</td>\n",
       "      <td>7.418265e-01</td>\n",
       "      <td>7.418635e-01</td>\n",
       "    </tr>\n",
       "    <tr>\n",
       "      <th>50%</th>\n",
       "      <td>-3.846000e-03</td>\n",
       "      <td>-3.840000e-03</td>\n",
       "      <td>1.001155e+00</td>\n",
       "      <td>1.000147e+00</td>\n",
       "    </tr>\n",
       "    <tr>\n",
       "      <th>75%</th>\n",
       "      <td>6.852800e-02</td>\n",
       "      <td>6.903200e-02</td>\n",
       "      <td>1.275324e+00</td>\n",
       "      <td>1.273692e+00</td>\n",
       "    </tr>\n",
       "    <tr>\n",
       "      <th>max</th>\n",
       "      <td>3.532572e+01</td>\n",
       "      <td>2.657941e+01</td>\n",
       "      <td>1.066554e+02</td>\n",
       "      <td>1.066554e+02</td>\n",
       "    </tr>\n",
       "  </tbody>\n",
       "</table>\n",
       "</div>"
      ],
      "text/plain": [
       "              exret          ret1       ret11_1       ret11_2\n",
       "count  2.983029e+06  2.983029e+06  2.983029e+06  2.983029e+06\n",
       "mean   7.546166e-03  8.290279e-03  1.085673e+00  1.085075e+00\n",
       "std    1.909871e-01  1.876487e-01  7.245152e-01  7.223474e-01\n",
       "min   -1.014149e+00 -9.951580e-01  3.672921e-06  3.672921e-06\n",
       "25%   -7.138300e-02 -7.124600e-02  7.418265e-01  7.418635e-01\n",
       "50%   -3.846000e-03 -3.840000e-03  1.001155e+00  1.000147e+00\n",
       "75%    6.852800e-02  6.903200e-02  1.275324e+00  1.273692e+00\n",
       "max    3.532572e+01  2.657941e+01  1.066554e+02  1.066554e+02"
      ]
     },
     "execution_count": 31,
     "metadata": {},
     "output_type": "execute_result"
    }
   ],
   "source": [
    "mdata[['exret', 'ret1', 'ret11_1', 'ret11_2']].describe()"
   ]
  },
  {
   "cell_type": "markdown",
   "metadata": {
    "slideshow": {
     "slide_type": "slide"
    }
   },
   "source": [
    "## Forcasting Future Excess Returns"
   ]
  },
  {
   "cell_type": "code",
   "execution_count": 32,
   "metadata": {
    "slideshow": {
     "slide_type": "subslide"
    }
   },
   "outputs": [],
   "source": [
    "# FamaMacBeth regression\n",
    "def ols_coef(x,formula):\n",
    "    return smf.ols(formula,data=x).fit().params\n",
    "\n",
    "def fm_summary(p):\n",
    "    s = p.describe().T\n",
    "    s['std_error'] = s['std']/np.sqrt(s['count'])\n",
    "    s['tstat'] = s['mean']/s['std_error']\n",
    "    return s[['mean','std_error','tstat']]"
   ]
  },
  {
   "cell_type": "code",
   "execution_count": 33,
   "metadata": {
    "slideshow": {
     "slide_type": "subslide"
    }
   },
   "outputs": [
    {
     "data": {
      "text/html": [
       "<div>\n",
       "<style scoped>\n",
       "    .dataframe tbody tr th:only-of-type {\n",
       "        vertical-align: middle;\n",
       "    }\n",
       "\n",
       "    .dataframe tbody tr th {\n",
       "        vertical-align: top;\n",
       "    }\n",
       "\n",
       "    .dataframe thead th {\n",
       "        text-align: right;\n",
       "    }\n",
       "</style>\n",
       "<table border=\"1\" class=\"dataframe\">\n",
       "  <thead>\n",
       "    <tr style=\"text-align: right;\">\n",
       "      <th></th>\n",
       "      <th>Intercept</th>\n",
       "      <th>ret11_1</th>\n",
       "    </tr>\n",
       "    <tr>\n",
       "      <th>date</th>\n",
       "      <th></th>\n",
       "      <th></th>\n",
       "    </tr>\n",
       "  </thead>\n",
       "  <tbody>\n",
       "    <tr>\n",
       "      <th>1970-10-30</th>\n",
       "      <td>-0.188809</td>\n",
       "      <td>0.152010</td>\n",
       "    </tr>\n",
       "    <tr>\n",
       "      <th>1970-11-30</th>\n",
       "      <td>-0.065803</td>\n",
       "      <td>0.084473</td>\n",
       "    </tr>\n",
       "    <tr>\n",
       "      <th>1970-12-31</th>\n",
       "      <td>0.086035</td>\n",
       "      <td>-0.009531</td>\n",
       "    </tr>\n",
       "    <tr>\n",
       "      <th>1971-01-29</th>\n",
       "      <td>0.292165</td>\n",
       "      <td>-0.180847</td>\n",
       "    </tr>\n",
       "    <tr>\n",
       "      <th>1971-02-26</th>\n",
       "      <td>0.086903</td>\n",
       "      <td>-0.045724</td>\n",
       "    </tr>\n",
       "  </tbody>\n",
       "</table>\n",
       "</div>"
      ],
      "text/plain": [
       "            Intercept   ret11_1\n",
       "date                           \n",
       "1970-10-30  -0.188809  0.152010\n",
       "1970-11-30  -0.065803  0.084473\n",
       "1970-12-31   0.086035 -0.009531\n",
       "1971-01-29   0.292165 -0.180847\n",
       "1971-02-26   0.086903 -0.045724"
      ]
     },
     "execution_count": 33,
     "metadata": {},
     "output_type": "execute_result"
    }
   ],
   "source": [
    "### Does ret_11_1 forcast future returns?\n",
    "gamma_mom = (mdata[mdata.exret.notnull()].groupby('date')\n",
    "                .apply(ols_coef,'exret ~ 1 + ret11_1',include_groups=False))\n",
    "gamma_mom.head()"
   ]
  },
  {
   "cell_type": "code",
   "execution_count": 34,
   "metadata": {
    "slideshow": {
     "slide_type": "fragment"
    }
   },
   "outputs": [
    {
     "data": {
      "text/plain": [
       "<Axes: xlabel='date'>"
      ]
     },
     "execution_count": 34,
     "metadata": {},
     "output_type": "execute_result"
    },
    {
     "data": {
      "image/png": "[encoded data removed]",
      "text/plain": [
       "<Figure size 1000x600 with 1 Axes>"
      ]
     },
     "metadata": {},
     "output_type": "display_data"
    }
   ],
   "source": [
    "gamma_mom.ret11_1.plot()"
   ]
  },
  {
   "cell_type": "code",
   "execution_count": 35,
   "metadata": {
    "slideshow": {
     "slide_type": "subslide"
    }
   },
   "outputs": [
    {
     "data": {
      "text/html": [
       "<div>\n",
       "<style scoped>\n",
       "    .dataframe tbody tr th:only-of-type {\n",
       "        vertical-align: middle;\n",
       "    }\n",
       "\n",
       "    .dataframe tbody tr th {\n",
       "        vertical-align: top;\n",
       "    }\n",
       "\n",
       "    .dataframe thead th {\n",
       "        text-align: right;\n",
       "    }\n",
       "</style>\n",
       "<table border=\"1\" class=\"dataframe\">\n",
       "  <thead>\n",
       "    <tr style=\"text-align: right;\">\n",
       "      <th></th>\n",
       "      <th>mean</th>\n",
       "      <th>std_error</th>\n",
       "      <th>tstat</th>\n",
       "    </tr>\n",
       "  </thead>\n",
       "  <tbody>\n",
       "    <tr>\n",
       "      <th>Intercept</th>\n",
       "      <td>0.004565</td>\n",
       "      <td>0.003237</td>\n",
       "      <td>1.410139</td>\n",
       "    </tr>\n",
       "    <tr>\n",
       "      <th>ret11_1</th>\n",
       "      <td>0.002150</td>\n",
       "      <td>0.001804</td>\n",
       "      <td>1.191927</td>\n",
       "    </tr>\n",
       "  </tbody>\n",
       "</table>\n",
       "</div>"
      ],
      "text/plain": [
       "               mean  std_error     tstat\n",
       "Intercept  0.004565   0.003237  1.410139\n",
       "ret11_1    0.002150   0.001804  1.191927"
      ]
     },
     "execution_count": 35,
     "metadata": {},
     "output_type": "execute_result"
    }
   ],
   "source": [
    "# Fama-Macbeth regressions results\n",
    "fm_summary(gamma_mom)"
   ]
  },
  {
   "cell_type": "markdown",
   "metadata": {
    "slideshow": {
     "slide_type": "subslide"
    }
   },
   "source": [
    "### Does ret1 forcast future returns?"
   ]
  },
  {
   "cell_type": "code",
   "execution_count": 36,
   "metadata": {
    "slideshow": {
     "slide_type": "fragment"
    }
   },
   "outputs": [
    {
     "data": {
      "text/html": [
       "<div>\n",
       "<style scoped>\n",
       "    .dataframe tbody tr th:only-of-type {\n",
       "        vertical-align: middle;\n",
       "    }\n",
       "\n",
       "    .dataframe tbody tr th {\n",
       "        vertical-align: top;\n",
       "    }\n",
       "\n",
       "    .dataframe thead th {\n",
       "        text-align: right;\n",
       "    }\n",
       "</style>\n",
       "<table border=\"1\" class=\"dataframe\">\n",
       "  <thead>\n",
       "    <tr style=\"text-align: right;\">\n",
       "      <th></th>\n",
       "      <th>Intercept</th>\n",
       "      <th>ret1</th>\n",
       "    </tr>\n",
       "    <tr>\n",
       "      <th>date</th>\n",
       "      <th></th>\n",
       "      <th></th>\n",
       "    </tr>\n",
       "  </thead>\n",
       "  <tbody>\n",
       "    <tr>\n",
       "      <th>1970-10-30</th>\n",
       "      <td>-0.033043</td>\n",
       "      <td>-0.258334</td>\n",
       "    </tr>\n",
       "    <tr>\n",
       "      <th>1970-11-30</th>\n",
       "      <td>0.006658</td>\n",
       "      <td>0.114236</td>\n",
       "    </tr>\n",
       "    <tr>\n",
       "      <th>1970-12-31</th>\n",
       "      <td>0.078616</td>\n",
       "      <td>-0.030629</td>\n",
       "    </tr>\n",
       "    <tr>\n",
       "      <th>1971-01-29</th>\n",
       "      <td>0.152078</td>\n",
       "      <td>-0.231513</td>\n",
       "    </tr>\n",
       "    <tr>\n",
       "      <th>1971-02-26</th>\n",
       "      <td>0.043502</td>\n",
       "      <td>0.002026</td>\n",
       "    </tr>\n",
       "  </tbody>\n",
       "</table>\n",
       "</div>"
      ],
      "text/plain": [
       "            Intercept      ret1\n",
       "date                           \n",
       "1970-10-30  -0.033043 -0.258334\n",
       "1970-11-30   0.006658  0.114236\n",
       "1970-12-31   0.078616 -0.030629\n",
       "1971-01-29   0.152078 -0.231513\n",
       "1971-02-26   0.043502  0.002026"
      ]
     },
     "execution_count": 36,
     "metadata": {},
     "output_type": "execute_result"
    }
   ],
   "source": [
    "gamma_rev = (mdata[mdata.exret.notnull()].groupby('date')\n",
    "                .apply(ols_coef,'exret ~ 1 + ret1',include_groups=False))\n",
    "gamma_rev.head()"
   ]
  },
  {
   "cell_type": "code",
   "execution_count": 37,
   "metadata": {
    "slideshow": {
     "slide_type": "fragment"
    }
   },
   "outputs": [
    {
     "data": {
      "text/html": [
       "<div>\n",
       "<style scoped>\n",
       "    .dataframe tbody tr th:only-of-type {\n",
       "        vertical-align: middle;\n",
       "    }\n",
       "\n",
       "    .dataframe tbody tr th {\n",
       "        vertical-align: top;\n",
       "    }\n",
       "\n",
       "    .dataframe thead th {\n",
       "        text-align: right;\n",
       "    }\n",
       "</style>\n",
       "<table border=\"1\" class=\"dataframe\">\n",
       "  <thead>\n",
       "    <tr style=\"text-align: right;\">\n",
       "      <th></th>\n",
       "      <th>mean</th>\n",
       "      <th>std_error</th>\n",
       "      <th>tstat</th>\n",
       "    </tr>\n",
       "  </thead>\n",
       "  <tbody>\n",
       "    <tr>\n",
       "      <th>Intercept</th>\n",
       "      <td>0.007381</td>\n",
       "      <td>0.002262</td>\n",
       "      <td>3.262617</td>\n",
       "    </tr>\n",
       "    <tr>\n",
       "      <th>ret1</th>\n",
       "      <td>-0.039929</td>\n",
       "      <td>0.004040</td>\n",
       "      <td>-9.883346</td>\n",
       "    </tr>\n",
       "  </tbody>\n",
       "</table>\n",
       "</div>"
      ],
      "text/plain": [
       "               mean  std_error     tstat\n",
       "Intercept  0.007381   0.002262  3.262617\n",
       "ret1      -0.039929   0.004040 -9.883346"
      ]
     },
     "execution_count": 37,
     "metadata": {},
     "output_type": "execute_result"
    }
   ],
   "source": [
    "# Fama-Macbeth regressions results\n",
    "fm_summary(gamma_rev) "
   ]
  },
  {
   "cell_type": "markdown",
   "metadata": {
    "slideshow": {
     "slide_type": "subslide"
    }
   },
   "source": [
    "### Does ret11 forcast future returns?"
   ]
  },
  {
   "cell_type": "code",
   "execution_count": 38,
   "metadata": {
    "slideshow": {
     "slide_type": "fragment"
    }
   },
   "outputs": [
    {
     "data": {
      "text/html": [
       "<div>\n",
       "<style scoped>\n",
       "    .dataframe tbody tr th:only-of-type {\n",
       "        vertical-align: middle;\n",
       "    }\n",
       "\n",
       "    .dataframe tbody tr th {\n",
       "        vertical-align: top;\n",
       "    }\n",
       "\n",
       "    .dataframe thead th {\n",
       "        text-align: right;\n",
       "    }\n",
       "</style>\n",
       "<table border=\"1\" class=\"dataframe\">\n",
       "  <thead>\n",
       "    <tr style=\"text-align: right;\">\n",
       "      <th></th>\n",
       "      <th>Intercept</th>\n",
       "      <th>ret11_2</th>\n",
       "    </tr>\n",
       "    <tr>\n",
       "      <th>date</th>\n",
       "      <th></th>\n",
       "      <th></th>\n",
       "    </tr>\n",
       "  </thead>\n",
       "  <tbody>\n",
       "    <tr>\n",
       "      <th>1970-10-30</th>\n",
       "      <td>-0.207653</td>\n",
       "      <td>0.192657</td>\n",
       "    </tr>\n",
       "    <tr>\n",
       "      <th>1970-11-30</th>\n",
       "      <td>-0.074125</td>\n",
       "      <td>0.090033</td>\n",
       "    </tr>\n",
       "    <tr>\n",
       "      <th>1970-12-31</th>\n",
       "      <td>0.084399</td>\n",
       "      <td>-0.007466</td>\n",
       "    </tr>\n",
       "    <tr>\n",
       "      <th>1971-01-29</th>\n",
       "      <td>0.268664</td>\n",
       "      <td>-0.174306</td>\n",
       "    </tr>\n",
       "    <tr>\n",
       "      <th>1971-02-26</th>\n",
       "      <td>0.088120</td>\n",
       "      <td>-0.050674</td>\n",
       "    </tr>\n",
       "  </tbody>\n",
       "</table>\n",
       "</div>"
      ],
      "text/plain": [
       "            Intercept   ret11_2\n",
       "date                           \n",
       "1970-10-30  -0.207653  0.192657\n",
       "1970-11-30  -0.074125  0.090033\n",
       "1970-12-31   0.084399 -0.007466\n",
       "1971-01-29   0.268664 -0.174306\n",
       "1971-02-26   0.088120 -0.050674"
      ]
     },
     "execution_count": 38,
     "metadata": {},
     "output_type": "execute_result"
    }
   ],
   "source": [
    "gamma_mom2 = (mdata[mdata.exret.notnull()].groupby('date')\n",
    "                .apply(ols_coef,'exret ~ 1 + ret11_2',include_groups=False))\n",
    "gamma_mom2.head()"
   ]
  },
  {
   "cell_type": "code",
   "execution_count": 39,
   "metadata": {
    "slideshow": {
     "slide_type": "fragment"
    }
   },
   "outputs": [
    {
     "data": {
      "text/html": [
       "<div>\n",
       "<style scoped>\n",
       "    .dataframe tbody tr th:only-of-type {\n",
       "        vertical-align: middle;\n",
       "    }\n",
       "\n",
       "    .dataframe tbody tr th {\n",
       "        vertical-align: top;\n",
       "    }\n",
       "\n",
       "    .dataframe thead th {\n",
       "        text-align: right;\n",
       "    }\n",
       "</style>\n",
       "<table border=\"1\" class=\"dataframe\">\n",
       "  <thead>\n",
       "    <tr style=\"text-align: right;\">\n",
       "      <th></th>\n",
       "      <th>mean</th>\n",
       "      <th>std_error</th>\n",
       "      <th>tstat</th>\n",
       "    </tr>\n",
       "  </thead>\n",
       "  <tbody>\n",
       "    <tr>\n",
       "      <th>Intercept</th>\n",
       "      <td>0.001364</td>\n",
       "      <td>0.003084</td>\n",
       "      <td>0.442359</td>\n",
       "    </tr>\n",
       "    <tr>\n",
       "      <th>ret11_2</th>\n",
       "      <td>0.005610</td>\n",
       "      <td>0.001627</td>\n",
       "      <td>3.448070</td>\n",
       "    </tr>\n",
       "  </tbody>\n",
       "</table>\n",
       "</div>"
      ],
      "text/plain": [
       "               mean  std_error     tstat\n",
       "Intercept  0.001364   0.003084  0.442359\n",
       "ret11_2    0.005610   0.001627  3.448070"
      ]
     },
     "execution_count": 39,
     "metadata": {},
     "output_type": "execute_result"
    }
   ],
   "source": [
    "# Fama-Macbeth regressions results\n",
    "fm_summary(gamma_mom2)"
   ]
  },
  {
   "cell_type": "markdown",
   "metadata": {
    "slideshow": {
     "slide_type": "subslide"
    }
   },
   "source": [
    "### Do ret11_1 and ret1 forcast future returns?"
   ]
  },
  {
   "cell_type": "code",
   "execution_count": 40,
   "metadata": {
    "slideshow": {
     "slide_type": "fragment"
    }
   },
   "outputs": [
    {
     "data": {
      "text/html": [
       "<div>\n",
       "<style scoped>\n",
       "    .dataframe tbody tr th:only-of-type {\n",
       "        vertical-align: middle;\n",
       "    }\n",
       "\n",
       "    .dataframe tbody tr th {\n",
       "        vertical-align: top;\n",
       "    }\n",
       "\n",
       "    .dataframe thead th {\n",
       "        text-align: right;\n",
       "    }\n",
       "</style>\n",
       "<table border=\"1\" class=\"dataframe\">\n",
       "  <thead>\n",
       "    <tr style=\"text-align: right;\">\n",
       "      <th></th>\n",
       "      <th>mean</th>\n",
       "      <th>std_error</th>\n",
       "      <th>tstat</th>\n",
       "    </tr>\n",
       "  </thead>\n",
       "  <tbody>\n",
       "    <tr>\n",
       "      <th>Intercept</th>\n",
       "      <td>0.000047</td>\n",
       "      <td>0.003026</td>\n",
       "      <td>0.015445</td>\n",
       "    </tr>\n",
       "    <tr>\n",
       "      <th>ret11_1</th>\n",
       "      <td>0.006640</td>\n",
       "      <td>0.001616</td>\n",
       "      <td>4.107762</td>\n",
       "    </tr>\n",
       "    <tr>\n",
       "      <th>ret1</th>\n",
       "      <td>-0.047278</td>\n",
       "      <td>0.003490</td>\n",
       "      <td>-13.548432</td>\n",
       "    </tr>\n",
       "  </tbody>\n",
       "</table>\n",
       "</div>"
      ],
      "text/plain": [
       "               mean  std_error      tstat\n",
       "Intercept  0.000047   0.003026   0.015445\n",
       "ret11_1    0.006640   0.001616   4.107762\n",
       "ret1      -0.047278   0.003490 -13.548432"
      ]
     },
     "execution_count": 40,
     "metadata": {},
     "output_type": "execute_result"
    }
   ],
   "source": [
    "# Fama-Macbeth regressions results\n",
    "gamma = (mdata[mdata.exret.notnull()].groupby('date')\n",
    "                .apply(ols_coef,'exret ~ 1 + ret11_1 + ret1',include_groups=False))\n",
    "fm_summary(gamma)"
   ]
  },
  {
   "cell_type": "markdown",
   "metadata": {
    "slideshow": {
     "slide_type": "subslide"
    }
   },
   "source": [
    "### Do ret11_2 and ret1 forcast future returns?"
   ]
  },
  {
   "cell_type": "code",
   "execution_count": 41,
   "metadata": {
    "slideshow": {
     "slide_type": "fragment"
    }
   },
   "outputs": [
    {
     "data": {
      "text/html": [
       "<div>\n",
       "<style scoped>\n",
       "    .dataframe tbody tr th:only-of-type {\n",
       "        vertical-align: middle;\n",
       "    }\n",
       "\n",
       "    .dataframe tbody tr th {\n",
       "        vertical-align: top;\n",
       "    }\n",
       "\n",
       "    .dataframe thead th {\n",
       "        text-align: right;\n",
       "    }\n",
       "</style>\n",
       "<table border=\"1\" class=\"dataframe\">\n",
       "  <thead>\n",
       "    <tr style=\"text-align: right;\">\n",
       "      <th></th>\n",
       "      <th>mean</th>\n",
       "      <th>std_error</th>\n",
       "      <th>tstat</th>\n",
       "    </tr>\n",
       "  </thead>\n",
       "  <tbody>\n",
       "    <tr>\n",
       "      <th>Intercept</th>\n",
       "      <td>0.001086</td>\n",
       "      <td>0.002974</td>\n",
       "      <td>0.365242</td>\n",
       "    </tr>\n",
       "    <tr>\n",
       "      <th>ret11_2</th>\n",
       "      <td>0.005616</td>\n",
       "      <td>0.001557</td>\n",
       "      <td>3.606318</td>\n",
       "    </tr>\n",
       "    <tr>\n",
       "      <th>ret1</th>\n",
       "      <td>-0.041048</td>\n",
       "      <td>0.003808</td>\n",
       "      <td>-10.778789</td>\n",
       "    </tr>\n",
       "  </tbody>\n",
       "</table>\n",
       "</div>"
      ],
      "text/plain": [
       "               mean  std_error      tstat\n",
       "Intercept  0.001086   0.002974   0.365242\n",
       "ret11_2    0.005616   0.001557   3.606318\n",
       "ret1      -0.041048   0.003808 -10.778789"
      ]
     },
     "execution_count": 41,
     "metadata": {},
     "output_type": "execute_result"
    }
   ],
   "source": [
    "# Fama-Macbeth regressions results\n",
    "gamma = (mdata[mdata.exret.notnull()].groupby('date')\n",
    "                .apply(ols_coef,'exret ~ 1 + ret11_2 + ret1',include_groups=False))\n",
    "fm_summary(gamma)"
   ]
  },
  {
   "cell_type": "markdown",
   "metadata": {
    "slideshow": {
     "slide_type": "slide"
    }
   },
   "source": [
    "## Long-short portfolio"
   ]
  },
  {
   "cell_type": "markdown",
   "metadata": {
    "slideshow": {
     "slide_type": "subslide"
    }
   },
   "source": [
    "### Sort Portfolio"
   ]
  },
  {
   "cell_type": "code",
   "execution_count": 42,
   "metadata": {
    "slideshow": {
     "slide_type": "fragment"
    }
   },
   "outputs": [],
   "source": [
    "mdata['mesum'] = mdata.groupby(['date', 'permco']).me.transform(\"sum\", min_count=1)"
   ]
  },
  {
   "cell_type": "code",
   "execution_count": 43,
   "metadata": {
    "slideshow": {
     "slide_type": "fragment"
    }
   },
   "outputs": [],
   "source": [
    "mdata = mdata[mdata.mesum.notnull()]"
   ]
  },
  {
   "cell_type": "code",
   "execution_count": 44,
   "metadata": {
    "slideshow": {
     "slide_type": "fragment"
    }
   },
   "outputs": [],
   "source": [
    "mdata.reset_index(inplace=True)"
   ]
  },
  {
   "cell_type": "code",
   "execution_count": 45,
   "metadata": {
    "slideshow": {
     "slide_type": "fragment"
    }
   },
   "outputs": [
    {
     "name": "stdout",
     "output_type": "stream",
     "text": [
      "NYSE breakpoints were calculated for mesum.\n",
      "Stocks were sorted according to breakpoints, starting in 1970-10-30 00:00:00\n",
      "NYSE breakpoints were calculated for ret11_2.\n",
      "Stocks were sorted according to breakpoints, starting in 1970-10-30 00:00:00\n",
      "NYSE breakpoints were calculated for ret11_1.\n",
      "Stocks were sorted according to breakpoints, starting in 1970-10-30 00:00:00\n",
      "NYSE breakpoints were calculated for ret1.\n",
      "Stocks were sorted according to breakpoints, starting in 1970-10-30 00:00:00\n"
     ]
    }
   ],
   "source": [
    "port = sort_portfolios(data = mdata,\n",
    "                       quantiles={'mesum': [0.5],\n",
    "                                  'ret11_2': [0.3, 0.7],\n",
    "                                  'ret11_1': [0.3, 0.7],\n",
    "                                  'ret1': [0.3, 0.7]},\n",
    "                       id_variables=['date', 'permno', 'exchcd'],\n",
    "                       exch_cd=[1])"
   ]
  },
  {
   "cell_type": "markdown",
   "metadata": {
    "slideshow": {
     "slide_type": "subslide"
    }
   },
   "source": [
    "Look at the data."
   ]
  },
  {
   "cell_type": "code",
   "execution_count": 46,
   "metadata": {
    "slideshow": {
     "slide_type": "fragment"
    }
   },
   "outputs": [
    {
     "data": {
      "text/html": [
       "<div>\n",
       "<style scoped>\n",
       "    .dataframe tbody tr th:only-of-type {\n",
       "        vertical-align: middle;\n",
       "    }\n",
       "\n",
       "    .dataframe tbody tr th {\n",
       "        vertical-align: top;\n",
       "    }\n",
       "\n",
       "    .dataframe thead th {\n",
       "        text-align: right;\n",
       "    }\n",
       "</style>\n",
       "<table border=\"1\" class=\"dataframe\">\n",
       "  <thead>\n",
       "    <tr style=\"text-align: right;\">\n",
       "      <th></th>\n",
       "      <th>date</th>\n",
       "      <th>permno</th>\n",
       "      <th>ret1portfolio</th>\n",
       "      <th>ret11_1portfolio</th>\n",
       "      <th>ret11_2portfolio</th>\n",
       "      <th>mesumportfolio</th>\n",
       "    </tr>\n",
       "  </thead>\n",
       "  <tbody>\n",
       "    <tr>\n",
       "      <th>0</th>\n",
       "      <td>1970-10-30</td>\n",
       "      <td>10006.0</td>\n",
       "      <td>ret12</td>\n",
       "      <td>ret11_12</td>\n",
       "      <td>ret11_22</td>\n",
       "      <td>mesum2</td>\n",
       "    </tr>\n",
       "    <tr>\n",
       "      <th>2152</th>\n",
       "      <td>1970-11-30</td>\n",
       "      <td>10006.0</td>\n",
       "      <td>ret12</td>\n",
       "      <td>ret11_12</td>\n",
       "      <td>ret11_22</td>\n",
       "      <td>mesum2</td>\n",
       "    </tr>\n",
       "    <tr>\n",
       "      <th>4320</th>\n",
       "      <td>1970-12-31</td>\n",
       "      <td>10006.0</td>\n",
       "      <td>ret13</td>\n",
       "      <td>ret11_12</td>\n",
       "      <td>ret11_22</td>\n",
       "      <td>mesum2</td>\n",
       "    </tr>\n",
       "    <tr>\n",
       "      <th>6499</th>\n",
       "      <td>1971-01-29</td>\n",
       "      <td>10006.0</td>\n",
       "      <td>ret11</td>\n",
       "      <td>ret11_12</td>\n",
       "      <td>ret11_22</td>\n",
       "      <td>mesum2</td>\n",
       "    </tr>\n",
       "    <tr>\n",
       "      <th>8687</th>\n",
       "      <td>1971-02-26</td>\n",
       "      <td>10006.0</td>\n",
       "      <td>ret12</td>\n",
       "      <td>ret11_12</td>\n",
       "      <td>ret11_22</td>\n",
       "      <td>mesum2</td>\n",
       "    </tr>\n",
       "  </tbody>\n",
       "</table>\n",
       "</div>"
      ],
      "text/plain": [
       "           date   permno ret1portfolio ret11_1portfolio ret11_2portfolio  \\\n",
       "0    1970-10-30  10006.0         ret12         ret11_12         ret11_22   \n",
       "2152 1970-11-30  10006.0         ret12         ret11_12         ret11_22   \n",
       "4320 1970-12-31  10006.0         ret13         ret11_12         ret11_22   \n",
       "6499 1971-01-29  10006.0         ret11         ret11_12         ret11_22   \n",
       "8687 1971-02-26  10006.0         ret12         ret11_12         ret11_22   \n",
       "\n",
       "     mesumportfolio  \n",
       "0            mesum2  \n",
       "2152         mesum2  \n",
       "4320         mesum2  \n",
       "6499         mesum2  \n",
       "8687         mesum2  "
      ]
     },
     "execution_count": 46,
     "metadata": {},
     "output_type": "execute_result"
    }
   ],
   "source": [
    "port[port.permno==10006].head()"
   ]
  },
  {
   "cell_type": "markdown",
   "metadata": {
    "slideshow": {
     "slide_type": "slide"
    }
   },
   "source": [
    "### Portfolio returns"
   ]
  },
  {
   "cell_type": "markdown",
   "metadata": {
    "slideshow": {
     "slide_type": "subslide"
    }
   },
   "source": [
    "#### Merge data"
   ]
  },
  {
   "cell_type": "code",
   "execution_count": 47,
   "metadata": {
    "slideshow": {
     "slide_type": "fragment"
    }
   },
   "outputs": [],
   "source": [
    "fdata = pd.merge(mdata[['permno', 'date', 'exret', 'melag_weights']], \n",
    "                port,\n",
    "                on = ['permno', 'date']) "
   ]
  },
  {
   "cell_type": "markdown",
   "metadata": {
    "slideshow": {
     "slide_type": "subslide"
    }
   },
   "source": [
    "Have a look at Apple in 2019. Which portfolio did Apple belong to?"
   ]
  },
  {
   "cell_type": "code",
   "execution_count": 48,
   "metadata": {
    "slideshow": {
     "slide_type": "fragment"
    }
   },
   "outputs": [
    {
     "data": {
      "text/html": [
       "<div>\n",
       "<style scoped>\n",
       "    .dataframe tbody tr th:only-of-type {\n",
       "        vertical-align: middle;\n",
       "    }\n",
       "\n",
       "    .dataframe tbody tr th {\n",
       "        vertical-align: top;\n",
       "    }\n",
       "\n",
       "    .dataframe thead th {\n",
       "        text-align: right;\n",
       "    }\n",
       "</style>\n",
       "<table border=\"1\" class=\"dataframe\">\n",
       "  <thead>\n",
       "    <tr style=\"text-align: right;\">\n",
       "      <th></th>\n",
       "      <th>permno</th>\n",
       "      <th>date</th>\n",
       "      <th>exret</th>\n",
       "      <th>melag_weights</th>\n",
       "      <th>ret1portfolio</th>\n",
       "      <th>ret11_1portfolio</th>\n",
       "      <th>ret11_2portfolio</th>\n",
       "      <th>mesumportfolio</th>\n",
       "    </tr>\n",
       "  </thead>\n",
       "  <tbody>\n",
       "    <tr>\n",
       "      <th>334415</th>\n",
       "      <td>14593</td>\n",
       "      <td>2024-03-28</td>\n",
       "      <td>-0.055443</td>\n",
       "      <td>2.791120e+06</td>\n",
       "      <td>ret11</td>\n",
       "      <td>ret11_12</td>\n",
       "      <td>ret11_23</td>\n",
       "      <td>mesum2</td>\n",
       "    </tr>\n",
       "    <tr>\n",
       "      <th>334416</th>\n",
       "      <td>14593</td>\n",
       "      <td>2024-04-30</td>\n",
       "      <td>-0.011570</td>\n",
       "      <td>2.630106e+06</td>\n",
       "      <td>ret11</td>\n",
       "      <td>ret11_12</td>\n",
       "      <td>ret11_22</td>\n",
       "      <td>mesum2</td>\n",
       "    </tr>\n",
       "    <tr>\n",
       "      <th>334417</th>\n",
       "      <td>14593</td>\n",
       "      <td>2024-05-31</td>\n",
       "      <td>0.125744</td>\n",
       "      <td>2.611854e+06</td>\n",
       "      <td>ret13</td>\n",
       "      <td>ret11_11</td>\n",
       "      <td>ret11_22</td>\n",
       "      <td>mesum2</td>\n",
       "    </tr>\n",
       "    <tr>\n",
       "      <th>334418</th>\n",
       "      <td>14593</td>\n",
       "      <td>2024-06-28</td>\n",
       "      <td>0.091428</td>\n",
       "      <td>2.947977e+06</td>\n",
       "      <td>ret13</td>\n",
       "      <td>ret11_12</td>\n",
       "      <td>ret11_21</td>\n",
       "      <td>mesum2</td>\n",
       "    </tr>\n",
       "    <tr>\n",
       "      <th>334419</th>\n",
       "      <td>14593</td>\n",
       "      <td>2024-07-31</td>\n",
       "      <td>0.049700</td>\n",
       "      <td>3.206112e+06</td>\n",
       "      <td>ret13</td>\n",
       "      <td>ret11_12</td>\n",
       "      <td>ret11_22</td>\n",
       "      <td>mesum2</td>\n",
       "    </tr>\n",
       "    <tr>\n",
       "      <th>334420</th>\n",
       "      <td>14593</td>\n",
       "      <td>2024-08-30</td>\n",
       "      <td>0.027867</td>\n",
       "      <td>3.376535e+06</td>\n",
       "      <td>ret12</td>\n",
       "      <td>ret11_12</td>\n",
       "      <td>ret11_22</td>\n",
       "      <td>mesum2</td>\n",
       "    </tr>\n",
       "    <tr>\n",
       "      <th>334421</th>\n",
       "      <td>14593</td>\n",
       "      <td>2024-09-30</td>\n",
       "      <td>0.012848</td>\n",
       "      <td>3.481747e+06</td>\n",
       "      <td>ret12</td>\n",
       "      <td>ret11_12</td>\n",
       "      <td>ret11_22</td>\n",
       "      <td>mesum2</td>\n",
       "    </tr>\n",
       "    <tr>\n",
       "      <th>334422</th>\n",
       "      <td>14593</td>\n",
       "      <td>2024-10-31</td>\n",
       "      <td>-0.034336</td>\n",
       "      <td>3.522211e+06</td>\n",
       "      <td>ret12</td>\n",
       "      <td>ret11_12</td>\n",
       "      <td>ret11_22</td>\n",
       "      <td>mesum2</td>\n",
       "    </tr>\n",
       "    <tr>\n",
       "      <th>334423</th>\n",
       "      <td>14593</td>\n",
       "      <td>2024-11-29</td>\n",
       "      <td>0.047703</td>\n",
       "      <td>3.414816e+06</td>\n",
       "      <td>ret12</td>\n",
       "      <td>ret11_12</td>\n",
       "      <td>ret11_22</td>\n",
       "      <td>mesum2</td>\n",
       "    </tr>\n",
       "    <tr>\n",
       "      <th>334424</th>\n",
       "      <td>14593</td>\n",
       "      <td>2024-12-31</td>\n",
       "      <td>0.051492</td>\n",
       "      <td>3.587438e+06</td>\n",
       "      <td>ret12</td>\n",
       "      <td>ret11_12</td>\n",
       "      <td>ret11_22</td>\n",
       "      <td>mesum2</td>\n",
       "    </tr>\n",
       "  </tbody>\n",
       "</table>\n",
       "</div>"
      ],
      "text/plain": [
       "        permno       date     exret  melag_weights ret1portfolio  \\\n",
       "334415   14593 2024-03-28 -0.055443   2.791120e+06         ret11   \n",
       "334416   14593 2024-04-30 -0.011570   2.630106e+06         ret11   \n",
       "334417   14593 2024-05-31  0.125744   2.611854e+06         ret13   \n",
       "334418   14593 2024-06-28  0.091428   2.947977e+06         ret13   \n",
       "334419   14593 2024-07-31  0.049700   3.206112e+06         ret13   \n",
       "334420   14593 2024-08-30  0.027867   3.376535e+06         ret12   \n",
       "334421   14593 2024-09-30  0.012848   3.481747e+06         ret12   \n",
       "334422   14593 2024-10-31 -0.034336   3.522211e+06         ret12   \n",
       "334423   14593 2024-11-29  0.047703   3.414816e+06         ret12   \n",
       "334424   14593 2024-12-31  0.051492   3.587438e+06         ret12   \n",
       "\n",
       "       ret11_1portfolio ret11_2portfolio mesumportfolio  \n",
       "334415         ret11_12         ret11_23         mesum2  \n",
       "334416         ret11_12         ret11_22         mesum2  \n",
       "334417         ret11_11         ret11_22         mesum2  \n",
       "334418         ret11_12         ret11_21         mesum2  \n",
       "334419         ret11_12         ret11_22         mesum2  \n",
       "334420         ret11_12         ret11_22         mesum2  \n",
       "334421         ret11_12         ret11_22         mesum2  \n",
       "334422         ret11_12         ret11_22         mesum2  \n",
       "334423         ret11_12         ret11_22         mesum2  \n",
       "334424         ret11_12         ret11_22         mesum2  "
      ]
     },
     "execution_count": 48,
     "metadata": {},
     "output_type": "execute_result"
    }
   ],
   "source": [
    "fdata[(fdata.permno==14593) & (fdata.date.dt.year>=2019)].tail(10)"
   ]
  },
  {
   "cell_type": "markdown",
   "metadata": {
    "slideshow": {
     "slide_type": "subslide"
    }
   },
   "source": [
    "#### Calculate returns"
   ]
  },
  {
   "cell_type": "code",
   "execution_count": 49,
   "metadata": {
    "slideshow": {
     "slide_type": "subslide"
    }
   },
   "outputs": [
    {
     "data": {
      "text/plain": [
       "date        mesumportfolio  ret1portfolio\n",
       "1970-10-30  mesum1          ret11           -0.025202\n",
       "                            ret12           -0.055249\n",
       "                            ret13           -0.101283\n",
       "            mesum2          ret11           -0.009772\n",
       "                            ret12           -0.018604\n",
       "                                               ...   \n",
       "2024-12-31  mesum1          ret12           -0.086676\n",
       "                            ret13           -0.078993\n",
       "            mesum2          ret11           -0.014628\n",
       "                            ret12           -0.039251\n",
       "                            ret13           -0.028401\n",
       "Length: 3906, dtype: float64"
      ]
     },
     "metadata": {},
     "output_type": "display_data"
    }
   ],
   "source": [
    "# Reversal Returns \n",
    "rev = fdata.groupby(['date', \n",
    "                     'mesumportfolio', \n",
    "                     'ret1portfolio'], observed=False).apply(lambda x: np.average(x['exret'], \n",
    "                                                                   weights = x['melag_weights']),include_groups=False)\n",
    "display(rev)"
   ]
  },
  {
   "cell_type": "code",
   "execution_count": 50,
   "metadata": {
    "slideshow": {
     "slide_type": "fragment"
    }
   },
   "outputs": [
    {
     "data": {
      "text/html": [
       "<div>\n",
       "<style scoped>\n",
       "    .dataframe tbody tr th:only-of-type {\n",
       "        vertical-align: middle;\n",
       "    }\n",
       "\n",
       "    .dataframe tbody tr th {\n",
       "        vertical-align: top;\n",
       "    }\n",
       "\n",
       "    .dataframe thead tr th {\n",
       "        text-align: left;\n",
       "    }\n",
       "\n",
       "    .dataframe thead tr:last-of-type th {\n",
       "        text-align: right;\n",
       "    }\n",
       "</style>\n",
       "<table border=\"1\" class=\"dataframe\">\n",
       "  <thead>\n",
       "    <tr>\n",
       "      <th>mesumportfolio</th>\n",
       "      <th colspan=\"3\" halign=\"left\">mesum1</th>\n",
       "      <th colspan=\"3\" halign=\"left\">mesum2</th>\n",
       "    </tr>\n",
       "    <tr>\n",
       "      <th>ret1portfolio</th>\n",
       "      <th>ret11</th>\n",
       "      <th>ret12</th>\n",
       "      <th>ret13</th>\n",
       "      <th>ret11</th>\n",
       "      <th>ret12</th>\n",
       "      <th>ret13</th>\n",
       "    </tr>\n",
       "    <tr>\n",
       "      <th>date</th>\n",
       "      <th></th>\n",
       "      <th></th>\n",
       "      <th></th>\n",
       "      <th></th>\n",
       "      <th></th>\n",
       "      <th></th>\n",
       "    </tr>\n",
       "  </thead>\n",
       "  <tbody>\n",
       "    <tr>\n",
       "      <th>1970-10-30</th>\n",
       "      <td>-0.025202</td>\n",
       "      <td>-0.055249</td>\n",
       "      <td>-0.101283</td>\n",
       "      <td>-0.009772</td>\n",
       "      <td>-0.018604</td>\n",
       "      <td>-0.061833</td>\n",
       "    </tr>\n",
       "    <tr>\n",
       "      <th>1970-11-30</th>\n",
       "      <td>-0.007556</td>\n",
       "      <td>0.007791</td>\n",
       "      <td>0.013077</td>\n",
       "      <td>0.057785</td>\n",
       "      <td>0.055633</td>\n",
       "      <td>0.043627</td>\n",
       "    </tr>\n",
       "    <tr>\n",
       "      <th>1970-12-31</th>\n",
       "      <td>0.089769</td>\n",
       "      <td>0.073310</td>\n",
       "      <td>0.065054</td>\n",
       "      <td>0.077108</td>\n",
       "      <td>0.059134</td>\n",
       "      <td>0.045373</td>\n",
       "    </tr>\n",
       "    <tr>\n",
       "      <th>1971-01-29</th>\n",
       "      <td>0.133908</td>\n",
       "      <td>0.109467</td>\n",
       "      <td>0.076747</td>\n",
       "      <td>0.043691</td>\n",
       "      <td>0.037085</td>\n",
       "      <td>0.059520</td>\n",
       "    </tr>\n",
       "    <tr>\n",
       "      <th>1971-02-26</th>\n",
       "      <td>0.049126</td>\n",
       "      <td>0.032587</td>\n",
       "      <td>0.023697</td>\n",
       "      <td>0.017585</td>\n",
       "      <td>0.004421</td>\n",
       "      <td>0.011798</td>\n",
       "    </tr>\n",
       "    <tr>\n",
       "      <th>...</th>\n",
       "      <td>...</td>\n",
       "      <td>...</td>\n",
       "      <td>...</td>\n",
       "      <td>...</td>\n",
       "      <td>...</td>\n",
       "      <td>...</td>\n",
       "    </tr>\n",
       "    <tr>\n",
       "      <th>2024-08-30</th>\n",
       "      <td>-0.052977</td>\n",
       "      <td>-0.029565</td>\n",
       "      <td>-0.030438</td>\n",
       "      <td>0.015581</td>\n",
       "      <td>0.028231</td>\n",
       "      <td>0.000734</td>\n",
       "    </tr>\n",
       "    <tr>\n",
       "      <th>2024-09-30</th>\n",
       "      <td>-0.010371</td>\n",
       "      <td>-0.007312</td>\n",
       "      <td>-0.003247</td>\n",
       "      <td>0.032349</td>\n",
       "      <td>0.021066</td>\n",
       "      <td>0.007450</td>\n",
       "    </tr>\n",
       "    <tr>\n",
       "      <th>2024-10-31</th>\n",
       "      <td>-0.027666</td>\n",
       "      <td>-0.018400</td>\n",
       "      <td>-0.005824</td>\n",
       "      <td>-0.022283</td>\n",
       "      <td>-0.005265</td>\n",
       "      <td>-0.010442</td>\n",
       "    </tr>\n",
       "    <tr>\n",
       "      <th>2024-11-29</th>\n",
       "      <td>0.069778</td>\n",
       "      <td>0.103238</td>\n",
       "      <td>0.115349</td>\n",
       "      <td>0.022879</td>\n",
       "      <td>0.071431</td>\n",
       "      <td>0.078389</td>\n",
       "    </tr>\n",
       "    <tr>\n",
       "      <th>2024-12-31</th>\n",
       "      <td>-0.082821</td>\n",
       "      <td>-0.086676</td>\n",
       "      <td>-0.078993</td>\n",
       "      <td>-0.014628</td>\n",
       "      <td>-0.039251</td>\n",
       "      <td>-0.028401</td>\n",
       "    </tr>\n",
       "  </tbody>\n",
       "</table>\n",
       "<p>651 rows × 6 columns</p>\n",
       "</div>"
      ],
      "text/plain": [
       "mesumportfolio    mesum1                        mesum2                    \n",
       "ret1portfolio      ret11     ret12     ret13     ret11     ret12     ret13\n",
       "date                                                                      \n",
       "1970-10-30     -0.025202 -0.055249 -0.101283 -0.009772 -0.018604 -0.061833\n",
       "1970-11-30     -0.007556  0.007791  0.013077  0.057785  0.055633  0.043627\n",
       "1970-12-31      0.089769  0.073310  0.065054  0.077108  0.059134  0.045373\n",
       "1971-01-29      0.133908  0.109467  0.076747  0.043691  0.037085  0.059520\n",
       "1971-02-26      0.049126  0.032587  0.023697  0.017585  0.004421  0.011798\n",
       "...                  ...       ...       ...       ...       ...       ...\n",
       "2024-08-30     -0.052977 -0.029565 -0.030438  0.015581  0.028231  0.000734\n",
       "2024-09-30     -0.010371 -0.007312 -0.003247  0.032349  0.021066  0.007450\n",
       "2024-10-31     -0.027666 -0.018400 -0.005824 -0.022283 -0.005265 -0.010442\n",
       "2024-11-29      0.069778  0.103238  0.115349  0.022879  0.071431  0.078389\n",
       "2024-12-31     -0.082821 -0.086676 -0.078993 -0.014628 -0.039251 -0.028401\n",
       "\n",
       "[651 rows x 6 columns]"
      ]
     },
     "metadata": {},
     "output_type": "display_data"
    }
   ],
   "source": [
    "rev = rev.unstack(level=[1, 2])\n",
    "display(rev)"
   ]
  },
  {
   "cell_type": "code",
   "execution_count": 51,
   "metadata": {
    "slideshow": {
     "slide_type": "subslide"
    }
   },
   "outputs": [],
   "source": [
    "rev_ret = rev.loc[:, idx[:, 'ret13']].mean(axis=1)-rev.loc[:, idx[:, 'ret11']].mean(axis=1)\n",
    "rev_ret = rev_ret.to_frame('rev')"
   ]
  },
  {
   "cell_type": "code",
   "execution_count": 52,
   "metadata": {
    "slideshow": {
     "slide_type": "subslide"
    }
   },
   "outputs": [],
   "source": [
    "# Reversal not value-weighting\n",
    "rev2 = fdata.groupby(['date', \n",
    "                      'mesumportfolio', \n",
    "                      'ret1portfolio'], observed=False).apply(lambda x: np.average(x['exret']),include_groups=False)\n",
    "rev2 = rev2.unstack(level=[1, 2])\n",
    "rev2_ret = rev2.loc[:, idx[:, 'ret13']].mean(axis=1)-rev2.loc[:, idx[:, 'ret11']].mean(axis=1)\n",
    "rev2_ret = rev2_ret.to_frame('rev2')"
   ]
  },
  {
   "cell_type": "code",
   "execution_count": 53,
   "metadata": {
    "slideshow": {
     "slide_type": "subslide"
    }
   },
   "outputs": [],
   "source": [
    "# Momentum not skipping 1-month\n",
    "mom2 = fdata.groupby(['date', \n",
    "                      'mesumportfolio', \n",
    "                      'ret11_1portfolio'], observed=False).apply(lambda x: np.average(x['exret'], \n",
    "                                                                weights = x['melag_weights']),include_groups=False)\n",
    "mom2 = mom2.unstack(level=[1, 2])\n",
    "mom2_ret = mom2.loc[:, idx[:, 'ret11_13']].mean(axis=1)-mom2.loc[:, idx[:, 'ret11_11']].mean(axis=1)\n",
    "mom2_ret = mom2_ret.to_frame('mom2')"
   ]
  },
  {
   "cell_type": "code",
   "execution_count": 54,
   "metadata": {
    "slideshow": {
     "slide_type": "subslide"
    }
   },
   "outputs": [],
   "source": [
    "# Momemtum Returns\n",
    "mom = fdata.groupby(['date', \n",
    "                     'mesumportfolio', \n",
    "                     'ret11_2portfolio'], observed=False).apply(lambda x: np.average(x['exret'], \n",
    "                                                                weights = x['melag_weights']),include_groups=False)\n",
    "mom = mom.unstack(level=[1, 2])\n",
    "mom_ret = mom.loc[:, idx[:, 'ret11_23']].mean(axis=1)-mom.loc[:, idx[:, 'ret11_21']].mean(axis=1)\n",
    "mom_ret = mom_ret.to_frame('mom')"
   ]
  },
  {
   "cell_type": "code",
   "execution_count": 55,
   "metadata": {
    "slideshow": {
     "slide_type": "subslide"
    }
   },
   "outputs": [],
   "source": [
    "ret = mom_ret.join(rev_ret).join(mom2_ret).join(rev2_ret)"
   ]
  },
  {
   "cell_type": "markdown",
   "metadata": {
    "slideshow": {
     "slide_type": "subslide"
    }
   },
   "source": [
    "#### Long-short portfolio returns"
   ]
  },
  {
   "cell_type": "code",
   "execution_count": 56,
   "metadata": {
    "slideshow": {
     "slide_type": "fragment"
    }
   },
   "outputs": [
    {
     "data": {
      "text/plain": [
       "<Axes: xlabel='date'>"
      ]
     },
     "execution_count": 56,
     "metadata": {},
     "output_type": "execute_result"
    },
    {
     "data": {
      "image/png": "[encoded data removed]",
      "text/plain": [
       "<Figure size 1000x600 with 1 Axes>"
      ]
     },
     "metadata": {},
     "output_type": "display_data"
    }
   ],
   "source": [
    "np.log(1+ret).cumsum().plot()"
   ]
  },
  {
   "cell_type": "markdown",
   "metadata": {
    "slideshow": {
     "slide_type": "subslide"
    }
   },
   "source": [
    "### Compare Sharpe-ratio"
   ]
  },
  {
   "cell_type": "code",
   "execution_count": 57,
   "metadata": {
    "slideshow": {
     "slide_type": "fragment"
    }
   },
   "outputs": [
    {
     "data": {
      "text/plain": [
       "mom     0.395002\n",
       "rev    -0.477859\n",
       "mom2    0.187764\n",
       "rev2   -0.932839\n",
       "dtype: float64"
      ]
     },
     "execution_count": 57,
     "metadata": {},
     "output_type": "execute_result"
    }
   ],
   "source": [
    "(ret.mean()/ret.std())*np.sqrt(12)"
   ]
  },
  {
   "cell_type": "markdown",
   "metadata": {
    "slideshow": {
     "slide_type": "slide"
    }
   },
   "source": [
    "## Are there alphas?"
   ]
  },
  {
   "cell_type": "code",
   "execution_count": 58,
   "metadata": {
    "slideshow": {
     "slide_type": "subslide"
    }
   },
   "outputs": [
    {
     "name": "stderr",
     "output_type": "stream",
     "text": [
      "/Users/kh3112/Dropbox/Columbia PhD/2024-2025 (Spring)/Big Data in Finance/big_data2025/lecture_notes/../../fire_pytools/import_kf/kf_factors.py:82: FutureWarning: The argument 'date_parser' is deprecated and will be removed in a future version. Please use 'date_format' instead, or read your data in as 'object' dtype and then call 'to_datetime'.\n",
      "  df = web.DataReader(ff_factor_file, 'famafrench', start='1925-01-01')\n",
      "/Users/kh3112/Dropbox/Columbia PhD/2024-2025 (Spring)/Big Data in Finance/big_data2025/lecture_notes/../../fire_pytools/import_kf/kf_factors.py:82: FutureWarning: The argument 'date_parser' is deprecated and will be removed in a future version. Please use 'date_format' instead, or read your data in as 'object' dtype and then call 'to_datetime'.\n",
      "  df = web.DataReader(ff_factor_file, 'famafrench', start='1925-01-01')\n"
     ]
    }
   ],
   "source": [
    "# FF five factor\n",
    "ff = kf_factors(ff_factor_file='F-F_Research_Data_5_Factors_2x3', freq='monthly')\n",
    "ff.drop(columns=['date'], inplace=True)\n",
    "ff_ret = ff.set_index('mdate')/100\n",
    "ff_ret.rename(columns = {'Mkt-RF': 'MktRF'}, inplace=True)"
   ]
  },
  {
   "cell_type": "code",
   "execution_count": 59,
   "metadata": {
    "slideshow": {
     "slide_type": "fragment"
    }
   },
   "outputs": [
    {
     "data": {
      "text/html": [
       "<div>\n",
       "<style scoped>\n",
       "    .dataframe tbody tr th:only-of-type {\n",
       "        vertical-align: middle;\n",
       "    }\n",
       "\n",
       "    .dataframe tbody tr th {\n",
       "        vertical-align: top;\n",
       "    }\n",
       "\n",
       "    .dataframe thead th {\n",
       "        text-align: right;\n",
       "    }\n",
       "</style>\n",
       "<table border=\"1\" class=\"dataframe\">\n",
       "  <thead>\n",
       "    <tr style=\"text-align: right;\">\n",
       "      <th></th>\n",
       "      <th>Mkt-RF</th>\n",
       "      <th>SMB</th>\n",
       "      <th>HML</th>\n",
       "      <th>RMW</th>\n",
       "      <th>CMA</th>\n",
       "      <th>RF</th>\n",
       "      <th>mdate</th>\n",
       "    </tr>\n",
       "  </thead>\n",
       "  <tbody>\n",
       "    <tr>\n",
       "      <th>0</th>\n",
       "      <td>-0.39</td>\n",
       "      <td>-0.41</td>\n",
       "      <td>-0.97</td>\n",
       "      <td>0.68</td>\n",
       "      <td>-1.18</td>\n",
       "      <td>0.27</td>\n",
       "      <td>196307</td>\n",
       "    </tr>\n",
       "    <tr>\n",
       "      <th>1</th>\n",
       "      <td>5.07</td>\n",
       "      <td>-0.80</td>\n",
       "      <td>1.80</td>\n",
       "      <td>0.36</td>\n",
       "      <td>-0.35</td>\n",
       "      <td>0.25</td>\n",
       "      <td>196308</td>\n",
       "    </tr>\n",
       "    <tr>\n",
       "      <th>2</th>\n",
       "      <td>-1.57</td>\n",
       "      <td>-0.52</td>\n",
       "      <td>0.13</td>\n",
       "      <td>-0.71</td>\n",
       "      <td>0.29</td>\n",
       "      <td>0.27</td>\n",
       "      <td>196309</td>\n",
       "    </tr>\n",
       "    <tr>\n",
       "      <th>3</th>\n",
       "      <td>2.53</td>\n",
       "      <td>-1.39</td>\n",
       "      <td>-0.10</td>\n",
       "      <td>2.80</td>\n",
       "      <td>-2.01</td>\n",
       "      <td>0.29</td>\n",
       "      <td>196310</td>\n",
       "    </tr>\n",
       "    <tr>\n",
       "      <th>4</th>\n",
       "      <td>-0.85</td>\n",
       "      <td>-0.88</td>\n",
       "      <td>1.75</td>\n",
       "      <td>-0.51</td>\n",
       "      <td>2.24</td>\n",
       "      <td>0.27</td>\n",
       "      <td>196311</td>\n",
       "    </tr>\n",
       "    <tr>\n",
       "      <th>...</th>\n",
       "      <td>...</td>\n",
       "      <td>...</td>\n",
       "      <td>...</td>\n",
       "      <td>...</td>\n",
       "      <td>...</td>\n",
       "      <td>...</td>\n",
       "      <td>...</td>\n",
       "    </tr>\n",
       "    <tr>\n",
       "      <th>733</th>\n",
       "      <td>1.61</td>\n",
       "      <td>-3.65</td>\n",
       "      <td>-1.13</td>\n",
       "      <td>0.85</td>\n",
       "      <td>0.86</td>\n",
       "      <td>0.48</td>\n",
       "      <td>202408</td>\n",
       "    </tr>\n",
       "    <tr>\n",
       "      <th>734</th>\n",
       "      <td>1.74</td>\n",
       "      <td>-1.02</td>\n",
       "      <td>-2.59</td>\n",
       "      <td>0.04</td>\n",
       "      <td>-0.26</td>\n",
       "      <td>0.40</td>\n",
       "      <td>202409</td>\n",
       "    </tr>\n",
       "    <tr>\n",
       "      <th>735</th>\n",
       "      <td>-0.97</td>\n",
       "      <td>-0.88</td>\n",
       "      <td>0.89</td>\n",
       "      <td>-1.38</td>\n",
       "      <td>1.03</td>\n",
       "      <td>0.39</td>\n",
       "      <td>202410</td>\n",
       "    </tr>\n",
       "    <tr>\n",
       "      <th>736</th>\n",
       "      <td>6.51</td>\n",
       "      <td>4.78</td>\n",
       "      <td>-0.05</td>\n",
       "      <td>-2.62</td>\n",
       "      <td>-2.17</td>\n",
       "      <td>0.40</td>\n",
       "      <td>202411</td>\n",
       "    </tr>\n",
       "    <tr>\n",
       "      <th>737</th>\n",
       "      <td>-3.17</td>\n",
       "      <td>-3.87</td>\n",
       "      <td>-2.95</td>\n",
       "      <td>1.82</td>\n",
       "      <td>-1.10</td>\n",
       "      <td>0.37</td>\n",
       "      <td>202412</td>\n",
       "    </tr>\n",
       "  </tbody>\n",
       "</table>\n",
       "<p>738 rows × 7 columns</p>\n",
       "</div>"
      ],
      "text/plain": [
       "     Mkt-RF   SMB   HML   RMW   CMA    RF   mdate\n",
       "0     -0.39 -0.41 -0.97  0.68 -1.18  0.27  196307\n",
       "1      5.07 -0.80  1.80  0.36 -0.35  0.25  196308\n",
       "2     -1.57 -0.52  0.13 -0.71  0.29  0.27  196309\n",
       "3      2.53 -1.39 -0.10  2.80 -2.01  0.29  196310\n",
       "4     -0.85 -0.88  1.75 -0.51  2.24  0.27  196311\n",
       "..      ...   ...   ...   ...   ...   ...     ...\n",
       "733    1.61 -3.65 -1.13  0.85  0.86  0.48  202408\n",
       "734    1.74 -1.02 -2.59  0.04 -0.26  0.40  202409\n",
       "735   -0.97 -0.88  0.89 -1.38  1.03  0.39  202410\n",
       "736    6.51  4.78 -0.05 -2.62 -2.17  0.40  202411\n",
       "737   -3.17 -3.87 -2.95  1.82 -1.10  0.37  202412\n",
       "\n",
       "[738 rows x 7 columns]"
      ]
     },
     "execution_count": 59,
     "metadata": {},
     "output_type": "execute_result"
    }
   ],
   "source": [
    "ff"
   ]
  },
  {
   "cell_type": "code",
   "execution_count": 60,
   "metadata": {
    "slideshow": {
     "slide_type": "subslide"
    }
   },
   "outputs": [],
   "source": [
    "ret.reset_index(inplace=True) \n",
    "ret['mdate'] = ret.date.dt.year * 100 +  ret.date.dt.month "
   ]
  },
  {
   "cell_type": "code",
   "execution_count": 61,
   "metadata": {
    "slideshow": {
     "slide_type": "fragment"
    }
   },
   "outputs": [],
   "source": [
    "ret.set_index('mdate', inplace=True)"
   ]
  },
  {
   "cell_type": "code",
   "execution_count": 62,
   "metadata": {
    "slideshow": {
     "slide_type": "fragment"
    }
   },
   "outputs": [],
   "source": [
    "# Merge \n",
    "ret = ret.join(ff_ret)\n",
    "ret.reset_index(inplace=True)\n",
    "ret.set_index('date', inplace=True)"
   ]
  },
  {
   "cell_type": "code",
   "execution_count": 63,
   "metadata": {
    "slideshow": {
     "slide_type": "fragment"
    }
   },
   "outputs": [
    {
     "data": {
      "text/html": [
       "<div>\n",
       "<style scoped>\n",
       "    .dataframe tbody tr th:only-of-type {\n",
       "        vertical-align: middle;\n",
       "    }\n",
       "\n",
       "    .dataframe tbody tr th {\n",
       "        vertical-align: top;\n",
       "    }\n",
       "\n",
       "    .dataframe thead th {\n",
       "        text-align: right;\n",
       "    }\n",
       "</style>\n",
       "<table border=\"1\" class=\"dataframe\">\n",
       "  <thead>\n",
       "    <tr style=\"text-align: right;\">\n",
       "      <th></th>\n",
       "      <th>mdate</th>\n",
       "      <th>mom</th>\n",
       "      <th>rev</th>\n",
       "      <th>mom2</th>\n",
       "      <th>rev2</th>\n",
       "      <th>MktRF</th>\n",
       "      <th>SMB</th>\n",
       "      <th>HML</th>\n",
       "      <th>RMW</th>\n",
       "      <th>CMA</th>\n",
       "      <th>RF</th>\n",
       "    </tr>\n",
       "    <tr>\n",
       "      <th>date</th>\n",
       "      <th></th>\n",
       "      <th></th>\n",
       "      <th></th>\n",
       "      <th></th>\n",
       "      <th></th>\n",
       "      <th></th>\n",
       "      <th></th>\n",
       "      <th></th>\n",
       "      <th></th>\n",
       "      <th></th>\n",
       "      <th></th>\n",
       "    </tr>\n",
       "  </thead>\n",
       "  <tbody>\n",
       "    <tr>\n",
       "      <th>1970-10-30</th>\n",
       "      <td>197010</td>\n",
       "      <td>0.083603</td>\n",
       "      <td>-0.064071</td>\n",
       "      <td>0.073112</td>\n",
       "      <td>-0.062213</td>\n",
       "      <td>-0.0228</td>\n",
       "      <td>-0.0443</td>\n",
       "      <td>0.0022</td>\n",
       "      <td>0.0171</td>\n",
       "      <td>0.0234</td>\n",
       "      <td>0.0046</td>\n",
       "    </tr>\n",
       "    <tr>\n",
       "      <th>1970-11-30</th>\n",
       "      <td>197011</td>\n",
       "      <td>0.023131</td>\n",
       "      <td>0.003238</td>\n",
       "      <td>0.023705</td>\n",
       "      <td>0.009349</td>\n",
       "      <td>0.0460</td>\n",
       "      <td>-0.0386</td>\n",
       "      <td>0.0169</td>\n",
       "      <td>0.0157</td>\n",
       "      <td>0.0147</td>\n",
       "      <td>0.0046</td>\n",
       "    </tr>\n",
       "    <tr>\n",
       "      <th>1970-12-31</th>\n",
       "      <td>197012</td>\n",
       "      <td>-0.022009</td>\n",
       "      <td>-0.028225</td>\n",
       "      <td>-0.034313</td>\n",
       "      <td>-0.024298</td>\n",
       "      <td>0.0572</td>\n",
       "      <td>0.0294</td>\n",
       "      <td>0.0100</td>\n",
       "      <td>0.0027</td>\n",
       "      <td>0.0030</td>\n",
       "      <td>0.0042</td>\n",
       "    </tr>\n",
       "    <tr>\n",
       "      <th>1971-01-29</th>\n",
       "      <td>197101</td>\n",
       "      <td>-0.070859</td>\n",
       "      <td>-0.020666</td>\n",
       "      <td>-0.076117</td>\n",
       "      <td>-0.045204</td>\n",
       "      <td>0.0484</td>\n",
       "      <td>0.0754</td>\n",
       "      <td>0.0133</td>\n",
       "      <td>-0.0199</td>\n",
       "      <td>0.0007</td>\n",
       "      <td>0.0038</td>\n",
       "    </tr>\n",
       "    <tr>\n",
       "      <th>1971-02-26</th>\n",
       "      <td>197102</td>\n",
       "      <td>0.003639</td>\n",
       "      <td>-0.015608</td>\n",
       "      <td>-0.002177</td>\n",
       "      <td>-0.008825</td>\n",
       "      <td>0.0141</td>\n",
       "      <td>0.0204</td>\n",
       "      <td>-0.0123</td>\n",
       "      <td>0.0062</td>\n",
       "      <td>-0.0070</td>\n",
       "      <td>0.0033</td>\n",
       "    </tr>\n",
       "  </tbody>\n",
       "</table>\n",
       "</div>"
      ],
      "text/plain": [
       "             mdate       mom       rev      mom2      rev2   MktRF     SMB  \\\n",
       "date                                                                         \n",
       "1970-10-30  197010  0.083603 -0.064071  0.073112 -0.062213 -0.0228 -0.0443   \n",
       "1970-11-30  197011  0.023131  0.003238  0.023705  0.009349  0.0460 -0.0386   \n",
       "1970-12-31  197012 -0.022009 -0.028225 -0.034313 -0.024298  0.0572  0.0294   \n",
       "1971-01-29  197101 -0.070859 -0.020666 -0.076117 -0.045204  0.0484  0.0754   \n",
       "1971-02-26  197102  0.003639 -0.015608 -0.002177 -0.008825  0.0141  0.0204   \n",
       "\n",
       "               HML     RMW     CMA      RF  \n",
       "date                                        \n",
       "1970-10-30  0.0022  0.0171  0.0234  0.0046  \n",
       "1970-11-30  0.0169  0.0157  0.0147  0.0046  \n",
       "1970-12-31  0.0100  0.0027  0.0030  0.0042  \n",
       "1971-01-29  0.0133 -0.0199  0.0007  0.0038  \n",
       "1971-02-26 -0.0123  0.0062 -0.0070  0.0033  "
      ]
     },
     "execution_count": 63,
     "metadata": {},
     "output_type": "execute_result"
    }
   ],
   "source": [
    "ret.head()"
   ]
  },
  {
   "cell_type": "code",
   "execution_count": 64,
   "metadata": {
    "slideshow": {
     "slide_type": "subslide"
    }
   },
   "outputs": [
    {
     "data": {
      "text/html": [
       "<table class=\"simpletable\">\n",
       "<caption>OLS Regression Results</caption>\n",
       "<tr>\n",
       "  <th>Dep. Variable:</th>           <td>mom</td>       <th>  R-squared:         </th> <td>   0.109</td>\n",
       "</tr>\n",
       "<tr>\n",
       "  <th>Model:</th>                   <td>OLS</td>       <th>  Adj. R-squared:    </th> <td>   0.104</td>\n",
       "</tr>\n",
       "<tr>\n",
       "  <th>Method:</th>             <td>Least Squares</td>  <th>  F-statistic:       </th> <td>   21.72</td>\n",
       "</tr>\n",
       "<tr>\n",
       "  <th>Date:</th>             <td>Thu, 03 Apr 2025</td> <th>  Prob (F-statistic):</th> <td>6.16e-06</td>\n",
       "</tr>\n",
       "<tr>\n",
       "  <th>Time:</th>                 <td>23:32:56</td>     <th>  Log-Likelihood:    </th> <td>  355.82</td>\n",
       "</tr>\n",
       "<tr>\n",
       "  <th>No. Observations:</th>      <td>   180</td>      <th>  AIC:               </th> <td>  -707.6</td>\n",
       "</tr>\n",
       "<tr>\n",
       "  <th>Df Residuals:</th>          <td>   178</td>      <th>  BIC:               </th> <td>  -701.3</td>\n",
       "</tr>\n",
       "<tr>\n",
       "  <th>Df Model:</th>              <td>     1</td>      <th>                     </th>     <td> </td>   \n",
       "</tr>\n",
       "<tr>\n",
       "  <th>Covariance Type:</th>      <td>nonrobust</td>    <th>                     </th>     <td> </td>   \n",
       "</tr>\n",
       "</table>\n",
       "<table class=\"simpletable\">\n",
       "<tr>\n",
       "      <td></td>         <th>coef</th>     <th>std err</th>      <th>t</th>      <th>P>|t|</th>  <th>[0.025</th>    <th>0.975]</th>  \n",
       "</tr>\n",
       "<tr>\n",
       "  <th>Intercept</th> <td>    0.0039</td> <td>    0.003</td> <td>    1.521</td> <td> 0.130</td> <td>   -0.001</td> <td>    0.009</td>\n",
       "</tr>\n",
       "<tr>\n",
       "  <th>MktRF</th>     <td>   -0.2686</td> <td>    0.058</td> <td>   -4.660</td> <td> 0.000</td> <td>   -0.382</td> <td>   -0.155</td>\n",
       "</tr>\n",
       "</table>\n",
       "<table class=\"simpletable\">\n",
       "<tr>\n",
       "  <th>Omnibus:</th>       <td>23.627</td> <th>  Durbin-Watson:     </th> <td>   2.123</td>\n",
       "</tr>\n",
       "<tr>\n",
       "  <th>Prob(Omnibus):</th> <td> 0.000</td> <th>  Jarque-Bera (JB):  </th> <td>  40.096</td>\n",
       "</tr>\n",
       "<tr>\n",
       "  <th>Skew:</th>          <td>-0.683</td> <th>  Prob(JB):          </th> <td>1.96e-09</td>\n",
       "</tr>\n",
       "<tr>\n",
       "  <th>Kurtosis:</th>      <td> 4.866</td> <th>  Cond. No.          </th> <td>    22.9</td>\n",
       "</tr>\n",
       "</table><br/><br/>Notes:<br/>[1] Standard Errors assume that the covariance matrix of the errors is correctly specified."
      ],
      "text/latex": [
       "\\begin{center}\n",
       "\\begin{tabular}{lclc}\n",
       "\\toprule\n",
       "\\textbf{Dep. Variable:}    &       mom        & \\textbf{  R-squared:         } &     0.109   \\\\\n",
       "\\textbf{Model:}            &       OLS        & \\textbf{  Adj. R-squared:    } &     0.104   \\\\\n",
       "\\textbf{Method:}           &  Least Squares   & \\textbf{  F-statistic:       } &     21.72   \\\\\n",
       "\\textbf{Date:}             & Thu, 03 Apr 2025 & \\textbf{  Prob (F-statistic):} &  6.16e-06   \\\\\n",
       "\\textbf{Time:}             &     23:32:56     & \\textbf{  Log-Likelihood:    } &    355.82   \\\\\n",
       "\\textbf{No. Observations:} &         180      & \\textbf{  AIC:               } &    -707.6   \\\\\n",
       "\\textbf{Df Residuals:}     &         178      & \\textbf{  BIC:               } &    -701.3   \\\\\n",
       "\\textbf{Df Model:}         &           1      & \\textbf{                     } &             \\\\\n",
       "\\textbf{Covariance Type:}  &    nonrobust     & \\textbf{                     } &             \\\\\n",
       "\\bottomrule\n",
       "\\end{tabular}\n",
       "\\begin{tabular}{lcccccc}\n",
       "                   & \\textbf{coef} & \\textbf{std err} & \\textbf{t} & \\textbf{P$> |$t$|$} & \\textbf{[0.025} & \\textbf{0.975]}  \\\\\n",
       "\\midrule\n",
       "\\textbf{Intercept} &       0.0039  &        0.003     &     1.521  &         0.130        &       -0.001    &        0.009     \\\\\n",
       "\\textbf{MktRF}     &      -0.2686  &        0.058     &    -4.660  &         0.000        &       -0.382    &       -0.155     \\\\\n",
       "\\bottomrule\n",
       "\\end{tabular}\n",
       "\\begin{tabular}{lclc}\n",
       "\\textbf{Omnibus:}       & 23.627 & \\textbf{  Durbin-Watson:     } &    2.123  \\\\\n",
       "\\textbf{Prob(Omnibus):} &  0.000 & \\textbf{  Jarque-Bera (JB):  } &   40.096  \\\\\n",
       "\\textbf{Skew:}          & -0.683 & \\textbf{  Prob(JB):          } & 1.96e-09  \\\\\n",
       "\\textbf{Kurtosis:}      &  4.866 & \\textbf{  Cond. No.          } &     22.9  \\\\\n",
       "\\bottomrule\n",
       "\\end{tabular}\n",
       "%\\caption{OLS Regression Results}\n",
       "\\end{center}\n",
       "\n",
       "Notes: \\newline\n",
       " [1] Standard Errors assume that the covariance matrix of the errors is correctly specified."
      ],
      "text/plain": [
       "<class 'statsmodels.iolib.summary.Summary'>\n",
       "\"\"\"\n",
       "                            OLS Regression Results                            \n",
       "==============================================================================\n",
       "Dep. Variable:                    mom   R-squared:                       0.109\n",
       "Model:                            OLS   Adj. R-squared:                  0.104\n",
       "Method:                 Least Squares   F-statistic:                     21.72\n",
       "Date:                Thu, 03 Apr 2025   Prob (F-statistic):           6.16e-06\n",
       "Time:                        23:32:56   Log-Likelihood:                 355.82\n",
       "No. Observations:                 180   AIC:                            -707.6\n",
       "Df Residuals:                     178   BIC:                            -701.3\n",
       "Df Model:                           1                                         \n",
       "Covariance Type:            nonrobust                                         \n",
       "==============================================================================\n",
       "                 coef    std err          t      P>|t|      [0.025      0.975]\n",
       "------------------------------------------------------------------------------\n",
       "Intercept      0.0039      0.003      1.521      0.130      -0.001       0.009\n",
       "MktRF         -0.2686      0.058     -4.660      0.000      -0.382      -0.155\n",
       "==============================================================================\n",
       "Omnibus:                       23.627   Durbin-Watson:                   2.123\n",
       "Prob(Omnibus):                  0.000   Jarque-Bera (JB):               40.096\n",
       "Skew:                          -0.683   Prob(JB):                     1.96e-09\n",
       "Kurtosis:                       4.866   Cond. No.                         22.9\n",
       "==============================================================================\n",
       "\n",
       "Notes:\n",
       "[1] Standard Errors assume that the covariance matrix of the errors is correctly specified.\n",
       "\"\"\""
      ]
     },
     "execution_count": 64,
     "metadata": {},
     "output_type": "execute_result"
    }
   ],
   "source": [
    "smf.ols('mom ~ MktRF', data=ret.loc['2010-01-01':]).fit().summary()"
   ]
  },
  {
   "cell_type": "code",
   "execution_count": 65,
   "metadata": {
    "slideshow": {
     "slide_type": "subslide"
    }
   },
   "outputs": [
    {
     "data": {
      "text/html": [
       "<table class=\"simpletable\">\n",
       "<caption>OLS Regression Results</caption>\n",
       "<tr>\n",
       "  <th>Dep. Variable:</th>           <td>mom</td>       <th>  R-squared:         </th> <td>   0.041</td>\n",
       "</tr>\n",
       "<tr>\n",
       "  <th>Model:</th>                   <td>OLS</td>       <th>  Adj. R-squared:    </th> <td>   0.039</td>\n",
       "</tr>\n",
       "<tr>\n",
       "  <th>Method:</th>             <td>Least Squares</td>  <th>  F-statistic:       </th> <td>   27.47</td>\n",
       "</tr>\n",
       "<tr>\n",
       "  <th>Date:</th>             <td>Thu, 03 Apr 2025</td> <th>  Prob (F-statistic):</th> <td>2.16e-07</td>\n",
       "</tr>\n",
       "<tr>\n",
       "  <th>Time:</th>                 <td>23:32:56</td>     <th>  Log-Likelihood:    </th> <td>  1151.2</td>\n",
       "</tr>\n",
       "<tr>\n",
       "  <th>No. Observations:</th>      <td>   651</td>      <th>  AIC:               </th> <td>  -2298.</td>\n",
       "</tr>\n",
       "<tr>\n",
       "  <th>Df Residuals:</th>          <td>   649</td>      <th>  BIC:               </th> <td>  -2289.</td>\n",
       "</tr>\n",
       "<tr>\n",
       "  <th>Df Model:</th>              <td>     1</td>      <th>                     </th>     <td> </td>   \n",
       "</tr>\n",
       "<tr>\n",
       "  <th>Covariance Type:</th>      <td>nonrobust</td>    <th>                     </th>     <td> </td>   \n",
       "</tr>\n",
       "</table>\n",
       "<table class=\"simpletable\">\n",
       "<tr>\n",
       "      <td></td>         <th>coef</th>     <th>std err</th>      <th>t</th>      <th>P>|t|</th>  <th>[0.025</th>    <th>0.975]</th>  \n",
       "</tr>\n",
       "<tr>\n",
       "  <th>Intercept</th> <td>    0.0060</td> <td>    0.002</td> <td>    3.663</td> <td> 0.000</td> <td>    0.003</td> <td>    0.009</td>\n",
       "</tr>\n",
       "<tr>\n",
       "  <th>MktRF</th>     <td>   -0.1863</td> <td>    0.036</td> <td>   -5.241</td> <td> 0.000</td> <td>   -0.256</td> <td>   -0.116</td>\n",
       "</tr>\n",
       "</table>\n",
       "<table class=\"simpletable\">\n",
       "<tr>\n",
       "  <th>Omnibus:</th>       <td>230.656</td> <th>  Durbin-Watson:     </th> <td>   1.939</td>\n",
       "</tr>\n",
       "<tr>\n",
       "  <th>Prob(Omnibus):</th> <td> 0.000</td>  <th>  Jarque-Bera (JB):  </th> <td>1990.863</td>\n",
       "</tr>\n",
       "<tr>\n",
       "  <th>Skew:</th>          <td>-1.329</td>  <th>  Prob(JB):          </th> <td>    0.00</td>\n",
       "</tr>\n",
       "<tr>\n",
       "  <th>Kurtosis:</th>      <td>11.145</td>  <th>  Cond. No.          </th> <td>    21.9</td>\n",
       "</tr>\n",
       "</table><br/><br/>Notes:<br/>[1] Standard Errors assume that the covariance matrix of the errors is correctly specified."
      ],
      "text/latex": [
       "\\begin{center}\n",
       "\\begin{tabular}{lclc}\n",
       "\\toprule\n",
       "\\textbf{Dep. Variable:}    &       mom        & \\textbf{  R-squared:         } &     0.041   \\\\\n",
       "\\textbf{Model:}            &       OLS        & \\textbf{  Adj. R-squared:    } &     0.039   \\\\\n",
       "\\textbf{Method:}           &  Least Squares   & \\textbf{  F-statistic:       } &     27.47   \\\\\n",
       "\\textbf{Date:}             & Thu, 03 Apr 2025 & \\textbf{  Prob (F-statistic):} &  2.16e-07   \\\\\n",
       "\\textbf{Time:}             &     23:32:56     & \\textbf{  Log-Likelihood:    } &    1151.2   \\\\\n",
       "\\textbf{No. Observations:} &         651      & \\textbf{  AIC:               } &    -2298.   \\\\\n",
       "\\textbf{Df Residuals:}     &         649      & \\textbf{  BIC:               } &    -2289.   \\\\\n",
       "\\textbf{Df Model:}         &           1      & \\textbf{                     } &             \\\\\n",
       "\\textbf{Covariance Type:}  &    nonrobust     & \\textbf{                     } &             \\\\\n",
       "\\bottomrule\n",
       "\\end{tabular}\n",
       "\\begin{tabular}{lcccccc}\n",
       "                   & \\textbf{coef} & \\textbf{std err} & \\textbf{t} & \\textbf{P$> |$t$|$} & \\textbf{[0.025} & \\textbf{0.975]}  \\\\\n",
       "\\midrule\n",
       "\\textbf{Intercept} &       0.0060  &        0.002     &     3.663  &         0.000        &        0.003    &        0.009     \\\\\n",
       "\\textbf{MktRF}     &      -0.1863  &        0.036     &    -5.241  &         0.000        &       -0.256    &       -0.116     \\\\\n",
       "\\bottomrule\n",
       "\\end{tabular}\n",
       "\\begin{tabular}{lclc}\n",
       "\\textbf{Omnibus:}       & 230.656 & \\textbf{  Durbin-Watson:     } &    1.939  \\\\\n",
       "\\textbf{Prob(Omnibus):} &   0.000 & \\textbf{  Jarque-Bera (JB):  } & 1990.863  \\\\\n",
       "\\textbf{Skew:}          &  -1.329 & \\textbf{  Prob(JB):          } &     0.00  \\\\\n",
       "\\textbf{Kurtosis:}      &  11.145 & \\textbf{  Cond. No.          } &     21.9  \\\\\n",
       "\\bottomrule\n",
       "\\end{tabular}\n",
       "%\\caption{OLS Regression Results}\n",
       "\\end{center}\n",
       "\n",
       "Notes: \\newline\n",
       " [1] Standard Errors assume that the covariance matrix of the errors is correctly specified."
      ],
      "text/plain": [
       "<class 'statsmodels.iolib.summary.Summary'>\n",
       "\"\"\"\n",
       "                            OLS Regression Results                            \n",
       "==============================================================================\n",
       "Dep. Variable:                    mom   R-squared:                       0.041\n",
       "Model:                            OLS   Adj. R-squared:                  0.039\n",
       "Method:                 Least Squares   F-statistic:                     27.47\n",
       "Date:                Thu, 03 Apr 2025   Prob (F-statistic):           2.16e-07\n",
       "Time:                        23:32:56   Log-Likelihood:                 1151.2\n",
       "No. Observations:                 651   AIC:                            -2298.\n",
       "Df Residuals:                     649   BIC:                            -2289.\n",
       "Df Model:                           1                                         \n",
       "Covariance Type:            nonrobust                                         \n",
       "==============================================================================\n",
       "                 coef    std err          t      P>|t|      [0.025      0.975]\n",
       "------------------------------------------------------------------------------\n",
       "Intercept      0.0060      0.002      3.663      0.000       0.003       0.009\n",
       "MktRF         -0.1863      0.036     -5.241      0.000      -0.256      -0.116\n",
       "==============================================================================\n",
       "Omnibus:                      230.656   Durbin-Watson:                   1.939\n",
       "Prob(Omnibus):                  0.000   Jarque-Bera (JB):             1990.863\n",
       "Skew:                          -1.329   Prob(JB):                         0.00\n",
       "Kurtosis:                      11.145   Cond. No.                         21.9\n",
       "==============================================================================\n",
       "\n",
       "Notes:\n",
       "[1] Standard Errors assume that the covariance matrix of the errors is correctly specified.\n",
       "\"\"\""
      ]
     },
     "execution_count": 65,
     "metadata": {},
     "output_type": "execute_result"
    }
   ],
   "source": [
    "smf.ols('mom ~ MktRF', data=ret).fit().summary()"
   ]
  },
  {
   "cell_type": "code",
   "execution_count": 66,
   "metadata": {
    "slideshow": {
     "slide_type": "subslide"
    }
   },
   "outputs": [
    {
     "data": {
      "text/html": [
       "<table class=\"simpletable\">\n",
       "<caption>OLS Regression Results</caption>\n",
       "<tr>\n",
       "  <th>Dep. Variable:</th>           <td>mom</td>       <th>  R-squared:         </th> <td>   0.098</td>\n",
       "</tr>\n",
       "<tr>\n",
       "  <th>Model:</th>                   <td>OLS</td>       <th>  Adj. R-squared:    </th> <td>   0.093</td>\n",
       "</tr>\n",
       "<tr>\n",
       "  <th>Method:</th>             <td>Least Squares</td>  <th>  F-statistic:       </th> <td>   23.34</td>\n",
       "</tr>\n",
       "<tr>\n",
       "  <th>Date:</th>             <td>Thu, 03 Apr 2025</td> <th>  Prob (F-statistic):</th> <td>2.34e-14</td>\n",
       "</tr>\n",
       "<tr>\n",
       "  <th>Time:</th>                 <td>23:32:56</td>     <th>  Log-Likelihood:    </th> <td>  1171.1</td>\n",
       "</tr>\n",
       "<tr>\n",
       "  <th>No. Observations:</th>      <td>   651</td>      <th>  AIC:               </th> <td>  -2334.</td>\n",
       "</tr>\n",
       "<tr>\n",
       "  <th>Df Residuals:</th>          <td>   647</td>      <th>  BIC:               </th> <td>  -2316.</td>\n",
       "</tr>\n",
       "<tr>\n",
       "  <th>Df Model:</th>              <td>     3</td>      <th>                     </th>     <td> </td>   \n",
       "</tr>\n",
       "<tr>\n",
       "  <th>Covariance Type:</th>      <td>nonrobust</td>    <th>                     </th>     <td> </td>   \n",
       "</tr>\n",
       "</table>\n",
       "<table class=\"simpletable\">\n",
       "<tr>\n",
       "      <td></td>         <th>coef</th>     <th>std err</th>      <th>t</th>      <th>P>|t|</th>  <th>[0.025</th>    <th>0.975]</th>  \n",
       "</tr>\n",
       "<tr>\n",
       "  <th>Intercept</th> <td>    0.0071</td> <td>    0.002</td> <td>    4.462</td> <td> 0.000</td> <td>    0.004</td> <td>    0.010</td>\n",
       "</tr>\n",
       "<tr>\n",
       "  <th>MktRF</th>     <td>   -0.2179</td> <td>    0.037</td> <td>   -5.952</td> <td> 0.000</td> <td>   -0.290</td> <td>   -0.146</td>\n",
       "</tr>\n",
       "<tr>\n",
       "  <th>SMB</th>       <td>   -0.0738</td> <td>    0.054</td> <td>   -1.372</td> <td> 0.171</td> <td>   -0.180</td> <td>    0.032</td>\n",
       "</tr>\n",
       "<tr>\n",
       "  <th>HML</th>       <td>   -0.3195</td> <td>    0.052</td> <td>   -6.120</td> <td> 0.000</td> <td>   -0.422</td> <td>   -0.217</td>\n",
       "</tr>\n",
       "</table>\n",
       "<table class=\"simpletable\">\n",
       "<tr>\n",
       "  <th>Omnibus:</th>       <td>227.526</td> <th>  Durbin-Watson:     </th> <td>   1.956</td>\n",
       "</tr>\n",
       "<tr>\n",
       "  <th>Prob(Omnibus):</th> <td> 0.000</td>  <th>  Jarque-Bera (JB):  </th> <td>1919.749</td>\n",
       "</tr>\n",
       "<tr>\n",
       "  <th>Skew:</th>          <td>-1.314</td>  <th>  Prob(JB):          </th> <td>    0.00</td>\n",
       "</tr>\n",
       "<tr>\n",
       "  <th>Kurtosis:</th>      <td>10.992</td>  <th>  Cond. No.          </th> <td>    36.4</td>\n",
       "</tr>\n",
       "</table><br/><br/>Notes:<br/>[1] Standard Errors assume that the covariance matrix of the errors is correctly specified."
      ],
      "text/latex": [
       "\\begin{center}\n",
       "\\begin{tabular}{lclc}\n",
       "\\toprule\n",
       "\\textbf{Dep. Variable:}    &       mom        & \\textbf{  R-squared:         } &     0.098   \\\\\n",
       "\\textbf{Model:}            &       OLS        & \\textbf{  Adj. R-squared:    } &     0.093   \\\\\n",
       "\\textbf{Method:}           &  Least Squares   & \\textbf{  F-statistic:       } &     23.34   \\\\\n",
       "\\textbf{Date:}             & Thu, 03 Apr 2025 & \\textbf{  Prob (F-statistic):} &  2.34e-14   \\\\\n",
       "\\textbf{Time:}             &     23:32:56     & \\textbf{  Log-Likelihood:    } &    1171.1   \\\\\n",
       "\\textbf{No. Observations:} &         651      & \\textbf{  AIC:               } &    -2334.   \\\\\n",
       "\\textbf{Df Residuals:}     &         647      & \\textbf{  BIC:               } &    -2316.   \\\\\n",
       "\\textbf{Df Model:}         &           3      & \\textbf{                     } &             \\\\\n",
       "\\textbf{Covariance Type:}  &    nonrobust     & \\textbf{                     } &             \\\\\n",
       "\\bottomrule\n",
       "\\end{tabular}\n",
       "\\begin{tabular}{lcccccc}\n",
       "                   & \\textbf{coef} & \\textbf{std err} & \\textbf{t} & \\textbf{P$> |$t$|$} & \\textbf{[0.025} & \\textbf{0.975]}  \\\\\n",
       "\\midrule\n",
       "\\textbf{Intercept} &       0.0071  &        0.002     &     4.462  &         0.000        &        0.004    &        0.010     \\\\\n",
       "\\textbf{MktRF}     &      -0.2179  &        0.037     &    -5.952  &         0.000        &       -0.290    &       -0.146     \\\\\n",
       "\\textbf{SMB}       &      -0.0738  &        0.054     &    -1.372  &         0.171        &       -0.180    &        0.032     \\\\\n",
       "\\textbf{HML}       &      -0.3195  &        0.052     &    -6.120  &         0.000        &       -0.422    &       -0.217     \\\\\n",
       "\\bottomrule\n",
       "\\end{tabular}\n",
       "\\begin{tabular}{lclc}\n",
       "\\textbf{Omnibus:}       & 227.526 & \\textbf{  Durbin-Watson:     } &    1.956  \\\\\n",
       "\\textbf{Prob(Omnibus):} &   0.000 & \\textbf{  Jarque-Bera (JB):  } & 1919.749  \\\\\n",
       "\\textbf{Skew:}          &  -1.314 & \\textbf{  Prob(JB):          } &     0.00  \\\\\n",
       "\\textbf{Kurtosis:}      &  10.992 & \\textbf{  Cond. No.          } &     36.4  \\\\\n",
       "\\bottomrule\n",
       "\\end{tabular}\n",
       "%\\caption{OLS Regression Results}\n",
       "\\end{center}\n",
       "\n",
       "Notes: \\newline\n",
       " [1] Standard Errors assume that the covariance matrix of the errors is correctly specified."
      ],
      "text/plain": [
       "<class 'statsmodels.iolib.summary.Summary'>\n",
       "\"\"\"\n",
       "                            OLS Regression Results                            \n",
       "==============================================================================\n",
       "Dep. Variable:                    mom   R-squared:                       0.098\n",
       "Model:                            OLS   Adj. R-squared:                  0.093\n",
       "Method:                 Least Squares   F-statistic:                     23.34\n",
       "Date:                Thu, 03 Apr 2025   Prob (F-statistic):           2.34e-14\n",
       "Time:                        23:32:56   Log-Likelihood:                 1171.1\n",
       "No. Observations:                 651   AIC:                            -2334.\n",
       "Df Residuals:                     647   BIC:                            -2316.\n",
       "Df Model:                           3                                         \n",
       "Covariance Type:            nonrobust                                         \n",
       "==============================================================================\n",
       "                 coef    std err          t      P>|t|      [0.025      0.975]\n",
       "------------------------------------------------------------------------------\n",
       "Intercept      0.0071      0.002      4.462      0.000       0.004       0.010\n",
       "MktRF         -0.2179      0.037     -5.952      0.000      -0.290      -0.146\n",
       "SMB           -0.0738      0.054     -1.372      0.171      -0.180       0.032\n",
       "HML           -0.3195      0.052     -6.120      0.000      -0.422      -0.217\n",
       "==============================================================================\n",
       "Omnibus:                      227.526   Durbin-Watson:                   1.956\n",
       "Prob(Omnibus):                  0.000   Jarque-Bera (JB):             1919.749\n",
       "Skew:                          -1.314   Prob(JB):                         0.00\n",
       "Kurtosis:                      10.992   Cond. No.                         36.4\n",
       "==============================================================================\n",
       "\n",
       "Notes:\n",
       "[1] Standard Errors assume that the covariance matrix of the errors is correctly specified.\n",
       "\"\"\""
      ]
     },
     "execution_count": 66,
     "metadata": {},
     "output_type": "execute_result"
    }
   ],
   "source": [
    "smf.ols('mom ~ MktRF + SMB + HML', data=ret).fit().summary()"
   ]
  },
  {
   "cell_type": "code",
   "execution_count": 67,
   "metadata": {
    "slideshow": {
     "slide_type": "subslide"
    }
   },
   "outputs": [
    {
     "data": {
      "text/html": [
       "<table class=\"simpletable\">\n",
       "<caption>OLS Regression Results</caption>\n",
       "<tr>\n",
       "  <th>Dep. Variable:</th>           <td>mom</td>       <th>  R-squared:         </th> <td>   0.126</td>\n",
       "</tr>\n",
       "<tr>\n",
       "  <th>Model:</th>                   <td>OLS</td>       <th>  Adj. R-squared:    </th> <td>   0.119</td>\n",
       "</tr>\n",
       "<tr>\n",
       "  <th>Method:</th>             <td>Least Squares</td>  <th>  F-statistic:       </th> <td>   18.59</td>\n",
       "</tr>\n",
       "<tr>\n",
       "  <th>Date:</th>             <td>Thu, 03 Apr 2025</td> <th>  Prob (F-statistic):</th> <td>2.82e-17</td>\n",
       "</tr>\n",
       "<tr>\n",
       "  <th>Time:</th>                 <td>23:32:56</td>     <th>  Log-Likelihood:    </th> <td>  1181.5</td>\n",
       "</tr>\n",
       "<tr>\n",
       "  <th>No. Observations:</th>      <td>   651</td>      <th>  AIC:               </th> <td>  -2351.</td>\n",
       "</tr>\n",
       "<tr>\n",
       "  <th>Df Residuals:</th>          <td>   645</td>      <th>  BIC:               </th> <td>  -2324.</td>\n",
       "</tr>\n",
       "<tr>\n",
       "  <th>Df Model:</th>              <td>     5</td>      <th>                     </th>     <td> </td>   \n",
       "</tr>\n",
       "<tr>\n",
       "  <th>Covariance Type:</th>      <td>nonrobust</td>    <th>                     </th>     <td> </td>   \n",
       "</tr>\n",
       "</table>\n",
       "<table class=\"simpletable\">\n",
       "<tr>\n",
       "      <td></td>         <th>coef</th>     <th>std err</th>      <th>t</th>      <th>P>|t|</th>  <th>[0.025</th>    <th>0.975]</th>  \n",
       "</tr>\n",
       "<tr>\n",
       "  <th>Intercept</th> <td>    0.0055</td> <td>    0.002</td> <td>    3.377</td> <td> 0.001</td> <td>    0.002</td> <td>    0.009</td>\n",
       "</tr>\n",
       "<tr>\n",
       "  <th>MktRF</th>     <td>   -0.1635</td> <td>    0.038</td> <td>   -4.298</td> <td> 0.000</td> <td>   -0.238</td> <td>   -0.089</td>\n",
       "</tr>\n",
       "<tr>\n",
       "  <th>SMB</th>       <td>   -0.0271</td> <td>    0.057</td> <td>   -0.477</td> <td> 0.633</td> <td>   -0.139</td> <td>    0.085</td>\n",
       "</tr>\n",
       "<tr>\n",
       "  <th>HML</th>       <td>   -0.5261</td> <td>    0.070</td> <td>   -7.521</td> <td> 0.000</td> <td>   -0.663</td> <td>   -0.389</td>\n",
       "</tr>\n",
       "<tr>\n",
       "  <th>RMW</th>       <td>    0.1814</td> <td>    0.075</td> <td>    2.415</td> <td> 0.016</td> <td>    0.034</td> <td>    0.329</td>\n",
       "</tr>\n",
       "<tr>\n",
       "  <th>CMA</th>       <td>    0.4545</td> <td>    0.110</td> <td>    4.133</td> <td> 0.000</td> <td>    0.239</td> <td>    0.670</td>\n",
       "</tr>\n",
       "</table>\n",
       "<table class=\"simpletable\">\n",
       "<tr>\n",
       "  <th>Omnibus:</th>       <td>215.636</td> <th>  Durbin-Watson:     </th> <td>   1.955</td>\n",
       "</tr>\n",
       "<tr>\n",
       "  <th>Prob(Omnibus):</th> <td> 0.000</td>  <th>  Jarque-Bera (JB):  </th> <td>1738.401</td>\n",
       "</tr>\n",
       "<tr>\n",
       "  <th>Skew:</th>          <td>-1.244</td>  <th>  Prob(JB):          </th> <td>    0.00</td>\n",
       "</tr>\n",
       "<tr>\n",
       "  <th>Kurtosis:</th>      <td>10.609</td>  <th>  Cond. No.          </th> <td>    79.2</td>\n",
       "</tr>\n",
       "</table><br/><br/>Notes:<br/>[1] Standard Errors assume that the covariance matrix of the errors is correctly specified."
      ],
      "text/latex": [
       "\\begin{center}\n",
       "\\begin{tabular}{lclc}\n",
       "\\toprule\n",
       "\\textbf{Dep. Variable:}    &       mom        & \\textbf{  R-squared:         } &     0.126   \\\\\n",
       "\\textbf{Model:}            &       OLS        & \\textbf{  Adj. R-squared:    } &     0.119   \\\\\n",
       "\\textbf{Method:}           &  Least Squares   & \\textbf{  F-statistic:       } &     18.59   \\\\\n",
       "\\textbf{Date:}             & Thu, 03 Apr 2025 & \\textbf{  Prob (F-statistic):} &  2.82e-17   \\\\\n",
       "\\textbf{Time:}             &     23:32:56     & \\textbf{  Log-Likelihood:    } &    1181.5   \\\\\n",
       "\\textbf{No. Observations:} &         651      & \\textbf{  AIC:               } &    -2351.   \\\\\n",
       "\\textbf{Df Residuals:}     &         645      & \\textbf{  BIC:               } &    -2324.   \\\\\n",
       "\\textbf{Df Model:}         &           5      & \\textbf{                     } &             \\\\\n",
       "\\textbf{Covariance Type:}  &    nonrobust     & \\textbf{                     } &             \\\\\n",
       "\\bottomrule\n",
       "\\end{tabular}\n",
       "\\begin{tabular}{lcccccc}\n",
       "                   & \\textbf{coef} & \\textbf{std err} & \\textbf{t} & \\textbf{P$> |$t$|$} & \\textbf{[0.025} & \\textbf{0.975]}  \\\\\n",
       "\\midrule\n",
       "\\textbf{Intercept} &       0.0055  &        0.002     &     3.377  &         0.001        &        0.002    &        0.009     \\\\\n",
       "\\textbf{MktRF}     &      -0.1635  &        0.038     &    -4.298  &         0.000        &       -0.238    &       -0.089     \\\\\n",
       "\\textbf{SMB}       &      -0.0271  &        0.057     &    -0.477  &         0.633        &       -0.139    &        0.085     \\\\\n",
       "\\textbf{HML}       &      -0.5261  &        0.070     &    -7.521  &         0.000        &       -0.663    &       -0.389     \\\\\n",
       "\\textbf{RMW}       &       0.1814  &        0.075     &     2.415  &         0.016        &        0.034    &        0.329     \\\\\n",
       "\\textbf{CMA}       &       0.4545  &        0.110     &     4.133  &         0.000        &        0.239    &        0.670     \\\\\n",
       "\\bottomrule\n",
       "\\end{tabular}\n",
       "\\begin{tabular}{lclc}\n",
       "\\textbf{Omnibus:}       & 215.636 & \\textbf{  Durbin-Watson:     } &    1.955  \\\\\n",
       "\\textbf{Prob(Omnibus):} &   0.000 & \\textbf{  Jarque-Bera (JB):  } & 1738.401  \\\\\n",
       "\\textbf{Skew:}          &  -1.244 & \\textbf{  Prob(JB):          } &     0.00  \\\\\n",
       "\\textbf{Kurtosis:}      &  10.609 & \\textbf{  Cond. No.          } &     79.2  \\\\\n",
       "\\bottomrule\n",
       "\\end{tabular}\n",
       "%\\caption{OLS Regression Results}\n",
       "\\end{center}\n",
       "\n",
       "Notes: \\newline\n",
       " [1] Standard Errors assume that the covariance matrix of the errors is correctly specified."
      ],
      "text/plain": [
       "<class 'statsmodels.iolib.summary.Summary'>\n",
       "\"\"\"\n",
       "                            OLS Regression Results                            \n",
       "==============================================================================\n",
       "Dep. Variable:                    mom   R-squared:                       0.126\n",
       "Model:                            OLS   Adj. R-squared:                  0.119\n",
       "Method:                 Least Squares   F-statistic:                     18.59\n",
       "Date:                Thu, 03 Apr 2025   Prob (F-statistic):           2.82e-17\n",
       "Time:                        23:32:56   Log-Likelihood:                 1181.5\n",
       "No. Observations:                 651   AIC:                            -2351.\n",
       "Df Residuals:                     645   BIC:                            -2324.\n",
       "Df Model:                           5                                         \n",
       "Covariance Type:            nonrobust                                         \n",
       "==============================================================================\n",
       "                 coef    std err          t      P>|t|      [0.025      0.975]\n",
       "------------------------------------------------------------------------------\n",
       "Intercept      0.0055      0.002      3.377      0.001       0.002       0.009\n",
       "MktRF         -0.1635      0.038     -4.298      0.000      -0.238      -0.089\n",
       "SMB           -0.0271      0.057     -0.477      0.633      -0.139       0.085\n",
       "HML           -0.5261      0.070     -7.521      0.000      -0.663      -0.389\n",
       "RMW            0.1814      0.075      2.415      0.016       0.034       0.329\n",
       "CMA            0.4545      0.110      4.133      0.000       0.239       0.670\n",
       "==============================================================================\n",
       "Omnibus:                      215.636   Durbin-Watson:                   1.955\n",
       "Prob(Omnibus):                  0.000   Jarque-Bera (JB):             1738.401\n",
       "Skew:                          -1.244   Prob(JB):                         0.00\n",
       "Kurtosis:                      10.609   Cond. No.                         79.2\n",
       "==============================================================================\n",
       "\n",
       "Notes:\n",
       "[1] Standard Errors assume that the covariance matrix of the errors is correctly specified.\n",
       "\"\"\""
      ]
     },
     "execution_count": 67,
     "metadata": {},
     "output_type": "execute_result"
    }
   ],
   "source": [
    "smf.ols('mom ~ MktRF + SMB + HML + RMW + CMA', data=ret).fit().summary()"
   ]
  },
  {
   "cell_type": "markdown",
   "metadata": {
    "slideshow": {
     "slide_type": "slide"
    }
   },
   "source": [
    "## Should we add Reversal to our portfolio?"
   ]
  },
  {
   "cell_type": "code",
   "execution_count": 68,
   "metadata": {
    "slideshow": {
     "slide_type": "fragment"
    }
   },
   "outputs": [
    {
     "data": {
      "text/html": [
       "<table class=\"simpletable\">\n",
       "<caption>OLS Regression Results</caption>\n",
       "<tr>\n",
       "  <th>Dep. Variable:</th>           <td>rev</td>       <th>  R-squared:         </th> <td>   0.183</td>\n",
       "</tr>\n",
       "<tr>\n",
       "  <th>Model:</th>                   <td>OLS</td>       <th>  Adj. R-squared:    </th> <td>   0.175</td>\n",
       "</tr>\n",
       "<tr>\n",
       "  <th>Method:</th>             <td>Least Squares</td>  <th>  F-statistic:       </th> <td>   24.02</td>\n",
       "</tr>\n",
       "<tr>\n",
       "  <th>Date:</th>             <td>Thu, 03 Apr 2025</td> <th>  Prob (F-statistic):</th> <td>1.02e-25</td>\n",
       "</tr>\n",
       "<tr>\n",
       "  <th>Time:</th>                 <td>23:32:56</td>     <th>  Log-Likelihood:    </th> <td>  1371.8</td>\n",
       "</tr>\n",
       "<tr>\n",
       "  <th>No. Observations:</th>      <td>   651</td>      <th>  AIC:               </th> <td>  -2730.</td>\n",
       "</tr>\n",
       "<tr>\n",
       "  <th>Df Residuals:</th>          <td>   644</td>      <th>  BIC:               </th> <td>  -2698.</td>\n",
       "</tr>\n",
       "<tr>\n",
       "  <th>Df Model:</th>              <td>     6</td>      <th>                     </th>     <td> </td>   \n",
       "</tr>\n",
       "<tr>\n",
       "  <th>Covariance Type:</th>      <td>nonrobust</td>    <th>                     </th>     <td> </td>   \n",
       "</tr>\n",
       "</table>\n",
       "<table class=\"simpletable\">\n",
       "<tr>\n",
       "      <td></td>         <th>coef</th>     <th>std err</th>      <th>t</th>      <th>P>|t|</th>  <th>[0.025</th>    <th>0.975]</th>  \n",
       "</tr>\n",
       "<tr>\n",
       "  <th>Intercept</th> <td>   -0.0045</td> <td>    0.001</td> <td>   -3.646</td> <td> 0.000</td> <td>   -0.007</td> <td>   -0.002</td>\n",
       "</tr>\n",
       "<tr>\n",
       "  <th>MktRF</th>     <td>   -0.1578</td> <td>    0.029</td> <td>   -5.474</td> <td> 0.000</td> <td>   -0.214</td> <td>   -0.101</td>\n",
       "</tr>\n",
       "<tr>\n",
       "  <th>SMB</th>       <td>   -0.1106</td> <td>    0.042</td> <td>   -2.604</td> <td> 0.009</td> <td>   -0.194</td> <td>   -0.027</td>\n",
       "</tr>\n",
       "<tr>\n",
       "  <th>HML</th>       <td>   -0.0988</td> <td>    0.055</td> <td>   -1.812</td> <td> 0.070</td> <td>   -0.206</td> <td>    0.008</td>\n",
       "</tr>\n",
       "<tr>\n",
       "  <th>RMW</th>       <td>    0.0027</td> <td>    0.056</td> <td>    0.047</td> <td> 0.962</td> <td>   -0.108</td> <td>    0.113</td>\n",
       "</tr>\n",
       "<tr>\n",
       "  <th>CMA</th>       <td>    0.1857</td> <td>    0.083</td> <td>    2.231</td> <td> 0.026</td> <td>    0.022</td> <td>    0.349</td>\n",
       "</tr>\n",
       "<tr>\n",
       "  <th>mom</th>       <td>    0.1828</td> <td>    0.029</td> <td>    6.215</td> <td> 0.000</td> <td>    0.125</td> <td>    0.241</td>\n",
       "</tr>\n",
       "</table>\n",
       "<table class=\"simpletable\">\n",
       "<tr>\n",
       "  <th>Omnibus:</th>       <td>88.078</td> <th>  Durbin-Watson:     </th> <td>   2.061</td> \n",
       "</tr>\n",
       "<tr>\n",
       "  <th>Prob(Omnibus):</th> <td> 0.000</td> <th>  Jarque-Bera (JB):  </th> <td> 883.390</td> \n",
       "</tr>\n",
       "<tr>\n",
       "  <th>Skew:</th>          <td>-0.072</td> <th>  Prob(JB):          </th> <td>1.49e-192</td>\n",
       "</tr>\n",
       "<tr>\n",
       "  <th>Kurtosis:</th>      <td> 8.705</td> <th>  Cond. No.          </th> <td>    81.1</td> \n",
       "</tr>\n",
       "</table><br/><br/>Notes:<br/>[1] Standard Errors assume that the covariance matrix of the errors is correctly specified."
      ],
      "text/latex": [
       "\\begin{center}\n",
       "\\begin{tabular}{lclc}\n",
       "\\toprule\n",
       "\\textbf{Dep. Variable:}    &       rev        & \\textbf{  R-squared:         } &     0.183   \\\\\n",
       "\\textbf{Model:}            &       OLS        & \\textbf{  Adj. R-squared:    } &     0.175   \\\\\n",
       "\\textbf{Method:}           &  Least Squares   & \\textbf{  F-statistic:       } &     24.02   \\\\\n",
       "\\textbf{Date:}             & Thu, 03 Apr 2025 & \\textbf{  Prob (F-statistic):} &  1.02e-25   \\\\\n",
       "\\textbf{Time:}             &     23:32:56     & \\textbf{  Log-Likelihood:    } &    1371.8   \\\\\n",
       "\\textbf{No. Observations:} &         651      & \\textbf{  AIC:               } &    -2730.   \\\\\n",
       "\\textbf{Df Residuals:}     &         644      & \\textbf{  BIC:               } &    -2698.   \\\\\n",
       "\\textbf{Df Model:}         &           6      & \\textbf{                     } &             \\\\\n",
       "\\textbf{Covariance Type:}  &    nonrobust     & \\textbf{                     } &             \\\\\n",
       "\\bottomrule\n",
       "\\end{tabular}\n",
       "\\begin{tabular}{lcccccc}\n",
       "                   & \\textbf{coef} & \\textbf{std err} & \\textbf{t} & \\textbf{P$> |$t$|$} & \\textbf{[0.025} & \\textbf{0.975]}  \\\\\n",
       "\\midrule\n",
       "\\textbf{Intercept} &      -0.0045  &        0.001     &    -3.646  &         0.000        &       -0.007    &       -0.002     \\\\\n",
       "\\textbf{MktRF}     &      -0.1578  &        0.029     &    -5.474  &         0.000        &       -0.214    &       -0.101     \\\\\n",
       "\\textbf{SMB}       &      -0.1106  &        0.042     &    -2.604  &         0.009        &       -0.194    &       -0.027     \\\\\n",
       "\\textbf{HML}       &      -0.0988  &        0.055     &    -1.812  &         0.070        &       -0.206    &        0.008     \\\\\n",
       "\\textbf{RMW}       &       0.0027  &        0.056     &     0.047  &         0.962        &       -0.108    &        0.113     \\\\\n",
       "\\textbf{CMA}       &       0.1857  &        0.083     &     2.231  &         0.026        &        0.022    &        0.349     \\\\\n",
       "\\textbf{mom}       &       0.1828  &        0.029     &     6.215  &         0.000        &        0.125    &        0.241     \\\\\n",
       "\\bottomrule\n",
       "\\end{tabular}\n",
       "\\begin{tabular}{lclc}\n",
       "\\textbf{Omnibus:}       & 88.078 & \\textbf{  Durbin-Watson:     } &     2.061  \\\\\n",
       "\\textbf{Prob(Omnibus):} &  0.000 & \\textbf{  Jarque-Bera (JB):  } &   883.390  \\\\\n",
       "\\textbf{Skew:}          & -0.072 & \\textbf{  Prob(JB):          } & 1.49e-192  \\\\\n",
       "\\textbf{Kurtosis:}      &  8.705 & \\textbf{  Cond. No.          } &      81.1  \\\\\n",
       "\\bottomrule\n",
       "\\end{tabular}\n",
       "%\\caption{OLS Regression Results}\n",
       "\\end{center}\n",
       "\n",
       "Notes: \\newline\n",
       " [1] Standard Errors assume that the covariance matrix of the errors is correctly specified."
      ],
      "text/plain": [
       "<class 'statsmodels.iolib.summary.Summary'>\n",
       "\"\"\"\n",
       "                            OLS Regression Results                            \n",
       "==============================================================================\n",
       "Dep. Variable:                    rev   R-squared:                       0.183\n",
       "Model:                            OLS   Adj. R-squared:                  0.175\n",
       "Method:                 Least Squares   F-statistic:                     24.02\n",
       "Date:                Thu, 03 Apr 2025   Prob (F-statistic):           1.02e-25\n",
       "Time:                        23:32:56   Log-Likelihood:                 1371.8\n",
       "No. Observations:                 651   AIC:                            -2730.\n",
       "Df Residuals:                     644   BIC:                            -2698.\n",
       "Df Model:                           6                                         \n",
       "Covariance Type:            nonrobust                                         \n",
       "==============================================================================\n",
       "                 coef    std err          t      P>|t|      [0.025      0.975]\n",
       "------------------------------------------------------------------------------\n",
       "Intercept     -0.0045      0.001     -3.646      0.000      -0.007      -0.002\n",
       "MktRF         -0.1578      0.029     -5.474      0.000      -0.214      -0.101\n",
       "SMB           -0.1106      0.042     -2.604      0.009      -0.194      -0.027\n",
       "HML           -0.0988      0.055     -1.812      0.070      -0.206       0.008\n",
       "RMW            0.0027      0.056      0.047      0.962      -0.108       0.113\n",
       "CMA            0.1857      0.083      2.231      0.026       0.022       0.349\n",
       "mom            0.1828      0.029      6.215      0.000       0.125       0.241\n",
       "==============================================================================\n",
       "Omnibus:                       88.078   Durbin-Watson:                   2.061\n",
       "Prob(Omnibus):                  0.000   Jarque-Bera (JB):              883.390\n",
       "Skew:                          -0.072   Prob(JB):                    1.49e-192\n",
       "Kurtosis:                       8.705   Cond. No.                         81.1\n",
       "==============================================================================\n",
       "\n",
       "Notes:\n",
       "[1] Standard Errors assume that the covariance matrix of the errors is correctly specified.\n",
       "\"\"\""
      ]
     },
     "execution_count": 68,
     "metadata": {},
     "output_type": "execute_result"
    }
   ],
   "source": [
    "smf.ols('rev ~ MktRF + SMB + HML + RMW + CMA + mom', data=ret).fit().summary()"
   ]
  },
  {
   "cell_type": "code",
   "execution_count": 69,
   "metadata": {
    "scrolled": true,
    "slideshow": {
     "slide_type": "subslide"
    }
   },
   "outputs": [],
   "source": [
    "ret.drop(columns='mdate', inplace = True)"
   ]
  },
  {
   "cell_type": "code",
   "execution_count": 70,
   "metadata": {
    "slideshow": {
     "slide_type": "fragment"
    }
   },
   "outputs": [
    {
     "data": {
      "text/plain": [
       "<Axes: xlabel='date'>"
      ]
     },
     "execution_count": 70,
     "metadata": {},
     "output_type": "execute_result"
    },
    {
     "data": {
      "image/png": "[encoded data removed]",
      "text/plain": [
       "<Figure size 1000x600 with 1 Axes>"
      ]
     },
     "metadata": {},
     "output_type": "display_data"
    }
   ],
   "source": [
    "np.log(1+ret).cumsum().plot()"
   ]
  },
  {
   "cell_type": "markdown",
   "metadata": {
    "slideshow": {
     "slide_type": "slide"
    }
   },
   "source": [
    "## Optimal Portfolio"
   ]
  },
  {
   "cell_type": "code",
   "execution_count": 71,
   "metadata": {
    "slideshow": {
     "slide_type": "subslide"
    }
   },
   "outputs": [
    {
     "name": "stdout",
     "output_type": "stream",
     "text": [
      "Market portfolio returns: \n",
      " date\n",
      "1970-10-30   -0.0228\n",
      "1970-11-30    0.0460\n",
      "1970-12-31    0.0572\n",
      "1971-01-29    0.0484\n",
      "1971-02-26    0.0141\n",
      "               ...  \n",
      "2024-08-30    0.0161\n",
      "2024-09-30    0.0174\n",
      "2024-10-31   -0.0097\n",
      "2024-11-29    0.0651\n",
      "2024-12-31   -0.0317\n",
      "Name: MktRF, Length: 651, dtype: float64\n",
      "\n",
      "Market portfolio SR:  0.4820652878475234\n",
      "\n"
     ]
    }
   ],
   "source": [
    "print('Market portfolio returns: \\n', ret['MktRF'], end='\\n\\n')\n",
    "print('Market portfolio SR: ', \n",
    "      np.sqrt(12) * ret['MktRF'].mean()/ret['MktRF'].std(), end='\\n\\n')"
   ]
  },
  {
   "cell_type": "code",
   "execution_count": 72,
   "metadata": {
    "slideshow": {
     "slide_type": "subslide"
    }
   },
   "outputs": [
    {
     "name": "stdout",
     "output_type": "stream",
     "text": [
      "Optimal portfolio weights: \n",
      " [ 5.26533932  2.5125464  -2.20158413  9.39546995 12.43998166]\n",
      "\n",
      "Optimal portfolio returns: \n",
      " date\n",
      "1970-10-30    0.215559\n",
      "1970-11-30    0.438391\n",
      "1970-12-31    0.415718\n",
      "1971-01-29    0.236745\n",
      "1971-02-26    0.123749\n",
      "                ...   \n",
      "2024-08-30    0.204787\n",
      "2024-09-30    0.094424\n",
      "2024-10-31   -0.094304\n",
      "2024-11-29   -0.052135\n",
      "2024-12-31   -0.165042\n",
      "Length: 651, dtype: float64\n",
      "\n",
      "Optimal portfolio SR:  1.0640216782656\n",
      "\n"
     ]
    }
   ],
   "source": [
    "Sigma = ret[['MktRF', 'SMB', 'HML', 'RMW', 'CMA']].cov()\n",
    "mu = ret[['MktRF', 'SMB', 'HML', 'RMW', 'CMA']].mean()\n",
    "\n",
    "w_mve = np.dot(np.linalg.inv(Sigma), mu)\n",
    "print('Optimal portfolio weights: \\n', w_mve, end='\\n\\n')\n",
    "r_mve = (ret[['MktRF', 'SMB', 'HML', 'RMW', 'CMA']]* w_mve).sum(axis=1)\n",
    "print('Optimal portfolio returns: \\n', r_mve, end='\\n\\n')\n",
    "print('Optimal portfolio SR: ', \n",
    "      np.sqrt(12) * r_mve.mean()/r_mve.std(), end='\\n\\n')"
   ]
  },
  {
   "cell_type": "code",
   "execution_count": 73,
   "metadata": {
    "slideshow": {
     "slide_type": "subslide"
    }
   },
   "outputs": [
    {
     "name": "stdout",
     "output_type": "stream",
     "text": [
      "Optimal portfolio weights: \n",
      " [ 5.84171162  2.60818207 -0.34718679  8.75601943 10.83810902  3.52480611]\n",
      "\n",
      "Optimal portfolio returns: \n",
      " date\n",
      "1970-10-30    0.448527\n",
      "1970-11-30    0.540497\n",
      "1970-12-31    0.385934\n",
      "1971-01-29    0.058357\n",
      "1971-02-26    0.131094\n",
      "                ...   \n",
      "2024-08-30    0.325328\n",
      "2024-09-30    0.031314\n",
      "2024-10-31   -0.012976\n",
      "2024-11-29    0.030831\n",
      "2024-12-31   -0.266622\n",
      "Length: 651, dtype: float64\n",
      "\n",
      "Optimal portfolio SR:  1.1679121218038633\n",
      "\n"
     ]
    }
   ],
   "source": [
    "Sigma_mom = ret[['MktRF', 'SMB', 'HML', 'RMW', 'CMA', 'mom']].cov()\n",
    "mu_mom = ret[['MktRF', 'SMB', 'HML', 'RMW', 'CMA', 'mom']].mean()\n",
    "\n",
    "w_mve_mom = np.dot(np.linalg.inv(Sigma_mom), mu_mom)\n",
    "print('Optimal portfolio weights: \\n', w_mve_mom, end='\\n\\n')\n",
    "r_mve_mom = (ret[['MktRF', 'SMB', 'HML', 'RMW', 'CMA', 'mom']]* w_mve_mom).sum(axis=1)\n",
    "print('Optimal portfolio returns: \\n', r_mve_mom, end='\\n\\n')\n",
    "print('Optimal portfolio SR: ', \n",
    "      np.sqrt(12) * r_mve_mom.mean()/r_mve_mom.std(), end='\\n\\n')"
   ]
  }
 ],
 "metadata": {
  "celltoolbar": "Slideshow",
  "kernelspec": {
   "display_name": "Python 3 (ipykernel)",
   "language": "python",
   "name": "python3"
  },
  "language_info": {
   "codemirror_mode": {
    "name": "ipython",
    "version": 3
   },
   "file_extension": ".py",
   "mimetype": "text/x-python",
   "name": "python",
   "nbconvert_exporter": "python",
   "pygments_lexer": "ipython3",
   "version": "3.9.13"
  },
  "toc": {
   "base_numbering": 1,
   "nav_menu": {},
   "number_sections": true,
   "sideBar": true,
   "skip_h1_title": true,
   "title_cell": "Table of Contents",
   "title_sidebar": "Contents",
   "toc_cell": true,
   "toc_position": {},
   "toc_section_display": true,
   "toc_window_display": false
  }
 },
 "nbformat": 4,
 "nbformat_minor": 4
}
